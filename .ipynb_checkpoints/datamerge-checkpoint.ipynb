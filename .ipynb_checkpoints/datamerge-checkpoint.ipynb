{
 "cells": [
  {
   "cell_type": "code",
   "execution_count": 1,
   "metadata": {
    "collapsed": true
   },
   "outputs": [],
   "source": [
    "import numpy as np\n",
    "import pandas as pd\n",
    "import scipy.stats as stat\n",
    "import scipy.io as scipio\n",
    "import matplotlib.pyplot as plt\n",
    "%matplotlib inline\n",
    "import plotly as ly\n",
    "import datetime\n",
    "import mapbox\n",
    "import folium"
   ]
  },
  {
   "cell_type": "code",
   "execution_count": 2,
   "metadata": {
    "collapsed": true
   },
   "outputs": [],
   "source": [
    "## Load date and holiday data\n",
    "date_info = pd.DataFrame(pd.read_csv('data/date_info.csv'))\n",
    "## Load air data\n",
    "air_reserve = pd.DataFrame(pd.read_csv('data/air_reserve.csv'))\n",
    "air_store = pd.DataFrame(pd.read_csv('data/air_store_info.csv'))\n",
    "air_visit = pd.DataFrame(pd.read_csv('data/air_visit_data.csv'))\n",
    "## AirREGI Restaurants with Nearest Active Station - add second and third\n",
    "air_nearest_weather = pd.DataFrame(pd.read_csv('data/rrv-weather-data/air_store_info_with_nearest_active_station.csv'))\n",
    "## add second and third closest distances\n",
    "station_distances = pd.DataFrame(pd.read_csv('data/rrv-weather-data/air_station_distances.csv'))"
   ]
  },
  {
   "cell_type": "code",
   "execution_count": 3,
   "metadata": {},
   "outputs": [
    {
     "data": {
      "text/html": [
       "<div>\n",
       "<style>\n",
       "    .dataframe thead tr:only-child th {\n",
       "        text-align: right;\n",
       "    }\n",
       "\n",
       "    .dataframe thead th {\n",
       "        text-align: left;\n",
       "    }\n",
       "\n",
       "    .dataframe tbody tr th {\n",
       "        vertical-align: top;\n",
       "    }\n",
       "</style>\n",
       "<table border=\"1\" class=\"dataframe\">\n",
       "  <thead>\n",
       "    <tr style=\"text-align: right;\">\n",
       "      <th></th>\n",
       "      <th>calendar_date</th>\n",
       "      <th>day_of_week</th>\n",
       "      <th>holiday_flg</th>\n",
       "    </tr>\n",
       "  </thead>\n",
       "  <tbody>\n",
       "    <tr>\n",
       "      <th>0</th>\n",
       "      <td>2016-01-01</td>\n",
       "      <td>Friday</td>\n",
       "      <td>1</td>\n",
       "    </tr>\n",
       "    <tr>\n",
       "      <th>1</th>\n",
       "      <td>2016-01-02</td>\n",
       "      <td>Saturday</td>\n",
       "      <td>1</td>\n",
       "    </tr>\n",
       "    <tr>\n",
       "      <th>2</th>\n",
       "      <td>2016-01-03</td>\n",
       "      <td>Sunday</td>\n",
       "      <td>1</td>\n",
       "    </tr>\n",
       "    <tr>\n",
       "      <th>3</th>\n",
       "      <td>2016-01-04</td>\n",
       "      <td>Monday</td>\n",
       "      <td>0</td>\n",
       "    </tr>\n",
       "    <tr>\n",
       "      <th>4</th>\n",
       "      <td>2016-01-05</td>\n",
       "      <td>Tuesday</td>\n",
       "      <td>0</td>\n",
       "    </tr>\n",
       "  </tbody>\n",
       "</table>\n",
       "</div>"
      ],
      "text/plain": [
       "  calendar_date day_of_week  holiday_flg\n",
       "0    2016-01-01      Friday            1\n",
       "1    2016-01-02    Saturday            1\n",
       "2    2016-01-03      Sunday            1\n",
       "3    2016-01-04      Monday            0\n",
       "4    2016-01-05     Tuesday            0"
      ]
     },
     "execution_count": 3,
     "metadata": {},
     "output_type": "execute_result"
    }
   ],
   "source": [
    "date_info.head()"
   ]
  },
  {
   "cell_type": "markdown",
   "metadata": {},
   "source": [
    "## Restaurant Data \n",
    "\n",
    "3 closest weather stations, genre, latlong, and area name"
   ]
  },
  {
   "cell_type": "code",
   "execution_count": 4,
   "metadata": {},
   "outputs": [
    {
     "data": {
      "text/html": [
       "<div>\n",
       "<style>\n",
       "    .dataframe thead tr:only-child th {\n",
       "        text-align: right;\n",
       "    }\n",
       "\n",
       "    .dataframe thead th {\n",
       "        text-align: left;\n",
       "    }\n",
       "\n",
       "    .dataframe tbody tr th {\n",
       "        vertical-align: top;\n",
       "    }\n",
       "</style>\n",
       "<table border=\"1\" class=\"dataframe\">\n",
       "  <thead>\n",
       "    <tr style=\"text-align: right;\">\n",
       "      <th></th>\n",
       "      <th>air_store_id</th>\n",
       "      <th>air_genre_name</th>\n",
       "      <th>air_area_name</th>\n",
       "      <th>latitude</th>\n",
       "      <th>longitude</th>\n",
       "      <th>latitude_str</th>\n",
       "      <th>longitude_str</th>\n",
       "      <th>station_id</th>\n",
       "      <th>station_latitude</th>\n",
       "      <th>station_longitude</th>\n",
       "      <th>station_vincenty</th>\n",
       "      <th>station_great_circle</th>\n",
       "    </tr>\n",
       "    <tr>\n",
       "      <th>air_store_id</th>\n",
       "      <th></th>\n",
       "      <th></th>\n",
       "      <th></th>\n",
       "      <th></th>\n",
       "      <th></th>\n",
       "      <th></th>\n",
       "      <th></th>\n",
       "      <th></th>\n",
       "      <th></th>\n",
       "      <th></th>\n",
       "      <th></th>\n",
       "      <th></th>\n",
       "    </tr>\n",
       "  </thead>\n",
       "  <tbody>\n",
       "    <tr>\n",
       "      <th>air_0f0cdeee6c9bf3d7</th>\n",
       "      <td>air_0f0cdeee6c9bf3d7</td>\n",
       "      <td>Italian/French</td>\n",
       "      <td>Hyōgo-ken Kōbe-shi Kumoidōri</td>\n",
       "      <td>34.695124</td>\n",
       "      <td>135.197852</td>\n",
       "      <td>\"34.6951242\"</td>\n",
       "      <td>\"135.1978525\"</td>\n",
       "      <td>hyogo__kobe-kana__koube</td>\n",
       "      <td>34.696667</td>\n",
       "      <td>135.211667</td>\n",
       "      <td>1.277232</td>\n",
       "      <td>1.274882</td>\n",
       "    </tr>\n",
       "    <tr>\n",
       "      <th>air_7cc17a324ae5c7dc</th>\n",
       "      <td>air_7cc17a324ae5c7dc</td>\n",
       "      <td>Italian/French</td>\n",
       "      <td>Hyōgo-ken Kōbe-shi Kumoidōri</td>\n",
       "      <td>34.695124</td>\n",
       "      <td>135.197852</td>\n",
       "      <td>\"34.6951242\"</td>\n",
       "      <td>\"135.1978525\"</td>\n",
       "      <td>hyogo__kobe-kana__koube</td>\n",
       "      <td>34.696667</td>\n",
       "      <td>135.211667</td>\n",
       "      <td>1.277232</td>\n",
       "      <td>1.274882</td>\n",
       "    </tr>\n",
       "    <tr>\n",
       "      <th>air_fee8dcf4d619598e</th>\n",
       "      <td>air_fee8dcf4d619598e</td>\n",
       "      <td>Italian/French</td>\n",
       "      <td>Hyōgo-ken Kōbe-shi Kumoidōri</td>\n",
       "      <td>34.695124</td>\n",
       "      <td>135.197852</td>\n",
       "      <td>\"34.6951242\"</td>\n",
       "      <td>\"135.1978525\"</td>\n",
       "      <td>hyogo__kobe-kana__koube</td>\n",
       "      <td>34.696667</td>\n",
       "      <td>135.211667</td>\n",
       "      <td>1.277232</td>\n",
       "      <td>1.274882</td>\n",
       "    </tr>\n",
       "    <tr>\n",
       "      <th>air_a17f0778617c76e2</th>\n",
       "      <td>air_a17f0778617c76e2</td>\n",
       "      <td>Italian/French</td>\n",
       "      <td>Hyōgo-ken Kōbe-shi Kumoidōri</td>\n",
       "      <td>34.695124</td>\n",
       "      <td>135.197852</td>\n",
       "      <td>\"34.6951242\"</td>\n",
       "      <td>\"135.1978525\"</td>\n",
       "      <td>hyogo__kobe-kana__koube</td>\n",
       "      <td>34.696667</td>\n",
       "      <td>135.211667</td>\n",
       "      <td>1.277232</td>\n",
       "      <td>1.274882</td>\n",
       "    </tr>\n",
       "    <tr>\n",
       "      <th>air_83db5aff8f50478e</th>\n",
       "      <td>air_83db5aff8f50478e</td>\n",
       "      <td>Italian/French</td>\n",
       "      <td>Tōkyō-to Minato-ku Shibakōen</td>\n",
       "      <td>35.658068</td>\n",
       "      <td>139.751599</td>\n",
       "      <td>\"35.6580681\"</td>\n",
       "      <td>\"139.7515992\"</td>\n",
       "      <td>tokyo__tokyo-kana__tonokyo</td>\n",
       "      <td>35.691667</td>\n",
       "      <td>139.750000</td>\n",
       "      <td>3.730672</td>\n",
       "      <td>3.739835</td>\n",
       "    </tr>\n",
       "  </tbody>\n",
       "</table>\n",
       "</div>"
      ],
      "text/plain": [
       "                              air_store_id  air_genre_name  \\\n",
       "air_store_id                                                 \n",
       "air_0f0cdeee6c9bf3d7  air_0f0cdeee6c9bf3d7  Italian/French   \n",
       "air_7cc17a324ae5c7dc  air_7cc17a324ae5c7dc  Italian/French   \n",
       "air_fee8dcf4d619598e  air_fee8dcf4d619598e  Italian/French   \n",
       "air_a17f0778617c76e2  air_a17f0778617c76e2  Italian/French   \n",
       "air_83db5aff8f50478e  air_83db5aff8f50478e  Italian/French   \n",
       "\n",
       "                                     air_area_name   latitude   longitude  \\\n",
       "air_store_id                                                                \n",
       "air_0f0cdeee6c9bf3d7  Hyōgo-ken Kōbe-shi Kumoidōri  34.695124  135.197852   \n",
       "air_7cc17a324ae5c7dc  Hyōgo-ken Kōbe-shi Kumoidōri  34.695124  135.197852   \n",
       "air_fee8dcf4d619598e  Hyōgo-ken Kōbe-shi Kumoidōri  34.695124  135.197852   \n",
       "air_a17f0778617c76e2  Hyōgo-ken Kōbe-shi Kumoidōri  34.695124  135.197852   \n",
       "air_83db5aff8f50478e  Tōkyō-to Minato-ku Shibakōen  35.658068  139.751599   \n",
       "\n",
       "                      latitude_str  longitude_str                  station_id  \\\n",
       "air_store_id                                                                    \n",
       "air_0f0cdeee6c9bf3d7  \"34.6951242\"  \"135.1978525\"     hyogo__kobe-kana__koube   \n",
       "air_7cc17a324ae5c7dc  \"34.6951242\"  \"135.1978525\"     hyogo__kobe-kana__koube   \n",
       "air_fee8dcf4d619598e  \"34.6951242\"  \"135.1978525\"     hyogo__kobe-kana__koube   \n",
       "air_a17f0778617c76e2  \"34.6951242\"  \"135.1978525\"     hyogo__kobe-kana__koube   \n",
       "air_83db5aff8f50478e  \"35.6580681\"  \"139.7515992\"  tokyo__tokyo-kana__tonokyo   \n",
       "\n",
       "                      station_latitude  station_longitude  station_vincenty  \\\n",
       "air_store_id                                                                  \n",
       "air_0f0cdeee6c9bf3d7         34.696667         135.211667          1.277232   \n",
       "air_7cc17a324ae5c7dc         34.696667         135.211667          1.277232   \n",
       "air_fee8dcf4d619598e         34.696667         135.211667          1.277232   \n",
       "air_a17f0778617c76e2         34.696667         135.211667          1.277232   \n",
       "air_83db5aff8f50478e         35.691667         139.750000          3.730672   \n",
       "\n",
       "                      station_great_circle  \n",
       "air_store_id                                \n",
       "air_0f0cdeee6c9bf3d7              1.274882  \n",
       "air_7cc17a324ae5c7dc              1.274882  \n",
       "air_fee8dcf4d619598e              1.274882  \n",
       "air_a17f0778617c76e2              1.274882  \n",
       "air_83db5aff8f50478e              3.739835  "
      ]
     },
     "execution_count": 4,
     "metadata": {},
     "output_type": "execute_result"
    }
   ],
   "source": [
    "air_nearest_weather.head()\n",
    "air_byrestindex = air_nearest_weather.set_index(air_nearest_weather[\"air_store_id\"],drop=True)\n",
    "air_byrestindex.head()"
   ]
  },
  {
   "cell_type": "code",
   "execution_count": 5,
   "metadata": {
    "scrolled": true
   },
   "outputs": [
    {
     "data": {
      "text/plain": [
       "829"
      ]
     },
     "execution_count": 5,
     "metadata": {},
     "output_type": "execute_result"
    }
   ],
   "source": [
    "len(air_store)"
   ]
  },
  {
   "cell_type": "code",
   "execution_count": 6,
   "metadata": {},
   "outputs": [
    {
     "data": {
      "text/plain": [
       "829"
      ]
     },
     "execution_count": 6,
     "metadata": {},
     "output_type": "execute_result"
    }
   ],
   "source": [
    "len(air_nearest_weather)"
   ]
  },
  {
   "cell_type": "code",
   "execution_count": 7,
   "metadata": {
    "collapsed": true
   },
   "outputs": [],
   "source": [
    "station_latlong = station_distances[[\"station_id\", \"station_latitude\", \"station_longitude\"]]\n",
    "# station_latlong = station_latlong.set_index(station_latlong[\"station_id\"])\n",
    "# station_latlong.head()"
   ]
  },
  {
   "cell_type": "code",
   "execution_count": 8,
   "metadata": {},
   "outputs": [
    {
     "name": "stderr",
     "output_type": "stream",
     "text": [
      "/Users/derin/anaconda/lib/python3.6/site-packages/ipykernel_launcher.py:5: SettingWithCopyWarning:\n",
      "\n",
      "\n",
      "A value is trying to be set on a copy of a slice from a DataFrame.\n",
      "Try using .loc[row_indexer,col_indexer] = value instead\n",
      "\n",
      "See the caveats in the documentation: http://pandas.pydata.org/pandas-docs/stable/indexing.html#indexing-view-versus-copy\n",
      "\n"
     ]
    }
   ],
   "source": [
    "from vincenty import vincenty\n",
    "\n",
    "station_lats = np.array(station_latlong[\"station_latitude\"])\n",
    "station_longs = np.array(station_latlong[\"station_longitude\"])\n",
    "station_latlong[\"latlong_m\"] = list(np.vstack((station_lats, station_longs)).T)"
   ]
  },
  {
   "cell_type": "code",
   "execution_count": 9,
   "metadata": {
    "collapsed": true
   },
   "outputs": [],
   "source": [
    "rest_lats = np.array(air_nearest_weather[\"latitude\"])\n",
    "rest_longs = np.array(air_nearest_weather[\"longitude\"])\n",
    "air_nearest_weather[\"latlong_m\"] = list(np.vstack((rest_lats, rest_longs)).T)"
   ]
  },
  {
   "cell_type": "code",
   "execution_count": 10,
   "metadata": {},
   "outputs": [
    {
     "name": "stderr",
     "output_type": "stream",
     "text": [
      "/Users/derin/anaconda/lib/python3.6/site-packages/ipykernel_launcher.py:1: SettingWithCopyWarning:\n",
      "\n",
      "\n",
      "A value is trying to be set on a copy of a slice from a DataFrame.\n",
      "Try using .loc[row_indexer,col_indexer] = value instead\n",
      "\n",
      "See the caveats in the documentation: http://pandas.pydata.org/pandas-docs/stable/indexing.html#indexing-view-versus-copy\n",
      "\n"
     ]
    }
   ],
   "source": [
    "station_latlong[\"air_fee8dcf4d619598e\"] = station_latlong[\"latlong_m\"].map(lambda x: vincenty(x, air_nearest_weather[air_nearest_weather[\"air_store_id\"]==\"air_fee8dcf4d619598e\"][\"latlong_m\"][air_nearest_weather[air_nearest_weather[\"air_store_id\"]==\"air_fee8dcf4d619598e\"][\"latlong_m\"].index[0]]))\n",
    "\n"
   ]
  },
  {
   "cell_type": "code",
   "execution_count": 11,
   "metadata": {
    "collapsed": true
   },
   "outputs": [],
   "source": [
    "# station_latlong[\"air_fee8dcf4d619598e\"] = station_latlong[\"latlong_m\"].map(lambda x: vincenty(x, air_nearest_weather[air_nearest_weather[\"air_store_id\"]==\"air_fee8dcf4d619598e\"][\"latlong_m\"][0]))\n",
    "\n",
    "def get_distances(station_data, rest_data):\n",
    "    for rest in list(rest_data[\"air_store_id\"])[-300:-1]:\n",
    "        station_data[rest] = station_data[\"latlong_m\"].\\\n",
    "        map(lambda x: vincenty(x, rest_data[rest_data[\"air_store_id\"]==rest][\"latlong_m\"][rest_data[rest_data[\"air_store_id\"]==rest][\"latlong_m\"].index[0]]))\n",
    "    return station_data\n",
    "\n",
    "# get_distances(station_latlong, air_nearest_weather)\n"
   ]
  },
  {
   "cell_type": "code",
   "execution_count": 12,
   "metadata": {},
   "outputs": [
    {
     "name": "stderr",
     "output_type": "stream",
     "text": [
      "/Users/derin/anaconda/lib/python3.6/site-packages/ipykernel_launcher.py:1: SettingWithCopyWarning:\n",
      "\n",
      "\n",
      "A value is trying to be set on a copy of a slice from a DataFrame.\n",
      "Try using .loc[row_indexer,col_indexer] = value instead\n",
      "\n",
      "See the caveats in the documentation: http://pandas.pydata.org/pandas-docs/stable/indexing.html#indexing-view-versus-copy\n",
      "\n"
     ]
    }
   ],
   "source": [
    "station_latlong[\"air_c8fe396d6c46275d\"] = station_latlong[\"latlong_m\"].\\\n",
    "        map(lambda x: vincenty(x, air_nearest_weather[air_nearest_weather[\"air_store_id\"]==\"air_c8fe396d6c46275d\"][\"latlong_m\"][air_nearest_weather[air_nearest_weather[\"air_store_id\"]==\"air_c8fe396d6c46275d\"][\"latlong_m\"].index[0]]))\n",
    "# station_latlong[\"air_0f0cdeee6c9bf3d7\"] = station_latlong[\"latlong_m\"].\\\n",
    "#         map(lambda x: vincenty(x, air_nearest_weather[air_nearest_weather[\"air_store_id\"]==\"air_0f0cdeee6c9bf3d7\"][\"latlong_m\"][air_nearest_weather[air_nearest_weather[\"air_store_id\"]==\"air_0f0cdeee6c9bf3d7\"][\"latlong_m\"].index[0]]))\n",
    "    \n",
    "    "
   ]
  },
  {
   "cell_type": "code",
   "execution_count": 13,
   "metadata": {
    "collapsed": true
   },
   "outputs": [],
   "source": [
    "station_latlong.to_csv(\"station_rest_distances.csv\")"
   ]
  },
  {
   "cell_type": "code",
   "execution_count": 15,
   "metadata": {},
   "outputs": [
    {
     "data": {
      "text/html": [
       "<div>\n",
       "<style>\n",
       "    .dataframe thead tr:only-child th {\n",
       "        text-align: right;\n",
       "    }\n",
       "\n",
       "    .dataframe thead th {\n",
       "        text-align: left;\n",
       "    }\n",
       "\n",
       "    .dataframe tbody tr th {\n",
       "        vertical-align: top;\n",
       "    }\n",
       "</style>\n",
       "<table border=\"1\" class=\"dataframe\">\n",
       "  <thead>\n",
       "    <tr style=\"text-align: right;\">\n",
       "      <th></th>\n",
       "      <th>Unnamed: 0</th>\n",
       "      <th>station_id</th>\n",
       "      <th>station_latitude</th>\n",
       "      <th>station_longitude</th>\n",
       "      <th>latlong_m</th>\n",
       "      <th>air_fee8dcf4d619598e</th>\n",
       "      <th>air_c8fe396d6c46275d</th>\n",
       "    </tr>\n",
       "  </thead>\n",
       "  <tbody>\n",
       "    <tr>\n",
       "      <th>0</th>\n",
       "      <td>0</td>\n",
       "      <td>aichi__ai-xi-kana__isaai</td>\n",
       "      <td>35.216667</td>\n",
       "      <td>136.698333</td>\n",
       "      <td>[  35.21666667  136.69833333]</td>\n",
       "      <td>148.760474</td>\n",
       "      <td>957.952227</td>\n",
       "    </tr>\n",
       "    <tr>\n",
       "      <th>1</th>\n",
       "      <td>1</td>\n",
       "      <td>aichi__aki-kana__azo</td>\n",
       "      <td>35.078333</td>\n",
       "      <td>137.413333</td>\n",
       "      <td>[  35.07833333  137.41333333]</td>\n",
       "      <td>206.934423</td>\n",
       "      <td>948.288407</td>\n",
       "    </tr>\n",
       "    <tr>\n",
       "      <th>2</th>\n",
       "      <td>2</td>\n",
       "      <td>aichi__centrair-kana__centrair</td>\n",
       "      <td>34.858333</td>\n",
       "      <td>136.805000</td>\n",
       "      <td>[  34.85833333  136.805     ]</td>\n",
       "      <td>148.219287</td>\n",
       "      <td>990.897462</td>\n",
       "    </tr>\n",
       "    <tr>\n",
       "      <th>3</th>\n",
       "      <td>3</td>\n",
       "      <td>aichi__chapel-mountain-kana__chaw-yama</td>\n",
       "      <td>35.220000</td>\n",
       "      <td>137.660000</td>\n",
       "      <td>[  35.22  137.66]</td>\n",
       "      <td>232.290097</td>\n",
       "      <td>926.006772</td>\n",
       "    </tr>\n",
       "    <tr>\n",
       "      <th>4</th>\n",
       "      <td>4</td>\n",
       "      <td>aichi__gamagori-kana__gamagori</td>\n",
       "      <td>34.845000</td>\n",
       "      <td>137.216667</td>\n",
       "      <td>[  34.845       137.21666667]</td>\n",
       "      <td>185.551102</td>\n",
       "      <td>978.751268</td>\n",
       "    </tr>\n",
       "  </tbody>\n",
       "</table>\n",
       "</div>"
      ],
      "text/plain": [
       "   Unnamed: 0                              station_id  station_latitude  \\\n",
       "0           0                aichi__ai-xi-kana__isaai         35.216667   \n",
       "1           1                    aichi__aki-kana__azo         35.078333   \n",
       "2           2          aichi__centrair-kana__centrair         34.858333   \n",
       "3           3  aichi__chapel-mountain-kana__chaw-yama         35.220000   \n",
       "4           4          aichi__gamagori-kana__gamagori         34.845000   \n",
       "\n",
       "   station_longitude                      latlong_m  air_fee8dcf4d619598e  \\\n",
       "0         136.698333  [  35.21666667  136.69833333]            148.760474   \n",
       "1         137.413333  [  35.07833333  137.41333333]            206.934423   \n",
       "2         136.805000  [  34.85833333  136.805     ]            148.219287   \n",
       "3         137.660000              [  35.22  137.66]            232.290097   \n",
       "4         137.216667  [  34.845       137.21666667]            185.551102   \n",
       "\n",
       "   air_c8fe396d6c46275d  \n",
       "0            957.952227  \n",
       "1            948.288407  \n",
       "2            990.897462  \n",
       "3            926.006772  \n",
       "4            978.751268  "
      ]
     },
     "execution_count": 15,
     "metadata": {},
     "output_type": "execute_result"
    }
   ],
   "source": [
    "## filter this\n",
    "station_rest_latlong = pd.DataFrame(pd.read_csv(\"station_rest_distances.csv\"))\n",
    "station_rest_latlong.head()"
   ]
  },
  {
   "cell_type": "code",
   "execution_count": 16,
   "metadata": {
    "collapsed": true
   },
   "outputs": [],
   "source": [
    "air_nearest_weather = air_nearest_weather.drop(air_nearest_weather[\"air_store_id\"]==\"air_c8fe396d6c46275d\",0)"
   ]
  },
  {
   "cell_type": "code",
   "execution_count": 21,
   "metadata": {},
   "outputs": [],
   "source": [
    "# air_nearest_weather = air_nearest_weather.drop(air_nearest_weather[\"air_store_id\"]==\"air_a17f0778617c76e2\",0)"
   ]
  },
  {
   "cell_type": "code",
   "execution_count": 20,
   "metadata": {},
   "outputs": [],
   "source": [
    "# Sort the data by the station distances (entries) for each restaurant ID (columns), find the corresponding station\n",
    "# air_nearest_weather[\"1_close_st\"] = air_nearest_weather[\"air_store_id\"].map(lambda x: list(station_rest_latlong[[\"station_id\",str(x)]].sort_values(by=x)[\"station_id\"])[0])\n",
    "# air_nearest_weather[\"2_close_st\"] = air_nearest_weather[\"air_store_id\"].map(lambda x: list(station_rest_latlong[[\"station_id\",str(x)]].sort_values(by=x)[\"station_id\"])[1])\n",
    "# air_nearest_weather[\"3_close_st\"] = air_nearest_weather[\"air_store_id\"].map(lambda x: list(station_rest_latlong[[\"station_id\",str(x)]].sort_values(by=x)[\"station_id\"])[2])\n",
    "# air_nearest_weather[\"4_close_st\"] = air_nearest_weather[\"air_store_id\"].map(lambda x: list(station_rest_latlong[[\"station_id\",str(x)]].sort_values(by=x)[\"station_id\"])[3])\n",
    "# air_nearest_weather[\"5_close_st\"] = air_nearest_weather[\"air_store_id\"].map(lambda x: list(station_rest_latlong[[\"station_id\",str(x)]].sort_values(by=x)[\"station_id\"])[4])"
   ]
  },
  {
   "cell_type": "code",
   "execution_count": 116,
   "metadata": {
    "collapsed": true
   },
   "outputs": [],
   "source": [
    "air_nearest_weather = air_nearest_weather.drop([\"latitude_str\", \"longitude_str\", \"station_id\", \"station_latitude\",\\\n",
    "                                               \"station_longitude\", \"station_vincenty\", \"station_great_circle\"], 1)"
   ]
  },
  {
   "cell_type": "code",
   "execution_count": 118,
   "metadata": {
    "collapsed": true
   },
   "outputs": [],
   "source": [
    "air_nearest_weather.to_csv(\"air_nearest_weather_processed.csv\")"
   ]
  },
  {
   "cell_type": "markdown",
   "metadata": {},
   "source": [
    "## You can start reading the restaurant data from here"
   ]
  },
  {
   "cell_type": "code",
   "execution_count": 22,
   "metadata": {
    "collapsed": true
   },
   "outputs": [],
   "source": [
    "air_rest_with_stations = pd.DataFrame(pd.read_csv(\"air_nearest_weather_processed.csv\"))"
   ]
  },
  {
   "cell_type": "code",
   "execution_count": 23,
   "metadata": {
    "collapsed": true
   },
   "outputs": [],
   "source": [
    "air_rest_with_stations = air_rest_with_stations.set_index(\"air_store_id\")"
   ]
  },
  {
   "cell_type": "markdown",
   "metadata": {},
   "source": [
    "## Daily Visitor Data\n",
    "\n",
    "indexed by rest_id and days. Cols include day_of_week, holiday_indicator, weather_measurements (multiple TBD), num_visitors"
   ]
  },
  {
   "cell_type": "code",
   "execution_count": 24,
   "metadata": {},
   "outputs": [
    {
     "data": {
      "text/html": [
       "<div>\n",
       "<style>\n",
       "    .dataframe thead tr:only-child th {\n",
       "        text-align: right;\n",
       "    }\n",
       "\n",
       "    .dataframe thead th {\n",
       "        text-align: left;\n",
       "    }\n",
       "\n",
       "    .dataframe tbody tr th {\n",
       "        vertical-align: top;\n",
       "    }\n",
       "</style>\n",
       "<table border=\"1\" class=\"dataframe\">\n",
       "  <thead>\n",
       "    <tr style=\"text-align: right;\">\n",
       "      <th></th>\n",
       "      <th>air_store_id</th>\n",
       "      <th>visit_date</th>\n",
       "      <th>visitors</th>\n",
       "    </tr>\n",
       "  </thead>\n",
       "  <tbody>\n",
       "    <tr>\n",
       "      <th>0</th>\n",
       "      <td>air_ba937bf13d40fb24</td>\n",
       "      <td>2016-01-13</td>\n",
       "      <td>25</td>\n",
       "    </tr>\n",
       "    <tr>\n",
       "      <th>1</th>\n",
       "      <td>air_ba937bf13d40fb24</td>\n",
       "      <td>2016-01-14</td>\n",
       "      <td>32</td>\n",
       "    </tr>\n",
       "    <tr>\n",
       "      <th>2</th>\n",
       "      <td>air_ba937bf13d40fb24</td>\n",
       "      <td>2016-01-15</td>\n",
       "      <td>29</td>\n",
       "    </tr>\n",
       "    <tr>\n",
       "      <th>3</th>\n",
       "      <td>air_ba937bf13d40fb24</td>\n",
       "      <td>2016-01-16</td>\n",
       "      <td>22</td>\n",
       "    </tr>\n",
       "    <tr>\n",
       "      <th>4</th>\n",
       "      <td>air_ba937bf13d40fb24</td>\n",
       "      <td>2016-01-18</td>\n",
       "      <td>6</td>\n",
       "    </tr>\n",
       "  </tbody>\n",
       "</table>\n",
       "</div>"
      ],
      "text/plain": [
       "           air_store_id  visit_date  visitors\n",
       "0  air_ba937bf13d40fb24  2016-01-13        25\n",
       "1  air_ba937bf13d40fb24  2016-01-14        32\n",
       "2  air_ba937bf13d40fb24  2016-01-15        29\n",
       "3  air_ba937bf13d40fb24  2016-01-16        22\n",
       "4  air_ba937bf13d40fb24  2016-01-18         6"
      ]
     },
     "execution_count": 24,
     "metadata": {},
     "output_type": "execute_result"
    }
   ],
   "source": [
    "air_visit.head()"
   ]
  },
  {
   "cell_type": "code",
   "execution_count": 25,
   "metadata": {
    "collapsed": true
   },
   "outputs": [],
   "source": [
    "date_info = date_info.set_index(\"calendar_date\")"
   ]
  },
  {
   "cell_type": "code",
   "execution_count": 26,
   "metadata": {
    "collapsed": true
   },
   "outputs": [],
   "source": [
    "air_visit[\"day_of_week\"] = air_visit[\"visit_date\"].map(lambda x: date_info[\"day_of_week\"][x])\n",
    "air_visit[\"holiday_flg\"] = air_visit[\"visit_date\"].map(lambda x: date_info[\"holiday_flg\"][x])"
   ]
  },
  {
   "cell_type": "code",
   "execution_count": 27,
   "metadata": {
    "collapsed": true
   },
   "outputs": [],
   "source": [
    "air_visit = air_visit[air_visit[\"air_store_id\"]!=\"air_7cc17a324ae5c7dc\"]"
   ]
  },
  {
   "cell_type": "code",
   "execution_count": 28,
   "metadata": {
    "collapsed": true
   },
   "outputs": [],
   "source": [
    "air_visit = air_visit[air_visit[\"air_store_id\"]!=\"air_0f0cdeee6c9bf3d7\"]"
   ]
  },
  {
   "cell_type": "code",
   "execution_count": 29,
   "metadata": {
    "collapsed": true
   },
   "outputs": [],
   "source": [
    "air_visit[\"1_closest_stat\"] = air_visit[\"air_store_id\"].map(lambda x: air_rest_with_stations[\"1_close_st\"][x])\n",
    "air_visit[\"2_closest_stat\"] = air_visit[\"air_store_id\"].map(lambda x: air_rest_with_stations[\"2_close_st\"][x])\n",
    "air_visit[\"3_closest_stat\"] = air_visit[\"air_store_id\"].map(lambda x: air_rest_with_stations[\"3_close_st\"][x])\n",
    "air_visit[\"4_closest_stat\"] = air_visit[\"air_store_id\"].map(lambda x: air_rest_with_stations[\"4_close_st\"][x])\n",
    "air_visit[\"5_closest_stat\"] = air_visit[\"air_store_id\"].map(lambda x: air_rest_with_stations[\"5_close_st\"][x])"
   ]
  },
  {
   "cell_type": "code",
   "execution_count": 32,
   "metadata": {},
   "outputs": [
    {
     "data": {
      "text/html": [
       "<div>\n",
       "<style>\n",
       "    .dataframe thead tr:only-child th {\n",
       "        text-align: right;\n",
       "    }\n",
       "\n",
       "    .dataframe thead th {\n",
       "        text-align: left;\n",
       "    }\n",
       "\n",
       "    .dataframe tbody tr th {\n",
       "        vertical-align: top;\n",
       "    }\n",
       "</style>\n",
       "<table border=\"1\" class=\"dataframe\">\n",
       "  <thead>\n",
       "    <tr style=\"text-align: right;\">\n",
       "      <th></th>\n",
       "      <th>Unnamed: 0</th>\n",
       "      <th>air_store_id</th>\n",
       "      <th>visit_date</th>\n",
       "      <th>visitors</th>\n",
       "      <th>day_of_week</th>\n",
       "      <th>holiday_flg</th>\n",
       "      <th>1_closest_stat</th>\n",
       "      <th>2_closest_stat</th>\n",
       "      <th>3_closest_stat</th>\n",
       "      <th>4_closest_stat</th>\n",
       "      <th>5_closest_stat</th>\n",
       "    </tr>\n",
       "  </thead>\n",
       "  <tbody>\n",
       "    <tr>\n",
       "      <th>0</th>\n",
       "      <td>2</td>\n",
       "      <td>air_ba937bf13d40fb24</td>\n",
       "      <td>2016-01-15</td>\n",
       "      <td>29</td>\n",
       "      <td>Friday</td>\n",
       "      <td>0</td>\n",
       "      <td>tokyo__tokyo-kana__tonokyo</td>\n",
       "      <td>tokyo__edogawa-seaside-kana__edgawawinkai</td>\n",
       "      <td>tokyo__haneda-kana__haneda</td>\n",
       "      <td>tokyo__setagaya-kana__setagaya</td>\n",
       "      <td>kanagawa__hiyoshi-kana__hiyoshi</td>\n",
       "    </tr>\n",
       "    <tr>\n",
       "      <th>1</th>\n",
       "      <td>3</td>\n",
       "      <td>air_ba937bf13d40fb24</td>\n",
       "      <td>2016-01-16</td>\n",
       "      <td>22</td>\n",
       "      <td>Saturday</td>\n",
       "      <td>0</td>\n",
       "      <td>tokyo__tokyo-kana__tonokyo</td>\n",
       "      <td>tokyo__edogawa-seaside-kana__edgawawinkai</td>\n",
       "      <td>tokyo__haneda-kana__haneda</td>\n",
       "      <td>tokyo__setagaya-kana__setagaya</td>\n",
       "      <td>kanagawa__hiyoshi-kana__hiyoshi</td>\n",
       "    </tr>\n",
       "    <tr>\n",
       "      <th>2</th>\n",
       "      <td>4</td>\n",
       "      <td>air_ba937bf13d40fb24</td>\n",
       "      <td>2016-01-18</td>\n",
       "      <td>6</td>\n",
       "      <td>Monday</td>\n",
       "      <td>0</td>\n",
       "      <td>tokyo__tokyo-kana__tonokyo</td>\n",
       "      <td>tokyo__edogawa-seaside-kana__edgawawinkai</td>\n",
       "      <td>tokyo__haneda-kana__haneda</td>\n",
       "      <td>tokyo__setagaya-kana__setagaya</td>\n",
       "      <td>kanagawa__hiyoshi-kana__hiyoshi</td>\n",
       "    </tr>\n",
       "    <tr>\n",
       "      <th>3</th>\n",
       "      <td>5</td>\n",
       "      <td>air_ba937bf13d40fb24</td>\n",
       "      <td>2016-01-19</td>\n",
       "      <td>9</td>\n",
       "      <td>Tuesday</td>\n",
       "      <td>0</td>\n",
       "      <td>tokyo__tokyo-kana__tonokyo</td>\n",
       "      <td>tokyo__edogawa-seaside-kana__edgawawinkai</td>\n",
       "      <td>tokyo__haneda-kana__haneda</td>\n",
       "      <td>tokyo__setagaya-kana__setagaya</td>\n",
       "      <td>kanagawa__hiyoshi-kana__hiyoshi</td>\n",
       "    </tr>\n",
       "    <tr>\n",
       "      <th>4</th>\n",
       "      <td>6</td>\n",
       "      <td>air_ba937bf13d40fb24</td>\n",
       "      <td>2016-01-20</td>\n",
       "      <td>31</td>\n",
       "      <td>Wednesday</td>\n",
       "      <td>0</td>\n",
       "      <td>tokyo__tokyo-kana__tonokyo</td>\n",
       "      <td>tokyo__edogawa-seaside-kana__edgawawinkai</td>\n",
       "      <td>tokyo__haneda-kana__haneda</td>\n",
       "      <td>tokyo__setagaya-kana__setagaya</td>\n",
       "      <td>kanagawa__hiyoshi-kana__hiyoshi</td>\n",
       "    </tr>\n",
       "  </tbody>\n",
       "</table>\n",
       "</div>"
      ],
      "text/plain": [
       "   Unnamed: 0          air_store_id  visit_date  visitors day_of_week  \\\n",
       "0           2  air_ba937bf13d40fb24  2016-01-15        29      Friday   \n",
       "1           3  air_ba937bf13d40fb24  2016-01-16        22    Saturday   \n",
       "2           4  air_ba937bf13d40fb24  2016-01-18         6      Monday   \n",
       "3           5  air_ba937bf13d40fb24  2016-01-19         9     Tuesday   \n",
       "4           6  air_ba937bf13d40fb24  2016-01-20        31   Wednesday   \n",
       "\n",
       "   holiday_flg              1_closest_stat  \\\n",
       "0            0  tokyo__tokyo-kana__tonokyo   \n",
       "1            0  tokyo__tokyo-kana__tonokyo   \n",
       "2            0  tokyo__tokyo-kana__tonokyo   \n",
       "3            0  tokyo__tokyo-kana__tonokyo   \n",
       "4            0  tokyo__tokyo-kana__tonokyo   \n",
       "\n",
       "                              2_closest_stat              3_closest_stat  \\\n",
       "0  tokyo__edogawa-seaside-kana__edgawawinkai  tokyo__haneda-kana__haneda   \n",
       "1  tokyo__edogawa-seaside-kana__edgawawinkai  tokyo__haneda-kana__haneda   \n",
       "2  tokyo__edogawa-seaside-kana__edgawawinkai  tokyo__haneda-kana__haneda   \n",
       "3  tokyo__edogawa-seaside-kana__edgawawinkai  tokyo__haneda-kana__haneda   \n",
       "4  tokyo__edogawa-seaside-kana__edgawawinkai  tokyo__haneda-kana__haneda   \n",
       "\n",
       "                   4_closest_stat                   5_closest_stat  \n",
       "0  tokyo__setagaya-kana__setagaya  kanagawa__hiyoshi-kana__hiyoshi  \n",
       "1  tokyo__setagaya-kana__setagaya  kanagawa__hiyoshi-kana__hiyoshi  \n",
       "2  tokyo__setagaya-kana__setagaya  kanagawa__hiyoshi-kana__hiyoshi  \n",
       "3  tokyo__setagaya-kana__setagaya  kanagawa__hiyoshi-kana__hiyoshi  \n",
       "4  tokyo__setagaya-kana__setagaya  kanagawa__hiyoshi-kana__hiyoshi  "
      ]
     },
     "execution_count": 32,
     "metadata": {},
     "output_type": "execute_result"
    }
   ],
   "source": [
    "air_visit_try = pd.DataFrame(pd.read_csv(\"air_visit_wdates.csv\"))\n",
    "air_visit_try.head()"
   ]
  },
  {
   "cell_type": "markdown",
   "metadata": {},
   "source": [
    "## Merging for Weather Measurements\n",
    "\n",
    "Will take into account the data of all restaurants as separate DataFrames, then merge each of them with the measurements of corresponding stations, then concat all of them along with the y-axis"
   ]
  },
  {
   "cell_type": "code",
   "execution_count": 33,
   "metadata": {
    "collapsed": true
   },
   "outputs": [],
   "source": [
    "## trying\n",
    "air_ba937bf13d40fb24_df = (pd.DataFrame(air_visit_try[air_visit_try[\"air_store_id\"]==\"air_ba937bf13d40fb24\"]).\\\n",
    "join(pd.DataFrame(pd.read_csv(\"data/rrv-weather-data/measurements/\"+list(air_visit_try[air_visit_try[\"air_store_id\"]==\"air_ba937bf13d40fb24\"][\"1_closest_stat\"])[-1] + \".csv\")).set_index(\"calendar_date\"),\\\n",
    "    on=\"visit_date\", how=\"left\",lsuffix=\"0\", rsuffix=\"1\")).drop([\"Unnamed: 00\", \"Unnamed: 01\"],1)"
   ]
  },
  {
   "cell_type": "code",
   "execution_count": 35,
   "metadata": {
    "collapsed": true
   },
   "outputs": [],
   "source": [
    "def merge_rest_with_weather_data(data, rest_id):\n",
    "    merged_data = (((((pd.DataFrame(air_visit_try[air_visit_try[\"air_store_id\"]==rest_id]).\\\n",
    "join(pd.DataFrame(pd.read_csv(\"data/rrv-weather-data/measurements/\"+list(pd.DataFrame(data[data[\"air_store_id\"]==rest_id])[\"1_closest_stat\"])[-1] + \".csv\")).set_index(\"calendar_date\"),\\\n",
    "    on=\"visit_date\", how=\"left\",lsuffix=\"0\", rsuffix=\"1\")).drop([\"Unnamed: 00\", \"Unnamed: 01\"],1)).join(pd.DataFrame(pd.read_csv(\"data/rrv-weather-data/measurements/\"+list(pd.DataFrame(data[data[\"air_store_id\"]==rest_id])[\"1_closest_stat\"])[-1]  + \".csv\")).set_index(\"calendar_date\"),\\\n",
    "    on=\"visit_date\", how=\"left\",lsuffix=\"1\", rsuffix=\"2\").drop([\"Unnamed: 0\"],1)).join(pd.DataFrame(pd.read_csv(\"data/rrv-weather-data/measurements/\"+list(pd.DataFrame(data[data[\"air_store_id\"]==rest_id])[\"1_closest_stat\"])[-1] + \".csv\")).set_index(\"calendar_date\"),\\\n",
    "    on=\"visit_date\", how=\"left\",lsuffix=\"2\", rsuffix=\"3\").drop([\"Unnamed: 0\"],1)).join(pd.DataFrame(pd.read_csv(\"data/rrv-weather-data/measurements/\"+list(pd.DataFrame(data[data[\"air_store_id\"]==rest_id])[\"1_closest_stat\"])[-1] + \".csv\")).set_index(\"calendar_date\"),\\\n",
    "    on=\"visit_date\", how=\"left\",lsuffix=\"3\", rsuffix=\"4\").drop([\"Unnamed: 0\"],1)).join(pd.DataFrame(pd.read_csv(\"data/rrv-weather-data/measurements/\"+list(pd.DataFrame(data[data[\"air_store_id\"]==rest_id])[\"1_closest_stat\"])[-1] + \".csv\")).set_index(\"calendar_date\"),\\\n",
    "    on=\"visit_date\", how=\"left\",lsuffix=\"4\", rsuffix=\"5\").drop([\"Unnamed: 0\"],1)\n",
    "    return merged_data"
   ]
  },
  {
   "cell_type": "code",
   "execution_count": 36,
   "metadata": {
    "collapsed": true
   },
   "outputs": [],
   "source": [
    "## merging the separate dataframes that belong to each restaurant with corresponding 5 weather\n",
    "## center measurement data, and writing all in a dictionary where \"rest_id\" = dataframe object\n",
    "df_weather = {}\n",
    "for rest in list(set(air_visit_try[\"air_store_id\"])):\n",
    "    df_weather[rest] = merge_rest_with_weather_data(air_visit_try, rest)"
   ]
  },
  {
   "cell_type": "code",
   "execution_count": 37,
   "metadata": {},
   "outputs": [
    {
     "data": {
      "text/html": [
       "<div>\n",
       "<style>\n",
       "    .dataframe thead tr:only-child th {\n",
       "        text-align: right;\n",
       "    }\n",
       "\n",
       "    .dataframe thead th {\n",
       "        text-align: left;\n",
       "    }\n",
       "\n",
       "    .dataframe tbody tr th {\n",
       "        vertical-align: top;\n",
       "    }\n",
       "</style>\n",
       "<table border=\"1\" class=\"dataframe\">\n",
       "  <thead>\n",
       "    <tr style=\"text-align: right;\">\n",
       "      <th></th>\n",
       "      <th>air_store_id</th>\n",
       "      <th>visit_date</th>\n",
       "      <th>visitors</th>\n",
       "      <th>day_of_week</th>\n",
       "      <th>holiday_flg</th>\n",
       "      <th>1_closest_stat</th>\n",
       "      <th>2_closest_stat</th>\n",
       "      <th>3_closest_stat</th>\n",
       "      <th>4_closest_stat</th>\n",
       "      <th>5_closest_stat</th>\n",
       "      <th>...</th>\n",
       "      <th>high_temperature</th>\n",
       "      <th>low_temperature</th>\n",
       "      <th>hours_sunlight</th>\n",
       "      <th>solar_radiation</th>\n",
       "      <th>avg_wind_speed</th>\n",
       "      <th>avg_vapor_pressure</th>\n",
       "      <th>avg_local_pressure</th>\n",
       "      <th>avg_humidity</th>\n",
       "      <th>avg_sea_pressure</th>\n",
       "      <th>cloud_cover</th>\n",
       "    </tr>\n",
       "  </thead>\n",
       "  <tbody>\n",
       "    <tr>\n",
       "      <th>103696</th>\n",
       "      <td>air_c8a657c8c5c93d69</td>\n",
       "      <td>2016-01-05</td>\n",
       "      <td>3</td>\n",
       "      <td>Tuesday</td>\n",
       "      <td>0</td>\n",
       "      <td>fukuoka__fukuoka-kana__fukuoka</td>\n",
       "      <td>fukuoka__hakata-kana__hakata</td>\n",
       "      <td>fukuoka__sayara-wakayama-kana__sawarawakiyama</td>\n",
       "      <td>fukuoka__dazaifu-kana__dasaif</td>\n",
       "      <td>fukuoka__sasaguri-kana__sasaburi____2009-11-20</td>\n",
       "      <td>...</td>\n",
       "      <td>12.4</td>\n",
       "      <td>8.3</td>\n",
       "      <td>0.0</td>\n",
       "      <td>1.46</td>\n",
       "      <td>1.5</td>\n",
       "      <td>9.2</td>\n",
       "      <td>1021.2</td>\n",
       "      <td>76</td>\n",
       "      <td>1023.0</td>\n",
       "      <td>10.0</td>\n",
       "    </tr>\n",
       "    <tr>\n",
       "      <th>103697</th>\n",
       "      <td>air_c8a657c8c5c93d69</td>\n",
       "      <td>2016-01-06</td>\n",
       "      <td>2</td>\n",
       "      <td>Wednesday</td>\n",
       "      <td>0</td>\n",
       "      <td>fukuoka__fukuoka-kana__fukuoka</td>\n",
       "      <td>fukuoka__hakata-kana__hakata</td>\n",
       "      <td>fukuoka__sayara-wakayama-kana__sawarawakiyama</td>\n",
       "      <td>fukuoka__dazaifu-kana__dasaif</td>\n",
       "      <td>fukuoka__sasaguri-kana__sasaburi____2009-11-20</td>\n",
       "      <td>...</td>\n",
       "      <td>12.0</td>\n",
       "      <td>7.2</td>\n",
       "      <td>0.0</td>\n",
       "      <td>4.40</td>\n",
       "      <td>1.4</td>\n",
       "      <td>8.9</td>\n",
       "      <td>1019.4</td>\n",
       "      <td>76</td>\n",
       "      <td>1021.2</td>\n",
       "      <td>9.5</td>\n",
       "    </tr>\n",
       "    <tr>\n",
       "      <th>103698</th>\n",
       "      <td>air_c8a657c8c5c93d69</td>\n",
       "      <td>2016-01-08</td>\n",
       "      <td>10</td>\n",
       "      <td>Friday</td>\n",
       "      <td>0</td>\n",
       "      <td>fukuoka__fukuoka-kana__fukuoka</td>\n",
       "      <td>fukuoka__hakata-kana__hakata</td>\n",
       "      <td>fukuoka__sayara-wakayama-kana__sawarawakiyama</td>\n",
       "      <td>fukuoka__dazaifu-kana__dasaif</td>\n",
       "      <td>fukuoka__sasaguri-kana__sasaburi____2009-11-20</td>\n",
       "      <td>...</td>\n",
       "      <td>8.8</td>\n",
       "      <td>6.7</td>\n",
       "      <td>0.0</td>\n",
       "      <td>1.44</td>\n",
       "      <td>3.8</td>\n",
       "      <td>6.1</td>\n",
       "      <td>1019.2</td>\n",
       "      <td>59</td>\n",
       "      <td>1021.1</td>\n",
       "      <td>10.0</td>\n",
       "    </tr>\n",
       "    <tr>\n",
       "      <th>103699</th>\n",
       "      <td>air_c8a657c8c5c93d69</td>\n",
       "      <td>2016-01-09</td>\n",
       "      <td>2</td>\n",
       "      <td>Saturday</td>\n",
       "      <td>0</td>\n",
       "      <td>fukuoka__fukuoka-kana__fukuoka</td>\n",
       "      <td>fukuoka__hakata-kana__hakata</td>\n",
       "      <td>fukuoka__sayara-wakayama-kana__sawarawakiyama</td>\n",
       "      <td>fukuoka__dazaifu-kana__dasaif</td>\n",
       "      <td>fukuoka__sasaguri-kana__sasaburi____2009-11-20</td>\n",
       "      <td>...</td>\n",
       "      <td>9.1</td>\n",
       "      <td>7.1</td>\n",
       "      <td>0.2</td>\n",
       "      <td>3.80</td>\n",
       "      <td>2.4</td>\n",
       "      <td>5.8</td>\n",
       "      <td>1022.1</td>\n",
       "      <td>54</td>\n",
       "      <td>1024.0</td>\n",
       "      <td>10.0</td>\n",
       "    </tr>\n",
       "    <tr>\n",
       "      <th>103700</th>\n",
       "      <td>air_c8a657c8c5c93d69</td>\n",
       "      <td>2016-01-12</td>\n",
       "      <td>13</td>\n",
       "      <td>Tuesday</td>\n",
       "      <td>0</td>\n",
       "      <td>fukuoka__fukuoka-kana__fukuoka</td>\n",
       "      <td>fukuoka__hakata-kana__hakata</td>\n",
       "      <td>fukuoka__sayara-wakayama-kana__sawarawakiyama</td>\n",
       "      <td>fukuoka__dazaifu-kana__dasaif</td>\n",
       "      <td>fukuoka__sasaguri-kana__sasaburi____2009-11-20</td>\n",
       "      <td>...</td>\n",
       "      <td>9.2</td>\n",
       "      <td>5.0</td>\n",
       "      <td>0.4</td>\n",
       "      <td>3.27</td>\n",
       "      <td>2.2</td>\n",
       "      <td>6.9</td>\n",
       "      <td>1017.2</td>\n",
       "      <td>67</td>\n",
       "      <td>1019.1</td>\n",
       "      <td>8.0</td>\n",
       "    </tr>\n",
       "  </tbody>\n",
       "</table>\n",
       "<p>5 rows × 65 columns</p>\n",
       "</div>"
      ],
      "text/plain": [
       "                air_store_id  visit_date  visitors day_of_week  holiday_flg  \\\n",
       "103696  air_c8a657c8c5c93d69  2016-01-05         3     Tuesday            0   \n",
       "103697  air_c8a657c8c5c93d69  2016-01-06         2   Wednesday            0   \n",
       "103698  air_c8a657c8c5c93d69  2016-01-08        10      Friday            0   \n",
       "103699  air_c8a657c8c5c93d69  2016-01-09         2    Saturday            0   \n",
       "103700  air_c8a657c8c5c93d69  2016-01-12        13     Tuesday            0   \n",
       "\n",
       "                        1_closest_stat                2_closest_stat  \\\n",
       "103696  fukuoka__fukuoka-kana__fukuoka  fukuoka__hakata-kana__hakata   \n",
       "103697  fukuoka__fukuoka-kana__fukuoka  fukuoka__hakata-kana__hakata   \n",
       "103698  fukuoka__fukuoka-kana__fukuoka  fukuoka__hakata-kana__hakata   \n",
       "103699  fukuoka__fukuoka-kana__fukuoka  fukuoka__hakata-kana__hakata   \n",
       "103700  fukuoka__fukuoka-kana__fukuoka  fukuoka__hakata-kana__hakata   \n",
       "\n",
       "                                       3_closest_stat  \\\n",
       "103696  fukuoka__sayara-wakayama-kana__sawarawakiyama   \n",
       "103697  fukuoka__sayara-wakayama-kana__sawarawakiyama   \n",
       "103698  fukuoka__sayara-wakayama-kana__sawarawakiyama   \n",
       "103699  fukuoka__sayara-wakayama-kana__sawarawakiyama   \n",
       "103700  fukuoka__sayara-wakayama-kana__sawarawakiyama   \n",
       "\n",
       "                       4_closest_stat  \\\n",
       "103696  fukuoka__dazaifu-kana__dasaif   \n",
       "103697  fukuoka__dazaifu-kana__dasaif   \n",
       "103698  fukuoka__dazaifu-kana__dasaif   \n",
       "103699  fukuoka__dazaifu-kana__dasaif   \n",
       "103700  fukuoka__dazaifu-kana__dasaif   \n",
       "\n",
       "                                        5_closest_stat     ...       \\\n",
       "103696  fukuoka__sasaguri-kana__sasaburi____2009-11-20     ...        \n",
       "103697  fukuoka__sasaguri-kana__sasaburi____2009-11-20     ...        \n",
       "103698  fukuoka__sasaguri-kana__sasaburi____2009-11-20     ...        \n",
       "103699  fukuoka__sasaguri-kana__sasaburi____2009-11-20     ...        \n",
       "103700  fukuoka__sasaguri-kana__sasaburi____2009-11-20     ...        \n",
       "\n",
       "        high_temperature  low_temperature  hours_sunlight  solar_radiation  \\\n",
       "103696              12.4              8.3             0.0             1.46   \n",
       "103697              12.0              7.2             0.0             4.40   \n",
       "103698               8.8              6.7             0.0             1.44   \n",
       "103699               9.1              7.1             0.2             3.80   \n",
       "103700               9.2              5.0             0.4             3.27   \n",
       "\n",
       "        avg_wind_speed  avg_vapor_pressure  avg_local_pressure  avg_humidity  \\\n",
       "103696             1.5                 9.2              1021.2            76   \n",
       "103697             1.4                 8.9              1019.4            76   \n",
       "103698             3.8                 6.1              1019.2            59   \n",
       "103699             2.4                 5.8              1022.1            54   \n",
       "103700             2.2                 6.9              1017.2            67   \n",
       "\n",
       "        avg_sea_pressure  cloud_cover  \n",
       "103696            1023.0         10.0  \n",
       "103697            1021.2          9.5  \n",
       "103698            1021.1         10.0  \n",
       "103699            1024.0         10.0  \n",
       "103700            1019.1          8.0  \n",
       "\n",
       "[5 rows x 65 columns]"
      ]
     },
     "execution_count": 37,
     "metadata": {},
     "output_type": "execute_result"
    }
   ],
   "source": [
    "df_weather[\"air_c8a657c8c5c93d69\"].head()"
   ]
  },
  {
   "cell_type": "code",
   "execution_count": 38,
   "metadata": {
    "collapsed": true
   },
   "outputs": [],
   "source": [
    "def select_weather_measurement(data):\n",
    "    \"\"\"Given a rest_id dataframe merged with weather measurements, \n",
    "    selects the weather measurement columns starting from the closest station.\n",
    "    Final measurement features should include at least one column from each each \n",
    "    variable below: \n",
    "    - low_temperature,\n",
    "    - high_temperature,\n",
    "    - avg_temperature,\n",
    "    - hours_sunlight.\"\"\"\n",
    "    ## The measurement types that are wanted in the data (from at least one station)\n",
    "    required_measurements = [\"hours_sunlight\", \"low_temperature\", \"high_temperature\",\\\n",
    "                            \"avg_temperature\", \"precipitation\"]\n",
    "    ## The core columns that should not be dropped before returning the data\n",
    "    ## These are not weather measurements.\n",
    "    core_columns = [\"air_store_id\", \"visit_date\", \"visitors\", \"day_of_week\",\\\n",
    "                   \"holiday_flg\", \"1_closest_stat\", \"2_closest_stat\", \"3_closest_stat\",\\\n",
    "                   \"4_closest_stat\", \"5_closest_stat\"]\n",
    "    \n",
    "    ## Initialize the list of column names that will be kept in the data\n",
    "    for col in required_measurements:\n",
    "        ## Check if the closest station has that measurement\n",
    "        if col + \"1\" in data.columns.values:\n",
    "            core_columns.append(str(col + \"1\"))\n",
    "        else:\n",
    "            if col + \"2\" in data.columns.values:\n",
    "                core_columns.append(str(col + \"2\"))\n",
    "            else:\n",
    "                if col + \"3\" in data.columns.values:\n",
    "                    core_columns.append(str(col + \"3\"))\n",
    "                else:\n",
    "                    if col + \"4\" in data.columns.values:\n",
    "                        core_columns.append(str(col + \"4\"))\n",
    "                    else:\n",
    "                        if col in data.columns.values:\n",
    "                            core_columns.append(col)\n",
    "\n",
    "    return data[core_columns]"
   ]
  },
  {
   "cell_type": "code",
   "execution_count": 39,
   "metadata": {
    "collapsed": true
   },
   "outputs": [],
   "source": [
    "selected = {}\n",
    "selected_all = {}\n",
    "for rest in list(df_weather.keys()):\n",
    "    selected[rest] = select_weather_measurement(df_weather[rest])\n",
    "    if (\"hours_sunlight\" or \"hours_sunlight1\" or \"hours_sunlight2\"or \"hours_sunlight3\" or \"hours_sunlight4\" in selected[rest].columns.values) and (\"low_temperature\" or \"low_temperature1\" or \"low_temperature2\" or \"low_temperature3\"or \"low_temperature4\" in selected[rest].columns.values)\\\n",
    "    and (\"high_temperature\" or \"high_temperature1\" or \"high_temperature2\" or \"high_temperature3\" or \"high_temperature4\" in selected[rest].columns.values) and (\"avg_temperature\" or \"avg_temperature1\" or \"avg_temperature2\" or \"avg_temperature3\" or \"avg_temperature4\" in selected[rest].columns.values)\\\n",
    "    and (\"precipitation\" or \"precipitation1\" or \"precipitation2\" or \"precipitation3\" or \"precipitation4\" in selected[rest].columns.values):\n",
    "        selected_all[rest] = selected[rest]"
   ]
  },
  {
   "cell_type": "code",
   "execution_count": 40,
   "metadata": {},
   "outputs": [
    {
     "data": {
      "text/plain": [
       "827"
      ]
     },
     "execution_count": 40,
     "metadata": {},
     "output_type": "execute_result"
    }
   ],
   "source": [
    "len(selected_all.keys())"
   ]
  },
  {
   "cell_type": "code",
   "execution_count": 43,
   "metadata": {
    "collapsed": true
   },
   "outputs": [],
   "source": [
    "merged_data_final = pd.concat([select_weather_measurement(df_weather[rest]) for rest in df_weather.keys()])\n",
    "# select_weather_measurement(df_weather[\"air_ba937bf13d40fb24\"])\n",
    "merged_data_final.to_csv(\"merged_rest_data_weather_measurements.csv\")"
   ]
  },
  {
   "cell_type": "code",
   "execution_count": 44,
   "metadata": {},
   "outputs": [
    {
     "data": {
      "text/plain": [
       "Index(['1_closest_stat', '2_closest_stat', '3_closest_stat', '4_closest_stat',\n",
       "       '5_closest_stat', 'air_store_id', 'avg_temperature1', 'day_of_week',\n",
       "       'high_temperature1', 'holiday_flg', 'hours_sunlight1',\n",
       "       'low_temperature1', 'precipitation1', 'visit_date', 'visitors'],\n",
       "      dtype='object')"
      ]
     },
     "execution_count": 44,
     "metadata": {},
     "output_type": "execute_result"
    }
   ],
   "source": [
    "merged_data_final.columns"
   ]
  },
  {
   "cell_type": "code",
   "execution_count": null,
   "metadata": {
    "collapsed": true
   },
   "outputs": [],
   "source": []
  }
 ],
 "metadata": {
  "kernelspec": {
   "display_name": "Python 3",
   "language": "python",
   "name": "python3"
  },
  "language_info": {
   "codemirror_mode": {
    "name": "ipython",
    "version": 3
   },
   "file_extension": ".py",
   "mimetype": "text/x-python",
   "name": "python",
   "nbconvert_exporter": "python",
   "pygments_lexer": "ipython3",
   "version": "3.6.1"
  }
 },
 "nbformat": 4,
 "nbformat_minor": 2
}
