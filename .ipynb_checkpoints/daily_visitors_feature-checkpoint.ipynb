{
 "cells": [
  {
   "cell_type": "code",
   "execution_count": 4,
   "metadata": {
    "collapsed": true
   },
   "outputs": [],
   "source": [
    "import numpy as np\n",
    "import pandas as pd\n",
    "import scipy.stats as stat\n",
    "import scipy.io as scipio\n",
    "import matplotlib.pyplot as plt\n",
    "%matplotlib inline\n",
    "from datetime import datetime"
   ]
  },
  {
   "cell_type": "code",
   "execution_count": 5,
   "metadata": {},
   "outputs": [],
   "source": [
    "## read train & test data\n",
    "data_train = pd.DataFrame(pd.read_csv(\"data_train.csv\"))\n",
    "data_test = pd.DataFrame(pd.read_csv(\"data_test.csv\"))\n",
    "data_train = data_train.dropna(0)\n",
    "data_test = data_test.dropna(0)\n",
    "\n",
    "## index by visit_date column \n",
    "## the dates are not unique yet\n",
    "data_train = data_train.set_index(\"visit_date\", drop=True)\n",
    "data_test = data_test.set_index(\"visit_date\", drop=True)\n",
    "\n",
    "## convert the dates from string to datetime\n",
    "arima_dates_train = pd.Series(data_train.index.values).\\\n",
    "apply(lambda x: datetime.strptime(x, \"%Y-%m-%d\"))\n",
    "arima_dates_test = pd.Series(data_test.index.values).\\\n",
    "apply(lambda x: datetime.strptime(x, \"%Y-%m-%d\"))\n"
   ]
  },
  {
   "cell_type": "markdown",
   "metadata": {},
   "source": [
    "Finding the total number of visitors in any area on any given day that is listed in the data. "
   ]
  },
  {
   "cell_type": "code",
   "execution_count": 39,
   "metadata": {},
   "outputs": [],
   "source": [
    "unique_dates = sorted(list(set(arima_dates_train))) + sorted(list(set(arima_dates_test)))\n"
   ]
  },
  {
   "cell_type": "code",
   "execution_count": 37,
   "metadata": {},
   "outputs": [],
   "source": [
    "## list of area names that correspond to indicator cols\n",
    "## in the data\n",
    "\n",
    "area_names = data_train.columns.values[30:]"
   ]
  },
  {
   "cell_type": "code",
   "execution_count": 13,
   "metadata": {
    "collapsed": true
   },
   "outputs": [],
   "source": [
    "def area_indicator(data):\n",
    "    for area in area_names:\n",
    "        data[area] = data[area].apply(lambda x: int(x != 0))\n",
    "    return data"
   ]
  },
  {
   "cell_type": "code",
   "execution_count": 11,
   "metadata": {},
   "outputs": [
    {
     "name": "stderr",
     "output_type": "stream",
     "text": [
      "/Users/derin/anaconda/lib/python3.6/site-packages/ipykernel_launcher.py:2: SettingWithCopyWarning: \n",
      "A value is trying to be set on a copy of a slice from a DataFrame.\n",
      "Try using .loc[row_indexer,col_indexer] = value instead\n",
      "\n",
      "See the caveats in the documentation: http://pandas.pydata.org/pandas-docs/stable/indexing.html#indexing-view-versus-copy\n",
      "  \n"
     ]
    }
   ],
   "source": [
    "date_area_matrix = data_train[area_names]\n",
    "date_area_matrix[\"visitors\"] = pd.Series(data_train[\"visitors\"])"
   ]
  },
  {
   "cell_type": "code",
   "execution_count": 14,
   "metadata": {},
   "outputs": [
    {
     "data": {
      "text/plain": [
       "array([[  358275.,   609450.,   838100., ...,  5012875.,  3759975.,\n",
       "         4484175.],\n",
       "       [       0.,        0.,        0., ...,        0.,        0.,\n",
       "               0.],\n",
       "       [  197262.,   335556.,   461448., ...,  2760030.,  2070198.,\n",
       "         2468934.],\n",
       "       ..., \n",
       "       [  204849.,   348462.,   479196., ...,  2866185.,  2149821.,\n",
       "         2563893.],\n",
       "       [  357432.,   608016.,   836128., ...,  5001080.,  3751128.,\n",
       "         4473624.],\n",
       "       [  358275.,   609450.,   838100., ...,  5012875.,  3759975.,\n",
       "         4484175.]])"
      ]
     },
     "execution_count": 14,
     "metadata": {},
     "output_type": "execute_result"
    }
   ],
   "source": [
    "date_area_bydaygroups = date_area_matrix.groupby\\\n",
    "(date_area_matrix.index).sum()\n",
    "\n",
    "date_area_bydaygroups = area_indicator(date_area_bydaygroups)\n",
    "\n",
    "area_date_matrix = np.array(date_area_bydaygroups[area_names].T)\n",
    "\n",
    "daily_visitors_col = np.array(date_area_bydaygroups[\"visitors\"])\n",
    "daily_visitors_col = np.array(len(daily_visitors_col)*[daily_visitors_col])\n",
    "\n",
    "## dim(area x day) matrix where each row entry corresponds\n",
    "## to a series of the TOTAL number of visitors for each date\n",
    "## in the index. \n",
    "## For example, entry_row(3)_col(4) shows the total number of\n",
    "## visitors in 3rd area on the 4th day. \n",
    "\n",
    "total_area_day = np.dot(area_date_matrix, daily_visitors_col)\n",
    "total_area_day"
   ]
  },
  {
   "cell_type": "code",
   "execution_count": 17,
   "metadata": {},
   "outputs": [
    {
     "name": "stderr",
     "output_type": "stream",
     "text": [
      "/Users/derin/anaconda/lib/python3.6/site-packages/ipykernel_launcher.py:2: SettingWithCopyWarning: \n",
      "A value is trying to be set on a copy of a slice from a DataFrame.\n",
      "Try using .loc[row_indexer,col_indexer] = value instead\n",
      "\n",
      "See the caveats in the documentation: http://pandas.pydata.org/pandas-docs/stable/indexing.html#indexing-view-versus-copy\n",
      "  \n"
     ]
    }
   ],
   "source": [
    "date_area_matrix_test = data_test[area_names]\n",
    "date_area_matrix_test[\"visitors\"] = pd.Series(data_test[\"visitors\"])"
   ]
  },
  {
   "cell_type": "code",
   "execution_count": 18,
   "metadata": {},
   "outputs": [
    {
     "data": {
      "text/plain": [
       "array([[ 564662.,  553108.,  757794., ...,  612309.,  845721.,  908102.],\n",
       "       [      0.,       0.,       0., ...,       0.,       0.,       0.],\n",
       "       [ 564662.,  553108.,  757794., ...,  612309.,  845721.,  908102.],\n",
       "       ..., \n",
       "       [ 564662.,  553108.,  757794., ...,  612309.,  845721.,  908102.],\n",
       "       [ 564662.,  553108.,  757794., ...,  612309.,  845721.,  908102.],\n",
       "       [ 564662.,  553108.,  757794., ...,  612309.,  845721.,  908102.]])"
      ]
     },
     "execution_count": 18,
     "metadata": {},
     "output_type": "execute_result"
    }
   ],
   "source": [
    "date_area_bydaygroups_test = date_area_matrix_test.groupby\\\n",
    "(date_area_matrix_test.index).sum()\n",
    "\n",
    "date_area_bydaygroups_test = area_indicator(date_area_bydaygroups_test)\n",
    "\n",
    "area_date_matrix_test = np.array(date_area_bydaygroups_test[area_names].T)\n",
    "\n",
    "daily_visitors_col_test = np.array(date_area_bydaygroups_test[\"visitors\"])\n",
    "daily_visitors_col_test = np.array(len(daily_visitors_col_test)*[daily_visitors_col_test])\n",
    "\n",
    "total_area_day_test = np.dot(area_date_matrix_test, daily_visitors_col_test)\n",
    "total_area_day_test"
   ]
  },
  {
   "cell_type": "code",
   "execution_count": 23,
   "metadata": {},
   "outputs": [
    {
     "data": {
      "text/plain": [
       "(30725, 132)"
      ]
     },
     "execution_count": 23,
     "metadata": {},
     "output_type": "execute_result"
    }
   ],
   "source": [
    "data_test.drop(\"Unnamed: 0.1\", 1).shape"
   ]
  },
  {
   "cell_type": "code",
   "execution_count": 24,
   "metadata": {},
   "outputs": [
    {
     "data": {
      "text/plain": [
       "(173703, 132)"
      ]
     },
     "execution_count": 24,
     "metadata": {},
     "output_type": "execute_result"
    }
   ],
   "source": [
    "data_train.shape"
   ]
  },
  {
   "cell_type": "markdown",
   "metadata": {},
   "source": [
    "## Trying with All of the Data"
   ]
  },
  {
   "cell_type": "code",
   "execution_count": 26,
   "metadata": {},
   "outputs": [],
   "source": [
    "data = pd.concat([data_train, data_test.drop(\"Unnamed: 0.1\", 1)], 0)"
   ]
  },
  {
   "cell_type": "code",
   "execution_count": 28,
   "metadata": {},
   "outputs": [
    {
     "data": {
      "text/plain": [
       "(204428, 132)"
      ]
     },
     "execution_count": 28,
     "metadata": {},
     "output_type": "execute_result"
    }
   ],
   "source": [
    "data.shape"
   ]
  },
  {
   "cell_type": "code",
   "execution_count": 29,
   "metadata": {},
   "outputs": [
    {
     "name": "stderr",
     "output_type": "stream",
     "text": [
      "/Users/derin/anaconda/lib/python3.6/site-packages/ipykernel_launcher.py:2: SettingWithCopyWarning: \n",
      "A value is trying to be set on a copy of a slice from a DataFrame.\n",
      "Try using .loc[row_indexer,col_indexer] = value instead\n",
      "\n",
      "See the caveats in the documentation: http://pandas.pydata.org/pandas-docs/stable/indexing.html#indexing-view-versus-copy\n",
      "  \n"
     ]
    }
   ],
   "source": [
    "date_area = data[area_names]\n",
    "date_area[\"visitors\"] = pd.Series(data[\"visitors\"])"
   ]
  },
  {
   "cell_type": "code",
   "execution_count": 30,
   "metadata": {},
   "outputs": [
    {
     "data": {
      "text/plain": [
       "array([[  402954.,   685452.,   942616., ...,  5522334.,  7627446.,\n",
       "         8190052.],\n",
       "       [       0.,        0.,        0., ...,        0.,        0.,\n",
       "               0.],\n",
       "       [  241941.,   411558.,   565964., ...,  3315711.,  4579659.,\n",
       "         4917458.],\n",
       "       ..., \n",
       "       [  249528.,   424464.,   583712., ...,  3419688.,  4723272.,\n",
       "         5071664.],\n",
       "       [  402111.,   684018.,   940644., ...,  5510781.,  7611489.,\n",
       "         8172918.],\n",
       "       [  402954.,   685452.,   942616., ...,  5522334.,  7627446.,\n",
       "         8190052.]])"
      ]
     },
     "execution_count": 30,
     "metadata": {},
     "output_type": "execute_result"
    }
   ],
   "source": [
    "date_area_bydays = date_area.groupby\\\n",
    "(date_area.index).sum()\n",
    "\n",
    "date_area_bydays = area_indicator(date_area_bydays)\n",
    "\n",
    "area_date = np.array(date_area_bydays[area_names].T)\n",
    "\n",
    "daily_visitors = np.array(date_area_bydays[\"visitors\"])\n",
    "daily_visitors = np.array(len(daily_visitors)*[daily_visitors])\n",
    "\n",
    "## dim(area x day) matrix where each row entry corresponds\n",
    "## to a series of the TOTAL number of visitors for each date\n",
    "## in the index. \n",
    "## For example, entry_row(3)_col(4) shows the total number of\n",
    "## visitors in 3rd area on the 4th day. \n",
    "\n",
    "area_day_visit = np.dot(area_date, daily_visitors)\n",
    "area_day_visit"
   ]
  },
  {
   "cell_type": "code",
   "execution_count": 40,
   "metadata": {},
   "outputs": [],
   "source": [
    "area_day_visit_df = pd.DataFrame(area_day_visit, index=area_names,\\\n",
    "                                 columns=unique_dates)"
   ]
  },
  {
   "cell_type": "code",
   "execution_count": 43,
   "metadata": {},
   "outputs": [],
   "source": [
    "# area_day_visit_df.to_csv(\"TOTAL_VISITORS_AREA_DATE_FULLDATA.csv\")"
   ]
  },
  {
   "cell_type": "markdown",
   "metadata": {},
   "source": [
    "## Doing the Same for Cuisine Processing "
   ]
  },
  {
   "cell_type": "code",
   "execution_count": 46,
   "metadata": {},
   "outputs": [],
   "source": [
    "genre_names = data.columns.values[16:30]"
   ]
  },
  {
   "cell_type": "code",
   "execution_count": 47,
   "metadata": {},
   "outputs": [
    {
     "name": "stderr",
     "output_type": "stream",
     "text": [
      "/Users/derin/anaconda/lib/python3.6/site-packages/ipykernel_launcher.py:2: SettingWithCopyWarning: \n",
      "A value is trying to be set on a copy of a slice from a DataFrame.\n",
      "Try using .loc[row_indexer,col_indexer] = value instead\n",
      "\n",
      "See the caveats in the documentation: http://pandas.pydata.org/pandas-docs/stable/indexing.html#indexing-view-versus-copy\n",
      "  \n"
     ]
    }
   ],
   "source": [
    "date_genre = data[genre_names]\n",
    "date_genre[\"visitors\"] = pd.Series(data[\"visitors\"])"
   ]
  },
  {
   "cell_type": "code",
   "execution_count": 48,
   "metadata": {
    "collapsed": true
   },
   "outputs": [],
   "source": [
    "def genre_indicator(data):\n",
    "    for genre in genre_names:\n",
    "        data[genre] = data[genre].apply(lambda x: int(x != 0))\n",
    "    return data"
   ]
  },
  {
   "cell_type": "code",
   "execution_count": 49,
   "metadata": {},
   "outputs": [
    {
     "data": {
      "text/plain": [
       "array([[  284934.,   484692.,   666536., ...,  3904914.,  5393466.,\n",
       "         5791292.],\n",
       "       [  402954.,   685452.,   942616., ...,  5522334.,  7627446.,\n",
       "         8190052.],\n",
       "       [  402954.,   685452.,   942616., ...,  5522334.,  7627446.,\n",
       "         8190052.],\n",
       "       ..., \n",
       "       [  402954.,   685452.,   942616., ...,  5522334.,  7627446.,\n",
       "         8190052.],\n",
       "       [  402954.,   685452.,   942616., ...,  5522334.,  7627446.,\n",
       "         8190052.],\n",
       "       [  402111.,   684018.,   940644., ...,  5510781.,  7611489.,\n",
       "         8172918.]])"
      ]
     },
     "execution_count": 49,
     "metadata": {},
     "output_type": "execute_result"
    }
   ],
   "source": [
    "date_genre_bydays = date_genre.groupby\\\n",
    "(date_genre.index).sum()\n",
    "\n",
    "date_genre_bydays = genre_indicator(date_genre_bydays)\n",
    "\n",
    "genre_date = np.array(date_genre_bydays[genre_names].T)\n",
    "\n",
    "daily_visitors = np.array(date_genre_bydays[\"visitors\"])\n",
    "daily_visitors = np.array(len(daily_visitors)*[daily_visitors])\n",
    "\n",
    "## dim(genre x day) matrix where each row entry corresponds\n",
    "## to a series of the TOTAL number of visitors for each date\n",
    "## in the index. \n",
    "## For example, entry_row(3)_col(4) shows the total number of\n",
    "## visitors in 3rd area on the 4th day. \n",
    "\n",
    "genre_day_visit = np.dot(genre_date, daily_visitors)\n",
    "genre_day_visit"
   ]
  },
  {
   "cell_type": "code",
   "execution_count": 50,
   "metadata": {},
   "outputs": [
    {
     "data": {
      "text/plain": [
       "(14, 478)"
      ]
     },
     "execution_count": 50,
     "metadata": {},
     "output_type": "execute_result"
    }
   ],
   "source": [
    "genre_day_visit.shape ## great"
   ]
  },
  {
   "cell_type": "code",
   "execution_count": null,
   "metadata": {
    "collapsed": true
   },
   "outputs": [],
   "source": []
  }
 ],
 "metadata": {
  "kernelspec": {
   "display_name": "Python 3",
   "language": "python",
   "name": "python3"
  },
  "language_info": {
   "codemirror_mode": {
    "name": "ipython",
    "version": 3
   },
   "file_extension": ".py",
   "mimetype": "text/x-python",
   "name": "python",
   "nbconvert_exporter": "python",
   "pygments_lexer": "ipython3",
   "version": "3.6.1"
  }
 },
 "nbformat": 4,
 "nbformat_minor": 2
}
