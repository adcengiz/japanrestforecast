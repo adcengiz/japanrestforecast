{
 "cells": [
  {
   "cell_type": "code",
   "execution_count": 1,
   "metadata": {
    "collapsed": true
   },
   "outputs": [],
   "source": [
    "import pandas as pd\n",
    "import numpy as np\n",
    "import matplotlib.pyplot as plt\n",
    "from sklearn.preprocessing import LabelEncoder\n",
    "from sklearn.preprocessing import CategoricalEncoder\n",
    "import category_encoders as ce\n",
    "import collections as col\n",
    "from cvxpy import *"
   ]
  },
  {
   "cell_type": "code",
   "execution_count": 2,
   "metadata": {
    "collapsed": true
   },
   "outputs": [],
   "source": [
    "#Load air data\n",
    "air_store = pd.read_csv('data/air_store_info.csv')\n",
    "#Load other data\n",
    "date_info = pd.read_csv('data/date_info.csv')\n",
    "# drop'day of week' in date_info; rename its column name\n",
    "date_info_drop = date_info.drop('day_of_week', axis=1)\n",
    "date_info_drop.columns.values[0]='visit_date'\n",
    "\n",
    "store_id = pd.read_csv('data/store_id_relation.csv', index_col='air_store_id')\n",
    "air_visit1 = pd.read_csv('data/air_visit_data.csv')\n",
    "air_reserve1 = pd.read_csv('data/air_reserve.csv')"
   ]
  },
  {
   "cell_type": "code",
   "execution_count": 3,
   "metadata": {
    "collapsed": true
   },
   "outputs": [],
   "source": [
    "weather_data1 = pd.read_csv('data/merged_rest_data_weather_measurements.csv')"
   ]
  },
  {
   "cell_type": "code",
   "execution_count": 4,
   "metadata": {},
   "outputs": [],
   "source": [
    "weather_data = weather_data1[['air_store_id', \n",
    "                              'visit_date', \n",
    "                              'avg_temperature1', \n",
    "                              'high_temperature1', \n",
    "                              'low_temperature1',\n",
    "                              'hours_sunlight1']]"
   ]
  },
  {
   "cell_type": "code",
   "execution_count": 7,
   "metadata": {},
   "outputs": [
    {
     "data": {
      "text/plain": [
       "air_store_id             0\n",
       "visit_date               0\n",
       "avg_temperature1     29329\n",
       "high_temperature1    30393\n",
       "low_temperature1     30393\n",
       "hours_sunlight1      47092\n",
       "dtype: int64"
      ]
     },
     "execution_count": 7,
     "metadata": {},
     "output_type": "execute_result"
    }
   ],
   "source": [
    "weather_data.isnull().sum()"
   ]
  },
  {
   "cell_type": "code",
   "execution_count": 8,
   "metadata": {
    "scrolled": true
   },
   "outputs": [
    {
     "name": "stderr",
     "output_type": "stream",
     "text": [
      "/anaconda/lib/python3.6/site-packages/ipykernel_launcher.py:4: SettingWithCopyWarning: \n",
      "A value is trying to be set on a copy of a slice from a DataFrame.\n",
      "Try using .loc[row_indexer,col_indexer] = value instead\n",
      "\n",
      "See the caveats in the documentation: http://pandas.pydata.org/pandas-docs/stable/indexing.html#indexing-view-versus-copy\n",
      "  after removing the cwd from sys.path.\n"
     ]
    }
   ],
   "source": [
    "# drop duplicates in air_reserve data, and sum according to dates\n",
    "air_reserve = air_reserve1[air_reserve1.duplicated()==False]\n",
    "#air_reserve.duplicated().sum()\n",
    "air_reserve['visit_datetime'] = air_reserve['visit_datetime'].apply(lambda _: _[:10])\n",
    "air_reserve = air_reserve.drop(['reserve_datetime'], axis=1)\\\n",
    "              .groupby(['air_store_id', 'visit_datetime'])['reserve_visitors']\\\n",
    "              .sum().reset_index().rename(columns = {'visit_datetime':'visit_date'})"
   ]
  },
  {
   "cell_type": "code",
   "execution_count": 9,
   "metadata": {},
   "outputs": [
    {
     "name": "stderr",
     "output_type": "stream",
     "text": [
      "/anaconda/lib/python3.6/site-packages/ipykernel_launcher.py:5: SettingWithCopyWarning: \n",
      "A value is trying to be set on a copy of a slice from a DataFrame.\n",
      "Try using .loc[row_indexer,col_indexer] = value instead\n",
      "\n",
      "See the caveats in the documentation: http://pandas.pydata.org/pandas-docs/stable/indexing.html#indexing-view-versus-copy\n",
      "  \"\"\"\n",
      "/anaconda/lib/python3.6/site-packages/ipykernel_launcher.py:6: SettingWithCopyWarning: \n",
      "A value is trying to be set on a copy of a slice from a DataFrame.\n",
      "Try using .loc[row_indexer,col_indexer] = value instead\n",
      "\n",
      "See the caveats in the documentation: http://pandas.pydata.org/pandas-docs/stable/indexing.html#indexing-view-versus-copy\n",
      "  \n"
     ]
    }
   ],
   "source": [
    "id_pool = list(set(air_visit1['air_store_id']))\n",
    "dictionary = {}\n",
    "for storeid in id_pool:\n",
    "    dictionary[storeid] = air_visit1.loc[air_visit1['air_store_id'] == storeid]\n",
    "    dictionary[storeid]['minus7days'] = dictionary[storeid]['visitors'].shift(7)\n",
    "    dictionary[storeid]['MA'] = dictionary[storeid].rolling(window=7)['visitors'].mean()\n",
    "frames = []\n",
    "for storeid in id_pool:\n",
    "    frames.append(dictionary[storeid])\n",
    "df = pd.concat(frames).dropna(axis=0, how='any')\n",
    "\n",
    "tmp0 = pd.merge(df,\n",
    "                date_info_drop,\n",
    "                on='visit_date',\n",
    "                how = 'left')\n",
    "tmp1 = pd.merge(tmp0,\n",
    "                air_reserve,\n",
    "                on=['air_store_id', 'visit_date'],\n",
    "                how = 'left')\n",
    "tmp2 = pd.merge(tmp1,\n",
    "                air_store,\n",
    "                on='air_store_id',\n",
    "                how = 'left')\n",
    "tmp3 = pd.merge(tmp2,\n",
    "               weather_data,\n",
    "               on=['air_store_id', 'visit_date'],\n",
    "               how = 'left')\n",
    "air_visit_reserve_merge = tmp3.dropna(axis=0, how='any').drop_duplicates()\n",
    "\n",
    "air_visit_reserve_merge['visit_date'] = pd.to_datetime(air_visit_reserve_merge['visit_date'])\n",
    "air_visit_reserve_merge['month'] = air_visit_reserve_merge['visit_date'].dt.month\n",
    "air_visit_reserve_merge['day'] = air_visit_reserve_merge['visit_date'].dt.day\n",
    "air_visit_reserve_merge['weekday'] = air_visit_reserve_merge['visit_date'].dt.weekday"
   ]
  },
  {
   "cell_type": "code",
   "execution_count": 11,
   "metadata": {
    "collapsed": true
   },
   "outputs": [],
   "source": [
    "air_visit_reserve_merge['air_genre_name'] =\\\n",
    "    air_visit_reserve_merge['air_genre_name'].astype('category')\n",
    "air_visit_reserve_merge['air_area_name'] =\\\n",
    "    air_visit_reserve_merge['air_area_name'].astype('category')"
   ]
  },
  {
   "cell_type": "markdown",
   "metadata": {},
   "source": [
    "### label encoding"
   ]
  },
  {
   "cell_type": "code",
   "execution_count": 12,
   "metadata": {
    "collapsed": true
   },
   "outputs": [],
   "source": [
    "le_genre = LabelEncoder()\n",
    "le_genre.fit(air_visit_reserve_merge['air_genre_name'])\n",
    "df_genre_label_encoding = pd.DataFrame(le_genre.transform(air_visit_reserve_merge['air_genre_name']),\n",
    "                                       columns=['genre_label_encoding'])\n",
    "\n",
    "le_area = LabelEncoder()\n",
    "le_area.fit(air_visit_reserve_merge['air_area_name'])\n",
    "df_area_label_encoding = pd.DataFrame(le_area.transform(air_visit_reserve_merge['air_area_name']),\n",
    "                                       columns=['area_label_encoding'])\n",
    "\n",
    "df_label_encoding = pd.merge(df_genre_label_encoding, df_area_label_encoding, left_index=True, right_index=True)"
   ]
  },
  {
   "cell_type": "code",
   "execution_count": 13,
   "metadata": {
    "collapsed": true
   },
   "outputs": [],
   "source": [
    "df_label_encoding.index = air_visit_reserve_merge.index\n",
    "\n",
    "df_with_label_encoding = pd.merge(air_visit_reserve_merge, \n",
    "                                  df_label_encoding, \n",
    "                                  right_index=True, left_index=True)\\\n",
    "                            .dropna(axis=0, how='any')\\\n",
    "                            .drop(['air_genre_name',\n",
    "                                    'air_area_name',\n",
    "                                    'latitude',\n",
    "                                    'longitude'], axis=1)"
   ]
  },
  {
   "cell_type": "markdown",
   "metadata": {},
   "source": [
    "### onehot dense encoding"
   ]
  },
  {
   "cell_type": "code",
   "execution_count": 14,
   "metadata": {
    "collapsed": true
   },
   "outputs": [],
   "source": [
    "#T: pd.get_dummies\n",
    "encoder_onehot_dense = CategoricalEncoder(encoding='onehot-dense')\n",
    "tmp_encoder_onehot_dense = encoder_onehot_dense.fit_transform(air_visit_reserve_merge[['air_genre_name', \n",
    "                                                                                       'air_area_name']])\n",
    "tmp_encoder_onehot_categories = encoder_onehot_dense.categories_\n",
    "\n",
    "df_onehot_encoding = pd.DataFrame(tmp_encoder_onehot_dense, \n",
    "                                  columns=np.append(tmp_encoder_onehot_categories[0], \n",
    "                                                    tmp_encoder_onehot_categories[1]))"
   ]
  },
  {
   "cell_type": "code",
   "execution_count": 15,
   "metadata": {
    "collapsed": true
   },
   "outputs": [],
   "source": [
    "df_with_onehot = pd.get_dummies(air_visit_reserve_merge, \n",
    "                               columns=['air_genre_name','air_area_name'])\\\n",
    "                    .dropna(axis=0, how='any')\\\n",
    "                    .drop(['latitude',\n",
    "                            'longitude'], axis=1)"
   ]
  },
  {
   "cell_type": "markdown",
   "metadata": {},
   "source": [
    "### target encoding"
   ]
  },
  {
   "cell_type": "code",
   "execution_count": 16,
   "metadata": {
    "collapsed": true
   },
   "outputs": [],
   "source": [
    "encoder_target = ce.TargetEncoder(cols = ['air_genre_name', 'air_area_name'])\n",
    "tmp_encoder_target = encoder_target.fit_transform(air_visit_reserve_merge[['air_genre_name', \n",
    "                                                                           'air_area_name']],\n",
    "                                                  air_visit_reserve_merge['visitors'])\n",
    "tmp_encoder_target = tmp_encoder_target.rename(index=str, \n",
    "                                               columns={'air_genre_name':'air_genre_name_encoding',\n",
    "                                                        'air_area_name':'air_area_name_encoding'})"
   ]
  },
  {
   "cell_type": "code",
   "execution_count": 17,
   "metadata": {
    "collapsed": true
   },
   "outputs": [],
   "source": [
    "tmp_encoder_target.index = tmp_encoder_target.index.map(int)\n",
    "df_with_target_encoding = pd.concat([air_visit_reserve_merge, tmp_encoder_target], axis=1)\\\n",
    "                            .dropna(axis=0, how='any')\\\n",
    "                            .drop(['air_genre_name',\n",
    "                                    'air_area_name',\n",
    "                                    'latitude',\n",
    "                                    'longitude'], axis=1)"
   ]
  },
  {
   "cell_type": "markdown",
   "metadata": {},
   "source": [
    "### baseline data"
   ]
  },
  {
   "cell_type": "code",
   "execution_count": 18,
   "metadata": {},
   "outputs": [
    {
     "name": "stderr",
     "output_type": "stream",
     "text": [
      "/anaconda/lib/python3.6/site-packages/ipykernel_launcher.py:2: SettingWithCopyWarning: \n",
      "A value is trying to be set on a copy of a slice from a DataFrame.\n",
      "Try using .loc[row_indexer,col_indexer] = value instead\n",
      "\n",
      "See the caveats in the documentation: http://pandas.pydata.org/pandas-docs/stable/indexing.html#indexing-view-versus-copy\n",
      "  \n"
     ]
    }
   ],
   "source": [
    "df_baseline = air_visit_reserve_merge[['air_store_id', 'visit_date', 'visitors', 'minus7days']]\n",
    "df_baseline['intercept'] = 1"
   ]
  },
  {
   "cell_type": "markdown",
   "metadata": {},
   "source": [
    "### test val train split"
   ]
  },
  {
   "cell_type": "code",
   "execution_count": 19,
   "metadata": {
    "collapsed": true
   },
   "outputs": [],
   "source": [
    "def designed_train_test_split(df):\n",
    "    df['visit_date'] = df['visit_date'].astype(str)\n",
    "    test_date_selector = df[\"visit_date\"].str.startswith(\"2017-04\") | df[\"visit_date\"].str.startswith(\"2017-03\")\n",
    "    val_date_selector = df[\"visit_date\"].str.startswith(\"2017-02\")\n",
    "    df_test = df[test_date_selector].drop(['air_store_id', 'visit_date'], axis=1)\n",
    "    df_val = df[val_date_selector].drop(['air_store_id', 'visit_date'], axis=1)\n",
    "    df_train = df[~(test_date_selector | val_date_selector)].drop(['air_store_id', 'visit_date'], axis=1)\n",
    "    \n",
    "    df_train_y = df_train['visitors']\n",
    "    df_train_X = df_train.drop(['visitors'], axis=1)\n",
    "    df_val_y = df_val['visitors']\n",
    "    df_val_X = df_val.drop(['visitors'], axis=1)\n",
    "    df_test_y = df_test['visitors'] #true y\n",
    "    df_test_X = df_test.drop(['visitors'], axis=1)     \n",
    "\n",
    "    return df_train_X, df_train_y, df_val_X, df_val_y, df_test_X, df_test_y"
   ]
  },
  {
   "cell_type": "code",
   "execution_count": 20,
   "metadata": {},
   "outputs": [
    {
     "name": "stderr",
     "output_type": "stream",
     "text": [
      "/anaconda/lib/python3.6/site-packages/ipykernel_launcher.py:2: SettingWithCopyWarning: \n",
      "A value is trying to be set on a copy of a slice from a DataFrame.\n",
      "Try using .loc[row_indexer,col_indexer] = value instead\n",
      "\n",
      "See the caveats in the documentation: http://pandas.pydata.org/pandas-docs/stable/indexing.html#indexing-view-versus-copy\n",
      "  \n"
     ]
    }
   ],
   "source": [
    "TrainValTest_dict = col.OrderedDict([\n",
    "    (\"df_train_X\", []),\n",
    "    (\"df_train_y\", []),\n",
    "    (\"df_val_X\", []),\n",
    "    (\"df_val_y\", []),\n",
    "    (\"df_test_X\", []),\n",
    "    (\"df_test_y\", []),\n",
    "])\n",
    "df_name_list = [df_baseline, df_with_target_encoding, df_with_onehot, df_with_label_encoding]\n",
    "for name in df_name_list:\n",
    "    tmp_train_X, tmp_train_y, tmp_val_X, tmp_val_y, tmp_test_X, tmp_test_y = designed_train_test_split(name)\n",
    "    TrainValTest_dict['df_train_X'].append(tmp_train_X)\n",
    "    TrainValTest_dict['df_train_y'].append(tmp_train_y)\n",
    "    TrainValTest_dict['df_val_X'].append(tmp_val_X)\n",
    "    TrainValTest_dict['df_val_y'].append(tmp_val_y)\n",
    "    TrainValTest_dict['df_test_X'].append(tmp_test_X)\n",
    "    TrainValTest_dict['df_test_y'].append(tmp_test_y)"
   ]
  },
  {
   "cell_type": "code",
   "execution_count": 21,
   "metadata": {
    "collapsed": true
   },
   "outputs": [],
   "source": [
    "tmp_dict = TrainValTest_dict.copy()\n",
    "for i in range(4):\n",
    "    tmp_dict['df_train_X'][i] = np.array(tmp_dict['df_train_X'][i])\n",
    "    tmp_dict['df_val_X'][i] = np.array(tmp_dict['df_val_X'][i])\n",
    "    tmp_dict['df_test_X'][i] = np.array(tmp_dict['df_test_X'][i])\n",
    "    tmp_dict['df_train_y'][i] = tmp_dict['df_train_y'][i].values\n",
    "    tmp_dict['df_val_y'][i] = tmp_dict['df_val_y'][i].values\n",
    "    tmp_dict['df_test_y'][i] = tmp_dict['df_test_y'][i].values"
   ]
  },
  {
   "cell_type": "code",
   "execution_count": 26,
   "metadata": {
    "collapsed": true
   },
   "outputs": [],
   "source": [
    "class DesignedLinearModel:\n",
    "    def __init__(self, reg=None, lam=None):\n",
    "        if reg is None:\n",
    "            assert lam is None\n",
    "        else:\n",
    "            assert reg in (\"l1\", \"l2\")\n",
    "        self.reg = reg\n",
    "        self.lam = lam\n",
    "\n",
    "        self.w = None\n",
    "        self.fitted=False\n",
    "\n",
    "    @classmethod\n",
    "    def _objective_func_wo_reg(cls, X, y, w):\n",
    "        m = X.shape[0]\n",
    "        obj_func = norm(mul_elemwise(inv_pos(y), X*w-y), 1)/m\n",
    "        return obj_func  \n",
    "    \n",
    "    def fit(self, X, y):\n",
    "        n = X.shape[1]\n",
    "        w = Variable(n, 1)\n",
    "        if self.reg == 'l1':\n",
    "            prob = Problem(Minimize(self._objective_func_wo_reg(X, y, w)+self.lam*norm(w,1)))\n",
    "        elif self.reg == 'l2':\n",
    "            prob = Problem(Minimize(self._objective_func_wo_reg(X, y, w)+self.lam*sum_squares(w)))\n",
    "        elif self.reg is None:\n",
    "            prob = Problem(Minimize(self._objective_func_wo_reg(X, y, w)))\n",
    "        else:\n",
    "            raise KeyError()\n",
    "\n",
    "        prob.solve()\n",
    "#       print (prob.value)\n",
    "#       print (prob.solver_stats)\n",
    "        self.w = w.value\n",
    "        self.fitted=True\n",
    "        return self\n",
    "\n",
    "    def predict(self, X):\n",
    "        assert self.fitted==True\n",
    "        return X*self.w"
   ]
  },
  {
   "cell_type": "code",
   "execution_count": 27,
   "metadata": {
    "collapsed": true
   },
   "outputs": [],
   "source": [
    "def score_func(prediction, true):\n",
    "    num_samples = true.shape[0]\n",
    "    evaluation = np.linalg.norm(np.divide(prediction-true, true), ord=1)/num_samples\n",
    "    return evaluation"
   ]
  },
  {
   "cell_type": "code",
   "execution_count": 24,
   "metadata": {
    "collapsed": true
   },
   "outputs": [],
   "source": [
    "%matplotlib inline\n",
    "def hyperparamtune(df_train_X, df_train_y, df_val_X, df_val_y, params, reg):\n",
    "    train_eval = []\n",
    "    val_eval = []\n",
    "    for param in params:\n",
    "        model=DesignedLinearModel(reg=reg, lam=param)\n",
    "        model.fit(X=df_train_X, y=df_train_y)\n",
    "        pred_train = model.predict(X=df_train_X)\n",
    "        pred_val = model.predict(X=df_val_X)\n",
    "        train_eval.append(score_func(pred_train, df_train_y))\n",
    "        val_eval.append(score_func(pred, df_val_y))\n",
    "    \n",
    "    plt.plot(train_eval)\n",
    "    plt.plot(val_eval)\n",
    "    plt.xlabel('params')\n",
    "    plt.ylabel('evaluation')\n",
    "    \n",
    "    return val_eval"
   ]
  },
  {
   "cell_type": "code",
   "execution_count": null,
   "metadata": {
    "collapsed": true
   },
   "outputs": [],
   "source": [
    "hyperparamtune"
   ]
  },
  {
   "cell_type": "code",
   "execution_count": null,
   "metadata": {
    "collapsed": true
   },
   "outputs": [],
   "source": [
    "model=DesignedLinearModel()\n",
    "model.fit(X=tmp_dict['df_train_X'][0], y=tmp_dict['df_train_y'][0])\n",
    "pred_val = model.predict(X=tmp_dict['df_train_X'][0])\n",
    "pred_test = model.predict(X=tmp_dict['df_test_X'][0])\n",
    "score_val = score_func(pred_val, tmp_dict['df_train_y'][0])\n",
    "score_test = score_func(pred_test, tmp_dict['df_test_y'][0])\n",
    "print(score_val); print(score_test)"
   ]
  },
  {
   "cell_type": "code",
   "execution_count": 29,
   "metadata": {},
   "outputs": [
    {
     "name": "stdout",
     "output_type": "stream",
     "text": [
      "0.79823879656\n",
      "0.784903923274\n"
     ]
    }
   ],
   "source": [
    "from sklearn.linear_model import LinearRegression\n",
    "regr = LinearRegression()\n",
    "regr.fit(tmp_dict['df_train_X'][0], tmp_dict['df_train_y'][0])\n",
    "pred_val = regr.predict(tmp_dict['df_val_X'][0])\n",
    "score_val = score_func(pred_val, tmp_dict['df_val_y'][0])\n",
    "pred_test = regr.predict(tmp_dict['df_test_X'][0])\n",
    "score_test = score_func(pred_test, tmp_dict['df_test_y'][0])\n",
    "print(score_val); print(score_test)"
   ]
  },
  {
   "cell_type": "markdown",
   "metadata": {},
   "source": [
    "### toy example"
   ]
  },
  {
   "cell_type": "code",
   "execution_count": null,
   "metadata": {
    "collapsed": true
   },
   "outputs": [],
   "source": [
    "# dX = np.array(TrainValTest_dict['df_train_X'][0])\n",
    "# dy = TrainValTest_dict['df_train_y'][0].values\n",
    "# X1 = np.array(TrainValTest_dict['df_test_X'][0])\n",
    "# y1 = TrainValTest_dict['df_test_y'][0].values\n",
    "X=np.random.rand(2,3)\n",
    "y=np.random.rand(2)\n",
    "y1 = np.random.rand(4)\n",
    "X1 = np.random.rand(4,3)"
   ]
  },
  {
   "cell_type": "code",
   "execution_count": null,
   "metadata": {
    "collapsed": true
   },
   "outputs": [],
   "source": [
    "w = Variable(3,1)\n",
    "tmp_size = X.shape[0]\n",
    "prob = Problem(Minimize(norm(mul_elemwise(inv_pos(y), \n",
    "                                          X*w-y), 1)/tmp_size+norm(w,1)))\n",
    "prob.solve()\n",
    "w=w.value\n",
    "pred = X1*w"
   ]
  },
  {
   "cell_type": "code",
   "execution_count": null,
   "metadata": {
    "collapsed": true
   },
   "outputs": [],
   "source": [
    "evaluation=np.linalg.norm(np.divide(pred-y1, y1), ord=1)\n",
    "evaluation"
   ]
  },
  {
   "cell_type": "code",
   "execution_count": null,
   "metadata": {
    "collapsed": true
   },
   "outputs": [],
   "source": [
    "a = [2,3,4,5,6]\n",
    "b = [1,2,3,9,10]"
   ]
  },
  {
   "cell_type": "code",
   "execution_count": null,
   "metadata": {},
   "outputs": [],
   "source": [
    "%matplotlib inline\n",
    "plt.plot(a)\n",
    "plt.plot(b)\n",
    "plt.xlabel('params')\n",
    "plt.ylabel('score')\n",
    "plt.axis([0, 7, 0, 20])"
   ]
  },
  {
   "cell_type": "code",
   "execution_count": null,
   "metadata": {
    "collapsed": true
   },
   "outputs": [],
   "source": []
  }
 ],
 "metadata": {
  "kernelspec": {
   "display_name": "Python 3",
   "language": "python",
   "name": "python3"
  },
  "language_info": {
   "codemirror_mode": {
    "name": "ipython",
    "version": 3
   },
   "file_extension": ".py",
   "mimetype": "text/x-python",
   "name": "python",
   "nbconvert_exporter": "python",
   "pygments_lexer": "ipython3",
   "version": "3.6.5"
  }
 },
 "nbformat": 4,
 "nbformat_minor": 2
}
