{
 "cells": [
  {
   "cell_type": "code",
   "execution_count": 1,
   "metadata": {
    "collapsed": true
   },
   "outputs": [],
   "source": [
    "import numpy as np\n",
    "import pandas as pd\n",
    "import scipy.stats as stat\n",
    "import scipy.io as scipio\n",
    "import matplotlib.pyplot as plt\n",
    "%matplotlib inline\n",
    "from datetime import datetime"
   ]
  },
  {
   "cell_type": "code",
   "execution_count": 2,
   "metadata": {},
   "outputs": [
    {
     "name": "stderr",
     "output_type": "stream",
     "text": [
      "/Users/derin/anaconda/lib/python3.6/site-packages/statsmodels/compat/pandas.py:56: FutureWarning: The pandas.core.datetools module is deprecated and will be removed in a future version. Please use the pandas.tseries module instead.\n",
      "  from pandas.core import datetools\n"
     ]
    }
   ],
   "source": [
    "from statsmodels.tsa.arima_model import ARIMA\n",
    "from statsmodels.tsa.stattools import adfuller\n",
    "from sklearn.preprocessing import StandardScaler\n",
    "from statsmodels.tsa.statespace.sarimax import SARIMAX\n",
    "from statsmodels.tsa.statespace.sarimax import SARIMAXResults"
   ]
  },
  {
   "cell_type": "code",
   "execution_count": 3,
   "metadata": {
    "collapsed": true
   },
   "outputs": [],
   "source": [
    "## read train & test data\n",
    "data_train = pd.DataFrame(pd.read_csv(\"data_train.csv\"))\n",
    "data_test = pd.DataFrame(pd.read_csv(\"data_test.csv\"))\n",
    "data_train = data_train.dropna(0)\n",
    "data_test = data_test.dropna(0)\n",
    "\n",
    "## index by visit_date column \n",
    "## the dates are not unique yet\n",
    "data_train = data_train.set_index(\"visit_date\", drop=True)\n",
    "data_test = data_test.set_index(\"visit_date\", drop=True)\n",
    "\n",
    "## convert the dates from string to datetime\n",
    "arima_dates_train = pd.Series(data_train.index.values).\\\n",
    "apply(lambda x: datetime.strptime(x, \"%Y-%m-%d\"))\n",
    "arima_dates_test = pd.Series(data_test.index.values).\\\n",
    "apply(lambda x: datetime.strptime(x, \"%Y-%m-%d\"))\n",
    "\n",
    "## get the unique date index for full data\n",
    "data = pd.concat([data_train,data_test],0)\n",
    "arima_dates_full = pd.Series(data.index.values).\\\n",
    "apply(lambda x: datetime.strptime(x, \"%Y-%m-%d\"))"
   ]
  },
  {
   "cell_type": "markdown",
   "metadata": {},
   "source": [
    "## Train-Val Split"
   ]
  },
  {
   "cell_type": "code",
   "execution_count": 4,
   "metadata": {
    "collapsed": true
   },
   "outputs": [],
   "source": [
    "import os\n",
    "## leave out Feb 2017 data for each restaurant df \n",
    "## as validation split\n",
    "def train_val_split(path):\n",
    "    \"\"\"Takes as input a directory, splits all the training csv \n",
    "    files in the directory as training and validation, appends the \n",
    "    dataframes to separate dictionaries, where keys are rest ids\"\"\"\n",
    "    train_dict = {}\n",
    "    val_dict = {}\n",
    "    for rest_file in os.listdir(path):\n",
    "        data = pd.DataFrame(pd.read_csv(path + rest_file))\n",
    "        data = data.set_index(\"visit_date\",drop=True)\n",
    "        ## convert index to datetime to filter\n",
    "        data.index = pd.Series(data.index).\\\n",
    "        apply(lambda x: datetime.strptime(x, \"%Y-%m-%d\"))\n",
    "        ## filter the records before 2017-02-01 for training\n",
    "        data_train = data[data.index<datetime.strptime(\"2017-02-01\", \"%Y-%m-%d\")]\n",
    "        ## filter the records after 2017-02-01 for validation\n",
    "        data_val = data[data.index>=datetime.strptime(\"2017-02-01\", \"%Y-%m-%d\")]\n",
    "        ## return two datasets: training and validation\n",
    "        train_dict[rest_file] = data_train\n",
    "        val_dict[rest_file] = data_val\n",
    "    return train_dict, val_dict"
   ]
  },
  {
   "cell_type": "code",
   "execution_count": 5,
   "metadata": {
    "collapsed": true
   },
   "outputs": [],
   "source": [
    "path = \"arima_rest_data/train/\"\n",
    "train_dict, val_dict = train_val_split(path)[0], train_val_split(path)[1]"
   ]
  },
  {
   "cell_type": "code",
   "execution_count": 8,
   "metadata": {
    "collapsed": true
   },
   "outputs": [],
   "source": [
    "endog_col = [\"visitors\"]\n",
    "exog_col = ['Friday', 'Monday', 'Saturday','Sunday', 'Thursday', \n",
    "            'Tuesday', 'Wednesday','avg_temperature1','high_temperature1', \n",
    "            'holiday_flg', 'hours_sunlight1','low_temperature1',\n",
    "           'total_area_visitors', 'total_genre_visitors']"
   ]
  },
  {
   "cell_type": "markdown",
   "metadata": {},
   "source": [
    "## Grid Search"
   ]
  },
  {
   "cell_type": "code",
   "execution_count": 11,
   "metadata": {
    "collapsed": true
   },
   "outputs": [],
   "source": [
    "os.listdir(\"arima_rest_data/train/\")[5]\n",
    "try_data = train_dict[\"air_03963426c9312048.csv\"]\n",
    "val_try = val_dict[\"air_03963426c9312048.csv\"]"
   ]
  },
  {
   "cell_type": "code",
   "execution_count": 20,
   "metadata": {},
   "outputs": [
    {
     "name": "stderr",
     "output_type": "stream",
     "text": [
      "/Users/derin/anaconda/lib/python3.6/site-packages/statsmodels/base/model.py:496: ConvergenceWarning: Maximum Likelihood optimization failed to converge. Check mle_retvals\n",
      "  \"Check mle_retvals\", ConvergenceWarning)\n"
     ]
    }
   ],
   "source": [
    "sarimax_model = SARIMAX(endog=try_data[endog_col],exog=try_data[exog_col],\n",
    "                       order=(7,1,7),seasonal_order=(7,0,7,10),trend=\"n\",\n",
    "                       mle_regression=True)\n",
    "\n",
    "params = sarimax_model.fit(maxiter=1000,disp=True,return_params=True,full_output=True)\n",
    "# sarimax_model.loglike(sarimax_model.fit(maxiter=1000,return_params=True,full_output=True))\n",
    "# sarimax_model.loglike(params)"
   ]
  },
  {
   "cell_type": "code",
   "execution_count": 121,
   "metadata": {
    "collapsed": true
   },
   "outputs": [],
   "source": [
    "fit_cov_types = [\"opg\",\"oim\",\"approx\",\"robust\",\"robust_approx\",\"none\"]\n",
    "fit_methods = [\"newton\",\"bfgs\",\"lbfgs\",\"powell\",\"cg\",\"ncg\",\"basinhopping\"]"
   ]
  },
  {
   "cell_type": "code",
   "execution_count": 240,
   "metadata": {},
   "outputs": [],
   "source": [
    "## manual param grid\n",
    "import itertools\n",
    "\n",
    "order_p = np.array([1,7])\n",
    "order_d = np.arange(1,3) ## order of differencing\n",
    "order_q = np.array([1,7])\n",
    "s_order_p = np.array([1,7])\n",
    "s_order_d = np.arange(1,3) ## order of seasonal differencing\n",
    "s_order_q = np.array([1,7])\n",
    "s_order_s = np.array([4,1]) ## seasons per year\n",
    "param_trend = [\"n\",\"c\"]\n",
    "\n",
    "grid_lists = [order_p, order_d, order_q, s_order_p, s_order_d,\\\n",
    "             s_order_q, s_order_s, param_trend]\n",
    "\n",
    "grid = list(itertools.product(*grid_lists))"
   ]
  },
  {
   "cell_type": "code",
   "execution_count": 13,
   "metadata": {
    "collapsed": true
   },
   "outputs": [],
   "source": [
    "endog_col = [\"visitors\"]\n",
    "exog_col = ['Friday', 'Monday', 'Saturday','Sunday', 'Thursday', \n",
    "            'Tuesday', 'Wednesday','avg_temperature1','high_temperature1', \n",
    "            'holiday_flg', 'hours_sunlight1','low_temperature1',\n",
    "           'total_area_visitors', 'total_genre_visitors']"
   ]
  },
  {
   "cell_type": "code",
   "execution_count": 61,
   "metadata": {
    "collapsed": true
   },
   "outputs": [],
   "source": [
    "# os.listdir(\"arima_rest_data/train/\")\n",
    "# grid_model_params = {}"
   ]
  },
  {
   "cell_type": "code",
   "execution_count": 279,
   "metadata": {},
   "outputs": [],
   "source": [
    "grid = list(itertools.product(*grid_lists))\n",
    "## delete from directory\n",
    "# air_28dbe91c4c9656be.csv\n",
    "# air_2a485b92210c98b5.csv\n",
    "\n",
    "# grid_model_params = {}\n",
    "for params in grid:\n",
    "    print (params)\n",
    "    ## will average the learned parameters of all \n",
    "    ## the restaurants for every set of parameter \n",
    "    ## then will pass them to the prediction function\n",
    "    ## as start params\n",
    "    grid_model_params[params] = {}\n",
    "    ## select 150 random restaurants\n",
    "    for rest in [os.listdir(\"arima_rest_data/train/\")[1:][ix] for ix in \\\n",
    "                 [np.random.choice(665) for x in range(10)]]:\n",
    "        print (str(rest))\n",
    "        ## train_dict: previously written training dictionary of all rests \n",
    "        data = train_dict[rest]\n",
    "        if \"total_area_visitors\" not in data.columns.values or \"total_genre_visitors\" not in data.columns.values:\n",
    "            None\n",
    "        elif data[exog_col].shape[0]<2 or data[exog_col].shape[1]<8\\\n",
    "        or len(data[endog_col])<8: \n",
    "            None\n",
    "        ## params_exog = np.linalg.pinv(exog).dot(endog)\n",
    "        elif data[endog_col].shape[0] < 1 or data[endog_col].shape[1] < 1:\n",
    "            None\n",
    "        elif len((np.linalg.pinv(data[exog_col]).dot(data[endog_col])).shape) < 2: \n",
    "            None\n",
    "        # endog = endog - np.dot(exog, params_exog)\n",
    "        elif np.dot(data[exog_col], np.linalg.pinv(data[exog_col]).dot(data[endog_col])).shape[0]<1\\\n",
    "        or np.dot(data[exog_col], np.linalg.pinv(data[exog_col]).dot(data[endog_col])).shape[1]<1:\n",
    "            None\n",
    "        elif rest == \"air_28dbe91c4c9656be.csv\":\n",
    "            None\n",
    "        elif rest == \"air_4dea8d17f6f59c56.csv\":\n",
    "            None\n",
    "        elif rest == \".ipynb_checkpoints\":\n",
    "            None\n",
    "        else:\n",
    "            sarimax_model = SARIMAX(endog=data[endog_col],exog=data[exog_col],\\\n",
    "                           order=(int(params[0]),int(params[1]),int(params[2])),seasonal_order=(int(params[3]),int(params[4]),int(params[5]),int(params[6])),\\\n",
    "                                    trend=params[7], mle_regression=True, enforce_invertibility=False)\n",
    "\n",
    "            grid_model_params[params][rest] = sarimax_model.fit(maxiter=1000,disp=True,return_params=True,full_output=True)\n",
    "        "
   ]
  },
  {
   "cell_type": "code",
   "execution_count": 403,
   "metadata": {
    "collapsed": true
   },
   "outputs": [],
   "source": [
    "def loss_mape(true, pred):\n",
    "    \"\"\"args:\n",
    "    - true: the true array of \"visitor\" numbers \n",
    "            for the determined timeframe - shape: (n_days,)\n",
    "    - pred: the predicted array of \"visitor\" numbers\n",
    "            for the determined timeframe - shape: (n_days,)\n",
    "       returns:\n",
    "    - avg_percent_error: average percentage error in terms\n",
    "                        of visitors\"\"\"\n",
    "    abs_error = np.abs(np.subtract(true,pred))\n",
    "    loss = np.divide(abs_error,true)\n",
    "    avg_percent_error = np.mean(loss)\n",
    "    return avg_percent_error"
   ]
  },
  {
   "cell_type": "code",
   "execution_count": 281,
   "metadata": {
    "collapsed": true
   },
   "outputs": [],
   "source": [
    "def loss_squared(true, pred):\n",
    "    \"\"\"args:\n",
    "    - true: the true array of \"visitor\" numbers \n",
    "            for the determined timeframe - shape: (n_days,)\n",
    "    - pred: the predicted array of \"visitor\" numbers\n",
    "            for the determined timeframe - shape: (n_days,)\n",
    "       returns:\n",
    "    - avg_square_error: average squared error in terms\n",
    "                        of visitors, averaged by the number\n",
    "                        of days\"\"\"\n",
    "    num_days = len(true)\n",
    "    sq_error = np.square(np.array(true-pred))\n",
    "    avg_square_error = (1/num_days)*np.sum(sq_error)\n",
    "    return avg_square_error"
   ]
  },
  {
   "cell_type": "code",
   "execution_count": 243,
   "metadata": {
    "collapsed": true
   },
   "outputs": [],
   "source": [
    "grid_search_iters = {}"
   ]
  },
  {
   "cell_type": "code",
   "execution_count": 463,
   "metadata": {},
   "outputs": [
    {
     "data": {
      "text/plain": [
       "array(['air_675aa35cba456fd1.csv', 'air_0867f7bebad6a649.csv',\n",
       "       'air_7cf5a02c0e01b647.csv'], \n",
       "      dtype='<U24')"
      ]
     },
     "execution_count": 463,
     "metadata": {},
     "output_type": "execute_result"
    }
   ],
   "source": [
    "np.random.choice(os.listdir(\"arima_rest_data/train/\"),3)"
   ]
  },
  {
   "cell_type": "code",
   "execution_count": 667,
   "metadata": {},
   "outputs": [],
   "source": [
    "class SARIMAXGridSearch(object):\n",
    "    def __init__(self, param_grid=grid, rest_dir=\"arima_rest_data/train/\",\\\n",
    "                 num_rests=10, len_rests=600):\n",
    "        \n",
    "        self.param_grid = param_grid\n",
    "        self.rest_dir = rest_dir\n",
    "        self.num_rests = num_rests\n",
    "        self.len_rests = len_rests\n",
    "        \n",
    "    def select_setting(self, grid_index):\n",
    "        \n",
    "        ## n = int index of param_grid\n",
    "        param_grid = self.param_grid\n",
    "        rest_dir = self.rest_dir\n",
    "        num_rests = self.num_rests\n",
    "        len_rests = self.len_rests\n",
    "        ## grid settings\n",
    "        params = param_grid[grid_index]\n",
    "        rests = [os.listdir(rest_dir)[1:][ix] for ix in \\\n",
    "                 [np.random.choice(len_rests) for x in range(num_rests)]]\n",
    "        \n",
    "        self.params = params\n",
    "        self.rests = rests\n",
    "        return self\n",
    "    \n",
    "    def averaging_fit(self):\n",
    "        params = self.params\n",
    "        rests = self.rests\n",
    "        model_params = {}\n",
    "        \n",
    "        if len(rests) == 1:\n",
    "            if \"total_area_visitors\" not in train_dict[rests[0]].columns.values or\\\n",
    "            \"total_genre_visitors\" not in train_dict[rests[0]].columns.values:\n",
    "                pass\n",
    "            elif train_dict[rests[0]].shape[0] < 24 and val_dict[rests[0]].shape[0] < 8:\n",
    "                pass\n",
    "            else:\n",
    "                data = train_dict[rest]\n",
    "                val_data = val_dict[rest]\n",
    "                sarimax_model = SARIMAX(endog=data[endog_col],exog=data[exog_col],\\\n",
    "                                   order=(int(params[0]),int(params[1]),int(params[2])),\\\n",
    "                                            seasonal_order=(int(params[3]),int(params[4]),\\\n",
    "                                                            int(params[5]),int(params[6])),\\\n",
    "                                            trend=params[7], mle_regression=True, \\\n",
    "                                            enforce_invertibility=False)\n",
    "                results_object = sarimax_model.fit(maxiter=1000,method=\"bfgs\")\n",
    "                self.results_object = results_object\n",
    "\n",
    "        else:\n",
    "            rest_params = []\n",
    "            for rest_ix in range(len(rests)):\n",
    "                if \"total_area_visitors\" not in train_dict[rests[rest_ix]].columns.values or\\\n",
    "                \"total_genre_visitors\" not in train_dict[rests[rest_ix]].columns.values:\n",
    "                    continue\n",
    "                elif train_dict[rests[rest_ix]].shape[0] < 24 and val_dict[rests[rest_ix]].shape[0] < 24:\n",
    "                    continue\n",
    "                else:\n",
    "                    data = train_dict[rests[rest_ix]]\n",
    "                    sarimax_model = SARIMAX(endog=data[endog_col],exog=data[exog_col],\\\n",
    "                                   order=(int(params[0]),int(params[1]),int(params[2])),\\\n",
    "                                            seasonal_order=(int(params[3]),int(params[4]),\\\n",
    "                                                            int(params[5]),int(params[6])),\\\n",
    "                                            trend=params[7], mle_regression=True, \\\n",
    "                                            enforce_invertibility=False)\n",
    "                    results_object = sarimax_model.fit(start_params=None,maxiter=1000,method=\"bfgs\",\\\n",
    "                                                          return_params=True)\n",
    "                    rest_params.append(results_object)\n",
    "                    final_start_params = np.mean(rest_params,0)\n",
    "            self.average_params = final_start_params\n",
    "        return self\n",
    "    \n",
    "    def bag_pred(self):\n",
    "        rests = self.rests\n",
    "        params = self.params\n",
    "        average_params = self.average_params\n",
    "        rest_preds = {}\n",
    "        for rest in rests:\n",
    "            data = train_dict[rest]\n",
    "            val_data = val_dict[rest]\n",
    "            print (rest)\n",
    "            sarimax_model = SARIMAX(endog=data[endog_col],exog=data[exog_col],\\\n",
    "                               order=(int(params[0]),int(params[1]),int(params[2])),\\\n",
    "                                        seasonal_order=(int(params[3]),int(params[4]),\\\n",
    "                                                        int(params[5]),int(params[6])),\\\n",
    "                                        trend=params[7], mle_regression=True, \\\n",
    "                                        enforce_invertibility=False,time_varying_regression=False)\n",
    "            final_model = sarimax_model.fit(start_params=average_params,\\\n",
    "                                              maxiter=1000,method=\"bfgs\")\n",
    "            bag_preds_ = final_model.predict\\\n",
    "                    (start=len(data)-1, end=len(data)+len(val_data)-1,dynamic=True,\\\n",
    "                    exog=val_data[exog_col])\n",
    "            rest_preds[rest] = bag_preds_\n",
    "            \n",
    "        self.preds = rest_preds\n",
    "        return self, rest_preds\n",
    "    \n",
    "    def bag_losses(self):\n",
    "        rests = self.rests\n",
    "        params = self.params\n",
    "        average_params = self.average_params\n",
    "        preds = self.preds\n",
    "        bagged_rest_scores = {}\n",
    "        for rest in self.rests:\n",
    "            val_data = val_dict[rest]\n",
    "            pred = preds[rest]\n",
    "            true = np.array(val_data[\"visitors\"])\n",
    "            abs_percent_loss = loss_mape(true,pred[:len(true)])\n",
    "            square_loss = loss_squared(true,pred[:len(true)])\n",
    "            bagged_rest_scores[rest] = [abs_percent_loss,square_loss] \n",
    "        return bagged_rest_scores\n",
    "    \n",
    "    def iterative_fit(self):\n",
    "        ### param yazdirabildigimize gore, ortalama almali yapabilriiz\n",
    "        ## !!!!!!!!!!! yay \n",
    "        ## bir de tekrar fit etmemeli yazmaya calis\n",
    "        params = self.params\n",
    "        rests = self.rests\n",
    "        model_params = {}\n",
    "        \n",
    "        if len(rests) == 1:\n",
    "            data = train_dict[rest]\n",
    "            val_data = val_dict[rest]\n",
    "            sarimax_model = SARIMAX(endog=data[endog_col],exog=data[exog_col],\\\n",
    "                               order=(int(params[0]),int(params[1]),int(params[2])),\\\n",
    "                                        seasonal_order=(int(params[3]),int(params[4]),\\\n",
    "                                                        int(params[5]),int(params[6])),\\\n",
    "                                        trend=params[7], mle_regression=True, \\\n",
    "                                        enforce_invertibility=False)\n",
    "            \n",
    "            results_object = sarimax_model.fit(maxiter=1000,method=\"bfgs\")\n",
    "            self.results_object = results_object\n",
    "        else:\n",
    "            for rest_ix in range(len(rests)):\n",
    "                if \"total_area_visitors\" not in train_dict[rests[rest_ix]].columns.values or\\\n",
    "                \"total_genre_visitors\" not in train_dict[rests[rest_ix]].columns.values:\n",
    "                    continue\n",
    "                elif train_dict[rests[rest_ix]].shape[0] < 24 and val_dict[rests[rest_ix]].shape[0] < 24:\n",
    "                    continue\n",
    "                else:\n",
    "                    data = train_dict[rests[rest_ix]]\n",
    "                    val_data = val_dict[rests[rest_ix]]\n",
    "                    sarimax_model = SARIMAX(endog=data[endog_col],exog=data[exog_col],\\\n",
    "                                   order=(int(params[0]),int(params[1]),int(params[2])),\\\n",
    "                                            seasonal_order=(int(params[3]),int(params[4]),\\\n",
    "                                                            int(params[5]),int(params[6])),\\\n",
    "                                            trend=params[7], mle_regression=True, \\\n",
    "                                            enforce_invertibility=False)\n",
    "                    if rest_ix == 0:\n",
    "                        results_object = sarimax_model.fit(start_params=None,maxiter=1000,method=\"bfgs\",\\\n",
    "                                                          return_params=True)\n",
    "                        model_params[rests[rest_ix]] = results_object\n",
    "                    elif rest_ix != 0 and rest_ix < len(rests)-1:\n",
    "                        results_object = sarimax_model.fit(start_params=model_params[rests[rest_ix-1]],maxiter=1000,method=\"bfgs\",\\\n",
    "                                                          return_params=True)\n",
    "                        model_params[rests[rest_ix]] = results_object\n",
    "                    elif rest_ix == len(rests)-1:\n",
    "                        results_object = sarimax_model.fit(start_params=model_params[rests[rest_ix-1]],\\\n",
    "                                                           maxiter=1000,method=\"bfgs\",return_params=True)\n",
    "                        model_params[rests[rest_ix]] = results_object\n",
    "            self.results_object = model_params[rests[len(rests)-1]]\n",
    "        return self\n",
    "    \n",
    "    def final_preds(self):\n",
    "        rests = self.rests\n",
    "        params = self.params\n",
    "        results_object = self.results_object\n",
    "        \n",
    "        rest_preds = {}\n",
    "        for rest in rests:\n",
    "            if \"total_area_visitors\" not in train_dict[rest].columns.values or\\\n",
    "                \"total_genre_visitors\" not in train_dict[rest].columns.values:\n",
    "                continue\n",
    "            elif train_dict[rest].shape[0] < 24 and val_dict[rest].shape[0] < 24:\n",
    "                continue\n",
    "            else:\n",
    "                data = train_dict[rest]\n",
    "                val_data = val_dict[rest]\n",
    "                sarimax_model = SARIMAX(endog=data[endog_col],exog=data[exog_col],\\\n",
    "                                   order=(int(params[0]),int(params[1]),int(params[2])),\\\n",
    "                                            seasonal_order=(int(params[3]),int(params[4]),\\\n",
    "                                                            int(params[5]),int(params[6])),\\\n",
    "                                            trend=params[7], mle_regression=True, \\\n",
    "                                            enforce_invertibility=False,time_varying_regression=False)\n",
    "                final_model = sarimax_model.fit(start_params=results_object,\\\n",
    "                                                  maxiter=1000,method=\"bfgs\")\n",
    "                preds_ = final_model.predict\\\n",
    "                        (start=len(data)-1, end=len(data)+len(val_data)-1,dynamic=True,\\\n",
    "                        exog=val_data[exog_col])\n",
    "                rest_preds[rest] = preds_\n",
    "\n",
    "        self.preds = rest_preds\n",
    "        return self, rest_preds\n",
    "    \n",
    "    def final_scores(self):\n",
    "        preds = self.preds\n",
    "#         print (preds)\n",
    "        rests = self.rests\n",
    "#         print (rests)\n",
    "        rest_scores = {}\n",
    "        for rest in rests:\n",
    "            val_data = val_dict[rest]\n",
    "            pred = preds[rest]\n",
    "            true = np.array(val_data[\"visitors\"])\n",
    "            abs_percent_loss = loss_mape(true,pred[:len(true)])\n",
    "            square_loss = loss_squared(true,pred[:len(true)])\n",
    "            rest_scores[rest] = [abs_percent_loss,square_loss]\n",
    "        return rest_scores"
   ]
  },
  {
   "cell_type": "code",
   "execution_count": null,
   "metadata": {},
   "outputs": [
    {
     "name": "stdout",
     "output_type": "stream",
     "text": [
      "(1, 1, 1, 1, 1, 1, 1, 'c')\n",
      "Optimization terminated successfully.\n",
      "         Current function value: 3.996934\n",
      "         Iterations: 170\n",
      "         Function evaluations: 179\n",
      "         Gradient evaluations: 179\n",
      "Optimization terminated successfully.\n",
      "         Current function value: 3.868994\n",
      "         Iterations: 217\n",
      "         Function evaluations: 231\n",
      "         Gradient evaluations: 231\n",
      "Optimization terminated successfully.\n",
      "         Current function value: 4.019632\n",
      "         Iterations: 256\n",
      "         Function evaluations: 295\n",
      "         Gradient evaluations: 295\n",
      "Optimization terminated successfully.\n",
      "         Current function value: 3.197866\n",
      "         Iterations: 174\n",
      "         Function evaluations: 196\n",
      "         Gradient evaluations: 196\n",
      "Optimization terminated successfully.\n",
      "         Current function value: 3.469328\n",
      "         Iterations: 191\n",
      "         Function evaluations: 209\n",
      "         Gradient evaluations: 209\n",
      "Optimization terminated successfully.\n",
      "         Current function value: 3.924073\n",
      "         Iterations: 215\n",
      "         Function evaluations: 227\n",
      "         Gradient evaluations: 227\n",
      "Warning: Desired error not necessarily achieved due to precision loss.\n",
      "         Current function value: 3.156718\n",
      "         Iterations: 177\n",
      "         Function evaluations: 295\n",
      "         Gradient evaluations: 283\n"
     ]
    },
    {
     "name": "stderr",
     "output_type": "stream",
     "text": [
      "/Users/derin/anaconda/lib/python3.6/site-packages/statsmodels/base/model.py:496: ConvergenceWarning: Maximum Likelihood optimization failed to converge. Check mle_retvals\n",
      "  \"Check mle_retvals\", ConvergenceWarning)\n"
     ]
    },
    {
     "name": "stdout",
     "output_type": "stream",
     "text": [
      "Warning: Desired error not necessarily achieved due to precision loss.\n",
      "         Current function value: 2.730564\n",
      "         Iterations: 125\n",
      "         Function evaluations: 175\n",
      "         Gradient evaluations: 164\n"
     ]
    },
    {
     "name": "stderr",
     "output_type": "stream",
     "text": [
      "/Users/derin/anaconda/lib/python3.6/site-packages/statsmodels/base/model.py:496: ConvergenceWarning: Maximum Likelihood optimization failed to converge. Check mle_retvals\n",
      "  \"Check mle_retvals\", ConvergenceWarning)\n"
     ]
    },
    {
     "name": "stdout",
     "output_type": "stream",
     "text": [
      "Optimization terminated successfully.\n",
      "         Current function value: 3.754618\n",
      "         Iterations: 202\n",
      "         Function evaluations: 219\n",
      "         Gradient evaluations: 219\n",
      "Optimization terminated successfully.\n",
      "         Current function value: 3.298660\n",
      "         Iterations: 167\n",
      "         Function evaluations: 180\n",
      "         Gradient evaluations: 180\n",
      "Optimization terminated successfully.\n",
      "         Current function value: 2.657063\n",
      "         Iterations: 115\n",
      "         Function evaluations: 126\n",
      "         Gradient evaluations: 126\n",
      "Optimization terminated successfully.\n",
      "         Current function value: 3.538314\n",
      "         Iterations: 211\n",
      "         Function evaluations: 229\n",
      "         Gradient evaluations: 229\n",
      "Optimization terminated successfully.\n",
      "         Current function value: 3.045109\n",
      "         Iterations: 167\n",
      "         Function evaluations: 186\n",
      "         Gradient evaluations: 186\n",
      "Optimization terminated successfully.\n",
      "         Current function value: 3.553742\n",
      "         Iterations: 195\n",
      "         Function evaluations: 211\n",
      "         Gradient evaluations: 211\n",
      "Optimization terminated successfully.\n",
      "         Current function value: 4.310269\n",
      "         Iterations: 248\n",
      "         Function evaluations: 270\n",
      "         Gradient evaluations: 270\n",
      "Optimization terminated successfully.\n",
      "         Current function value: 4.290014\n",
      "         Iterations: 213\n",
      "         Function evaluations: 226\n",
      "         Gradient evaluations: 226\n",
      "Optimization terminated successfully.\n",
      "         Current function value: 3.380721\n",
      "         Iterations: 226\n",
      "         Function evaluations: 249\n",
      "         Gradient evaluations: 249\n",
      "Optimization terminated successfully.\n",
      "         Current function value: 3.365095\n",
      "         Iterations: 153\n",
      "         Function evaluations: 159\n",
      "         Gradient evaluations: 159\n",
      "Optimization terminated successfully.\n",
      "         Current function value: 3.951499\n",
      "         Iterations: 191\n",
      "         Function evaluations: 197\n",
      "         Gradient evaluations: 197\n",
      "Optimization terminated successfully.\n",
      "         Current function value: 3.282871\n",
      "         Iterations: 176\n",
      "         Function evaluations: 218\n",
      "         Gradient evaluations: 217\n",
      "Optimization terminated successfully.\n",
      "         Current function value: 3.386029\n",
      "         Iterations: 163\n",
      "         Function evaluations: 171\n",
      "         Gradient evaluations: 171\n",
      "Optimization terminated successfully.\n",
      "         Current function value: 3.000623\n",
      "         Iterations: 156\n",
      "         Function evaluations: 237\n",
      "         Gradient evaluations: 235\n",
      "Warning: Desired error not necessarily achieved due to precision loss.\n",
      "         Current function value: 3.382396\n",
      "         Iterations: 189\n",
      "         Function evaluations: 277\n",
      "         Gradient evaluations: 266\n"
     ]
    },
    {
     "name": "stderr",
     "output_type": "stream",
     "text": [
      "/Users/derin/anaconda/lib/python3.6/site-packages/statsmodels/base/model.py:496: ConvergenceWarning: Maximum Likelihood optimization failed to converge. Check mle_retvals\n",
      "  \"Check mle_retvals\", ConvergenceWarning)\n"
     ]
    },
    {
     "name": "stdout",
     "output_type": "stream",
     "text": [
      "Optimization terminated successfully.\n",
      "         Current function value: 3.190760\n",
      "         Iterations: 147\n",
      "         Function evaluations: 155\n",
      "         Gradient evaluations: 155\n",
      "Optimization terminated successfully.\n",
      "         Current function value: 3.629468\n",
      "         Iterations: 188\n",
      "         Function evaluations: 201\n",
      "         Gradient evaluations: 201\n",
      "Optimization terminated successfully.\n",
      "         Current function value: 3.428536\n",
      "         Iterations: 184\n",
      "         Function evaluations: 190\n",
      "         Gradient evaluations: 190\n",
      "Optimization terminated successfully.\n",
      "         Current function value: 4.248385\n",
      "         Iterations: 225\n",
      "         Function evaluations: 245\n",
      "         Gradient evaluations: 245\n",
      "Optimization terminated successfully.\n",
      "         Current function value: 4.289998\n",
      "         Iterations: 229\n",
      "         Function evaluations: 238\n",
      "         Gradient evaluations: 238\n",
      "Warning: Desired error not necessarily achieved due to precision loss.\n",
      "         Current function value: 3.121494\n",
      "         Iterations: 170\n",
      "         Function evaluations: 285\n",
      "         Gradient evaluations: 273\n"
     ]
    },
    {
     "name": "stderr",
     "output_type": "stream",
     "text": [
      "/Users/derin/anaconda/lib/python3.6/site-packages/statsmodels/base/model.py:496: ConvergenceWarning: Maximum Likelihood optimization failed to converge. Check mle_retvals\n",
      "  \"Check mle_retvals\", ConvergenceWarning)\n"
     ]
    },
    {
     "name": "stdout",
     "output_type": "stream",
     "text": [
      "Warning: Desired error not necessarily achieved due to precision loss.\n",
      "         Current function value: 3.504061\n",
      "         Iterations: 189\n",
      "         Function evaluations: 315\n",
      "         Gradient evaluations: 303\n"
     ]
    },
    {
     "name": "stderr",
     "output_type": "stream",
     "text": [
      "/Users/derin/anaconda/lib/python3.6/site-packages/statsmodels/base/model.py:496: ConvergenceWarning: Maximum Likelihood optimization failed to converge. Check mle_retvals\n",
      "  \"Check mle_retvals\", ConvergenceWarning)\n"
     ]
    },
    {
     "name": "stdout",
     "output_type": "stream",
     "text": [
      "Optimization terminated successfully.\n",
      "         Current function value: 4.193814\n",
      "         Iterations: 212\n",
      "         Function evaluations: 223\n",
      "         Gradient evaluations: 223\n",
      "Optimization terminated successfully.\n",
      "         Current function value: 4.035628\n",
      "         Iterations: 246\n",
      "         Function evaluations: 272\n",
      "         Gradient evaluations: 272\n",
      "Optimization terminated successfully.\n",
      "         Current function value: 4.914410\n",
      "         Iterations: 308\n",
      "         Function evaluations: 360\n",
      "         Gradient evaluations: 360\n",
      "Optimization terminated successfully.\n",
      "         Current function value: 2.737462\n",
      "         Iterations: 248\n",
      "         Function evaluations: 342\n",
      "         Gradient evaluations: 338\n",
      "Optimization terminated successfully.\n",
      "         Current function value: 4.782698\n",
      "         Iterations: 277\n",
      "         Function evaluations: 296\n",
      "         Gradient evaluations: 296\n",
      "Warning: Desired error not necessarily achieved due to precision loss.\n",
      "         Current function value: 3.893681\n",
      "         Iterations: 222\n",
      "         Function evaluations: 260\n",
      "         Gradient evaluations: 250\n"
     ]
    },
    {
     "name": "stderr",
     "output_type": "stream",
     "text": [
      "/Users/derin/anaconda/lib/python3.6/site-packages/statsmodels/base/model.py:496: ConvergenceWarning: Maximum Likelihood optimization failed to converge. Check mle_retvals\n",
      "  \"Check mle_retvals\", ConvergenceWarning)\n"
     ]
    },
    {
     "name": "stdout",
     "output_type": "stream",
     "text": [
      "Warning: Desired error not necessarily achieved due to precision loss.\n",
      "         Current function value: 3.369759\n",
      "         Iterations: 193\n",
      "         Function evaluations: 317\n",
      "         Gradient evaluations: 305\n"
     ]
    },
    {
     "name": "stderr",
     "output_type": "stream",
     "text": [
      "/Users/derin/anaconda/lib/python3.6/site-packages/statsmodels/base/model.py:496: ConvergenceWarning: Maximum Likelihood optimization failed to converge. Check mle_retvals\n",
      "  \"Check mle_retvals\", ConvergenceWarning)\n"
     ]
    },
    {
     "name": "stdout",
     "output_type": "stream",
     "text": [
      "Optimization terminated successfully.\n",
      "         Current function value: 4.084281\n",
      "         Iterations: 205\n",
      "         Function evaluations: 225\n",
      "         Gradient evaluations: 225\n",
      "Optimization terminated successfully.\n",
      "         Current function value: 3.709498\n",
      "         Iterations: 199\n",
      "         Function evaluations: 211\n",
      "         Gradient evaluations: 211\n",
      "Optimization terminated successfully.\n",
      "         Current function value: 3.756950\n",
      "         Iterations: 213\n",
      "         Function evaluations: 224\n",
      "         Gradient evaluations: 224\n",
      "Optimization terminated successfully.\n",
      "         Current function value: 4.021969\n",
      "         Iterations: 209\n",
      "         Function evaluations: 220\n",
      "         Gradient evaluations: 220\n",
      "Optimization terminated successfully.\n",
      "         Current function value: 3.663591\n",
      "         Iterations: 193\n",
      "         Function evaluations: 200\n",
      "         Gradient evaluations: 200\n",
      "Optimization terminated successfully.\n",
      "         Current function value: 3.057144\n",
      "         Iterations: 153\n",
      "         Function evaluations: 160\n",
      "         Gradient evaluations: 160\n",
      "Warning: Desired error not necessarily achieved due to precision loss.\n",
      "         Current function value: 3.700564\n",
      "         Iterations: 231\n",
      "         Function evaluations: 280\n",
      "         Gradient evaluations: 272\n"
     ]
    },
    {
     "name": "stderr",
     "output_type": "stream",
     "text": [
      "/Users/derin/anaconda/lib/python3.6/site-packages/statsmodels/base/model.py:496: ConvergenceWarning: Maximum Likelihood optimization failed to converge. Check mle_retvals\n",
      "  \"Check mle_retvals\", ConvergenceWarning)\n"
     ]
    },
    {
     "name": "stdout",
     "output_type": "stream",
     "text": [
      "Optimization terminated successfully.\n",
      "         Current function value: 3.887925\n",
      "         Iterations: 193\n",
      "         Function evaluations: 212\n",
      "         Gradient evaluations: 212\n",
      "Optimization terminated successfully.\n",
      "         Current function value: 2.956177\n",
      "         Iterations: 146\n",
      "         Function evaluations: 151\n",
      "         Gradient evaluations: 151\n",
      "Optimization terminated successfully.\n",
      "         Current function value: 3.691989\n",
      "         Iterations: 217\n",
      "         Function evaluations: 247\n",
      "         Gradient evaluations: 247\n",
      "Optimization terminated successfully.\n",
      "         Current function value: 2.532325\n",
      "         Iterations: 132\n",
      "         Function evaluations: 138\n",
      "         Gradient evaluations: 138\n",
      "Optimization terminated successfully.\n",
      "         Current function value: 3.850434\n",
      "         Iterations: 234\n",
      "         Function evaluations: 260\n",
      "         Gradient evaluations: 260\n",
      "Optimization terminated successfully.\n",
      "         Current function value: 3.543548\n",
      "         Iterations: 143\n",
      "         Function evaluations: 148\n",
      "         Gradient evaluations: 148\n",
      "Optimization terminated successfully.\n",
      "         Current function value: 4.401972\n",
      "         Iterations: 251\n",
      "         Function evaluations: 281\n",
      "         Gradient evaluations: 281\n",
      "Optimization terminated successfully.\n",
      "         Current function value: 3.432330\n",
      "         Iterations: 215\n",
      "         Function evaluations: 241\n",
      "         Gradient evaluations: 241\n",
      "Optimization terminated successfully.\n",
      "         Current function value: 3.461419\n",
      "         Iterations: 169\n",
      "         Function evaluations: 172\n",
      "         Gradient evaluations: 172\n",
      "Optimization terminated successfully.\n",
      "         Current function value: 3.433629\n",
      "         Iterations: 145\n",
      "         Function evaluations: 152\n",
      "         Gradient evaluations: 152\n",
      "Warning: Desired error not necessarily achieved due to precision loss.\n",
      "         Current function value: 3.660486\n",
      "         Iterations: 194\n",
      "         Function evaluations: 270\n",
      "         Gradient evaluations: 258\n"
     ]
    },
    {
     "name": "stderr",
     "output_type": "stream",
     "text": [
      "/Users/derin/anaconda/lib/python3.6/site-packages/statsmodels/base/model.py:496: ConvergenceWarning: Maximum Likelihood optimization failed to converge. Check mle_retvals\n",
      "  \"Check mle_retvals\", ConvergenceWarning)\n"
     ]
    },
    {
     "name": "stdout",
     "output_type": "stream",
     "text": [
      "Optimization terminated successfully.\n",
      "         Current function value: 3.019916\n",
      "         Iterations: 164\n",
      "         Function evaluations: 180\n",
      "         Gradient evaluations: 180\n",
      "Warning: Desired error not necessarily achieved due to precision loss.\n",
      "         Current function value: 3.576605\n",
      "         Iterations: 172\n",
      "         Function evaluations: 231\n",
      "         Gradient evaluations: 221\n"
     ]
    },
    {
     "name": "stderr",
     "output_type": "stream",
     "text": [
      "/Users/derin/anaconda/lib/python3.6/site-packages/statsmodels/base/model.py:496: ConvergenceWarning: Maximum Likelihood optimization failed to converge. Check mle_retvals\n",
      "  \"Check mle_retvals\", ConvergenceWarning)\n"
     ]
    },
    {
     "name": "stdout",
     "output_type": "stream",
     "text": [
      "Warning: Desired error not necessarily achieved due to precision loss.\n",
      "         Current function value: 2.741887\n",
      "         Iterations: 138\n",
      "         Function evaluations: 245\n",
      "         Gradient evaluations: 233\n"
     ]
    },
    {
     "name": "stderr",
     "output_type": "stream",
     "text": [
      "/Users/derin/anaconda/lib/python3.6/site-packages/statsmodels/base/model.py:496: ConvergenceWarning: Maximum Likelihood optimization failed to converge. Check mle_retvals\n",
      "  \"Check mle_retvals\", ConvergenceWarning)\n"
     ]
    },
    {
     "name": "stdout",
     "output_type": "stream",
     "text": [
      "Optimization terminated successfully.\n",
      "         Current function value: 3.744111\n",
      "         Iterations: 210\n",
      "         Function evaluations: 226\n",
      "         Gradient evaluations: 226\n",
      "Optimization terminated successfully.\n",
      "         Current function value: 3.874126\n",
      "         Iterations: 213\n",
      "         Function evaluations: 231\n",
      "         Gradient evaluations: 231\n",
      "Optimization terminated successfully.\n",
      "         Current function value: 3.373558\n",
      "         Iterations: 224\n",
      "         Function evaluations: 239\n",
      "         Gradient evaluations: 239\n",
      "Optimization terminated successfully.\n",
      "         Current function value: 3.161456\n",
      "         Iterations: 171\n",
      "         Function evaluations: 186\n",
      "         Gradient evaluations: 186\n",
      "Optimization terminated successfully.\n",
      "         Current function value: 3.671269\n",
      "         Iterations: 200\n",
      "         Function evaluations: 211\n",
      "         Gradient evaluations: 211\n",
      "Optimization terminated successfully.\n",
      "         Current function value: 3.779601\n",
      "         Iterations: 210\n",
      "         Function evaluations: 223\n",
      "         Gradient evaluations: 223\n",
      "Optimization terminated successfully.\n",
      "         Current function value: 3.330117\n",
      "         Iterations: 238\n",
      "         Function evaluations: 261\n",
      "         Gradient evaluations: 261\n",
      "Warning: Desired error not necessarily achieved due to precision loss.\n",
      "         Current function value: 2.445155\n",
      "         Iterations: 129\n",
      "         Function evaluations: 270\n",
      "         Gradient evaluations: 255\n"
     ]
    },
    {
     "name": "stderr",
     "output_type": "stream",
     "text": [
      "/Users/derin/anaconda/lib/python3.6/site-packages/statsmodels/base/model.py:496: ConvergenceWarning: Maximum Likelihood optimization failed to converge. Check mle_retvals\n",
      "  \"Check mle_retvals\", ConvergenceWarning)\n"
     ]
    },
    {
     "name": "stdout",
     "output_type": "stream",
     "text": [
      "Optimization terminated successfully.\n",
      "         Current function value: 3.803934\n",
      "         Iterations: 219\n",
      "         Function evaluations: 241\n",
      "         Gradient evaluations: 241\n",
      "Warning: Desired error not necessarily achieved due to precision loss.\n",
      "         Current function value: 3.083481\n",
      "         Iterations: 174\n",
      "         Function evaluations: 236\n",
      "         Gradient evaluations: 225\n"
     ]
    },
    {
     "name": "stderr",
     "output_type": "stream",
     "text": [
      "/Users/derin/anaconda/lib/python3.6/site-packages/statsmodels/base/model.py:496: ConvergenceWarning: Maximum Likelihood optimization failed to converge. Check mle_retvals\n",
      "  \"Check mle_retvals\", ConvergenceWarning)\n"
     ]
    },
    {
     "name": "stdout",
     "output_type": "stream",
     "text": [
      "Optimization terminated successfully.\n",
      "         Current function value: 2.671671\n",
      "         Iterations: 153\n",
      "         Function evaluations: 161\n",
      "         Gradient evaluations: 161\n",
      "Optimization terminated successfully.\n",
      "         Current function value: 3.914951\n",
      "         Iterations: 262\n",
      "         Function evaluations: 288\n",
      "         Gradient evaluations: 288\n",
      "Optimization terminated successfully.\n",
      "         Current function value: 2.828922\n",
      "         Iterations: 166\n",
      "         Function evaluations: 181\n",
      "         Gradient evaluations: 181\n",
      "Optimization terminated successfully.\n",
      "         Current function value: 4.210080\n",
      "         Iterations: 272\n",
      "         Function evaluations: 289\n",
      "         Gradient evaluations: 289\n",
      "Optimization terminated successfully.\n",
      "         Current function value: 2.792470\n",
      "         Iterations: 178\n",
      "         Function evaluations: 188\n",
      "         Gradient evaluations: 188\n",
      "Optimization terminated successfully.\n",
      "         Current function value: 2.813663\n",
      "         Iterations: 147\n",
      "         Function evaluations: 154\n",
      "         Gradient evaluations: 154\n",
      "Warning: Desired error not necessarily achieved due to precision loss.\n",
      "         Current function value: 4.331725\n",
      "         Iterations: 904\n",
      "         Function evaluations: 1140\n",
      "         Gradient evaluations: 1129\n"
     ]
    },
    {
     "name": "stderr",
     "output_type": "stream",
     "text": [
      "/Users/derin/anaconda/lib/python3.6/site-packages/statsmodels/base/model.py:496: ConvergenceWarning: Maximum Likelihood optimization failed to converge. Check mle_retvals\n",
      "  \"Check mle_retvals\", ConvergenceWarning)\n"
     ]
    },
    {
     "name": "stdout",
     "output_type": "stream",
     "text": [
      "Warning: Desired error not necessarily achieved due to precision loss.\n",
      "         Current function value: 3.667028\n",
      "         Iterations: 182\n",
      "         Function evaluations: 226\n",
      "         Gradient evaluations: 214\n"
     ]
    },
    {
     "name": "stderr",
     "output_type": "stream",
     "text": [
      "/Users/derin/anaconda/lib/python3.6/site-packages/statsmodels/base/model.py:496: ConvergenceWarning: Maximum Likelihood optimization failed to converge. Check mle_retvals\n",
      "  \"Check mle_retvals\", ConvergenceWarning)\n"
     ]
    },
    {
     "name": "stdout",
     "output_type": "stream",
     "text": [
      "Warning: Desired error not necessarily achieved due to precision loss.\n",
      "         Current function value: 3.937130\n",
      "         Iterations: 178\n",
      "         Function evaluations: 267\n",
      "         Gradient evaluations: 255\n"
     ]
    },
    {
     "name": "stderr",
     "output_type": "stream",
     "text": [
      "/Users/derin/anaconda/lib/python3.6/site-packages/statsmodels/base/model.py:496: ConvergenceWarning: Maximum Likelihood optimization failed to converge. Check mle_retvals\n",
      "  \"Check mle_retvals\", ConvergenceWarning)\n"
     ]
    },
    {
     "name": "stdout",
     "output_type": "stream",
     "text": [
      "Warning: Desired error not necessarily achieved due to precision loss.\n",
      "         Current function value: 2.675969\n",
      "         Iterations: 127\n",
      "         Function evaluations: 235\n",
      "         Gradient evaluations: 223\n"
     ]
    },
    {
     "name": "stderr",
     "output_type": "stream",
     "text": [
      "/Users/derin/anaconda/lib/python3.6/site-packages/statsmodels/base/model.py:496: ConvergenceWarning: Maximum Likelihood optimization failed to converge. Check mle_retvals\n",
      "  \"Check mle_retvals\", ConvergenceWarning)\n"
     ]
    },
    {
     "name": "stdout",
     "output_type": "stream",
     "text": [
      "Warning: Desired error not necessarily achieved due to precision loss.\n",
      "         Current function value: 6.450085\n",
      "         Iterations: 39\n",
      "         Function evaluations: 136\n",
      "         Gradient evaluations: 125\n"
     ]
    },
    {
     "name": "stderr",
     "output_type": "stream",
     "text": [
      "/Users/derin/anaconda/lib/python3.6/site-packages/statsmodels/base/model.py:496: ConvergenceWarning: Maximum Likelihood optimization failed to converge. Check mle_retvals\n",
      "  \"Check mle_retvals\", ConvergenceWarning)\n"
     ]
    },
    {
     "name": "stdout",
     "output_type": "stream",
     "text": [
      "Warning: Desired error not necessarily achieved due to precision loss.\n",
      "         Current function value: 5.732176\n",
      "         Iterations: 4\n",
      "         Function evaluations: 115\n",
      "         Gradient evaluations: 103\n"
     ]
    },
    {
     "name": "stderr",
     "output_type": "stream",
     "text": [
      "/Users/derin/anaconda/lib/python3.6/site-packages/statsmodels/base/model.py:496: ConvergenceWarning: Maximum Likelihood optimization failed to converge. Check mle_retvals\n",
      "  \"Check mle_retvals\", ConvergenceWarning)\n"
     ]
    },
    {
     "name": "stdout",
     "output_type": "stream",
     "text": [
      "Warning: Desired error not necessarily achieved due to precision loss.\n",
      "         Current function value: 5.480993\n",
      "         Iterations: 0\n",
      "         Function evaluations: 113\n",
      "         Gradient evaluations: 101\n"
     ]
    },
    {
     "name": "stderr",
     "output_type": "stream",
     "text": [
      "/Users/derin/anaconda/lib/python3.6/site-packages/statsmodels/base/model.py:496: ConvergenceWarning: Maximum Likelihood optimization failed to converge. Check mle_retvals\n",
      "  \"Check mle_retvals\", ConvergenceWarning)\n"
     ]
    },
    {
     "name": "stdout",
     "output_type": "stream",
     "text": [
      "Warning: Desired error not necessarily achieved due to precision loss.\n",
      "         Current function value: 5.222845\n",
      "         Iterations: 1\n",
      "         Function evaluations: 101\n",
      "         Gradient evaluations: 89\n"
     ]
    },
    {
     "name": "stderr",
     "output_type": "stream",
     "text": [
      "/Users/derin/anaconda/lib/python3.6/site-packages/statsmodels/base/model.py:496: ConvergenceWarning: Maximum Likelihood optimization failed to converge. Check mle_retvals\n",
      "  \"Check mle_retvals\", ConvergenceWarning)\n"
     ]
    },
    {
     "name": "stdout",
     "output_type": "stream",
     "text": [
      "Warning: Desired error not necessarily achieved due to precision loss.\n",
      "         Current function value: 5.668930\n",
      "         Iterations: 0\n",
      "         Function evaluations: 38\n",
      "         Gradient evaluations: 26\n"
     ]
    },
    {
     "name": "stderr",
     "output_type": "stream",
     "text": [
      "/Users/derin/anaconda/lib/python3.6/site-packages/statsmodels/base/model.py:496: ConvergenceWarning: Maximum Likelihood optimization failed to converge. Check mle_retvals\n",
      "  \"Check mle_retvals\", ConvergenceWarning)\n"
     ]
    },
    {
     "name": "stdout",
     "output_type": "stream",
     "text": [
      "Warning: Desired error not necessarily achieved due to precision loss.\n",
      "         Current function value: 6.407341\n",
      "         Iterations: 0\n",
      "         Function evaluations: 55\n",
      "         Gradient evaluations: 45\n"
     ]
    },
    {
     "name": "stderr",
     "output_type": "stream",
     "text": [
      "/Users/derin/anaconda/lib/python3.6/site-packages/statsmodels/base/model.py:496: ConvergenceWarning: Maximum Likelihood optimization failed to converge. Check mle_retvals\n",
      "  \"Check mle_retvals\", ConvergenceWarning)\n"
     ]
    },
    {
     "name": "stdout",
     "output_type": "stream",
     "text": [
      "Warning: Desired error not necessarily achieved due to precision loss.\n",
      "         Current function value: 5.834980\n",
      "         Iterations: 0\n",
      "         Function evaluations: 32\n",
      "         Gradient evaluations: 20\n"
     ]
    },
    {
     "name": "stderr",
     "output_type": "stream",
     "text": [
      "/Users/derin/anaconda/lib/python3.6/site-packages/statsmodels/base/model.py:496: ConvergenceWarning: Maximum Likelihood optimization failed to converge. Check mle_retvals\n",
      "  \"Check mle_retvals\", ConvergenceWarning)\n"
     ]
    },
    {
     "name": "stdout",
     "output_type": "stream",
     "text": [
      "Warning: Desired error not necessarily achieved due to precision loss.\n",
      "         Current function value: 6.167599\n",
      "         Iterations: 18\n",
      "         Function evaluations: 115\n",
      "         Gradient evaluations: 97\n"
     ]
    },
    {
     "name": "stderr",
     "output_type": "stream",
     "text": [
      "/Users/derin/anaconda/lib/python3.6/site-packages/statsmodels/base/model.py:496: ConvergenceWarning: Maximum Likelihood optimization failed to converge. Check mle_retvals\n",
      "  \"Check mle_retvals\", ConvergenceWarning)\n"
     ]
    },
    {
     "name": "stdout",
     "output_type": "stream",
     "text": [
      "Warning: Desired error not necessarily achieved due to precision loss.\n",
      "         Current function value: 6.084830\n",
      "         Iterations: 2\n",
      "         Function evaluations: 92\n",
      "         Gradient evaluations: 80\n"
     ]
    },
    {
     "name": "stderr",
     "output_type": "stream",
     "text": [
      "/Users/derin/anaconda/lib/python3.6/site-packages/statsmodels/base/model.py:496: ConvergenceWarning: Maximum Likelihood optimization failed to converge. Check mle_retvals\n",
      "  \"Check mle_retvals\", ConvergenceWarning)\n"
     ]
    },
    {
     "name": "stdout",
     "output_type": "stream",
     "text": [
      "Warning: Desired error not necessarily achieved due to precision loss.\n",
      "         Current function value: 6.343762\n",
      "         Iterations: 4\n",
      "         Function evaluations: 52\n",
      "         Gradient evaluations: 41\n"
     ]
    },
    {
     "name": "stderr",
     "output_type": "stream",
     "text": [
      "/Users/derin/anaconda/lib/python3.6/site-packages/statsmodels/base/model.py:496: ConvergenceWarning: Maximum Likelihood optimization failed to converge. Check mle_retvals\n",
      "  \"Check mle_retvals\", ConvergenceWarning)\n"
     ]
    },
    {
     "name": "stdout",
     "output_type": "stream",
     "text": [
      "Warning: Desired error not necessarily achieved due to precision loss.\n",
      "         Current function value: 6.450771\n",
      "         Iterations: 2\n",
      "         Function evaluations: 52\n",
      "         Gradient evaluations: 40\n"
     ]
    },
    {
     "name": "stderr",
     "output_type": "stream",
     "text": [
      "/Users/derin/anaconda/lib/python3.6/site-packages/statsmodels/base/model.py:496: ConvergenceWarning: Maximum Likelihood optimization failed to converge. Check mle_retvals\n",
      "  \"Check mle_retvals\", ConvergenceWarning)\n"
     ]
    },
    {
     "name": "stdout",
     "output_type": "stream",
     "text": [
      "Warning: Desired error not necessarily achieved due to precision loss.\n",
      "         Current function value: 6.367913\n",
      "         Iterations: 0\n",
      "         Function evaluations: 53\n",
      "         Gradient evaluations: 41\n"
     ]
    },
    {
     "name": "stderr",
     "output_type": "stream",
     "text": [
      "/Users/derin/anaconda/lib/python3.6/site-packages/statsmodels/base/model.py:496: ConvergenceWarning: Maximum Likelihood optimization failed to converge. Check mle_retvals\n",
      "  \"Check mle_retvals\", ConvergenceWarning)\n"
     ]
    },
    {
     "name": "stdout",
     "output_type": "stream",
     "text": [
      "Warning: Desired error not necessarily achieved due to precision loss.\n",
      "         Current function value: 5.760078\n",
      "         Iterations: 1\n",
      "         Function evaluations: 61\n",
      "         Gradient evaluations: 50\n"
     ]
    },
    {
     "name": "stderr",
     "output_type": "stream",
     "text": [
      "/Users/derin/anaconda/lib/python3.6/site-packages/statsmodels/base/model.py:496: ConvergenceWarning: Maximum Likelihood optimization failed to converge. Check mle_retvals\n",
      "  \"Check mle_retvals\", ConvergenceWarning)\n"
     ]
    },
    {
     "name": "stdout",
     "output_type": "stream",
     "text": [
      "Warning: Desired error not necessarily achieved due to precision loss.\n",
      "         Current function value: 5.572207\n",
      "         Iterations: 1\n",
      "         Function evaluations: 82\n",
      "         Gradient evaluations: 70\n"
     ]
    },
    {
     "name": "stderr",
     "output_type": "stream",
     "text": [
      "/Users/derin/anaconda/lib/python3.6/site-packages/statsmodels/base/model.py:496: ConvergenceWarning: Maximum Likelihood optimization failed to converge. Check mle_retvals\n",
      "  \"Check mle_retvals\", ConvergenceWarning)\n"
     ]
    },
    {
     "name": "stdout",
     "output_type": "stream",
     "text": [
      "Warning: Desired error not necessarily achieved due to precision loss.\n",
      "         Current function value: 6.135197\n",
      "         Iterations: 3\n",
      "         Function evaluations: 100\n",
      "         Gradient evaluations: 88\n"
     ]
    },
    {
     "name": "stderr",
     "output_type": "stream",
     "text": [
      "/Users/derin/anaconda/lib/python3.6/site-packages/statsmodels/base/model.py:496: ConvergenceWarning: Maximum Likelihood optimization failed to converge. Check mle_retvals\n",
      "  \"Check mle_retvals\", ConvergenceWarning)\n"
     ]
    },
    {
     "name": "stdout",
     "output_type": "stream",
     "text": [
      "Warning: Desired error not necessarily achieved due to precision loss.\n",
      "         Current function value: 5.817006\n",
      "         Iterations: 1\n",
      "         Function evaluations: 93\n",
      "         Gradient evaluations: 81\n"
     ]
    },
    {
     "name": "stderr",
     "output_type": "stream",
     "text": [
      "/Users/derin/anaconda/lib/python3.6/site-packages/statsmodels/base/model.py:496: ConvergenceWarning: Maximum Likelihood optimization failed to converge. Check mle_retvals\n",
      "  \"Check mle_retvals\", ConvergenceWarning)\n"
     ]
    },
    {
     "name": "stdout",
     "output_type": "stream",
     "text": [
      "Warning: Desired error not necessarily achieved due to precision loss.\n",
      "         Current function value: 6.287589\n",
      "         Iterations: 5\n",
      "         Function evaluations: 63\n",
      "         Gradient evaluations: 53\n"
     ]
    },
    {
     "name": "stderr",
     "output_type": "stream",
     "text": [
      "/Users/derin/anaconda/lib/python3.6/site-packages/statsmodels/base/model.py:496: ConvergenceWarning: Maximum Likelihood optimization failed to converge. Check mle_retvals\n",
      "  \"Check mle_retvals\", ConvergenceWarning)\n"
     ]
    },
    {
     "name": "stdout",
     "output_type": "stream",
     "text": [
      "Warning: Desired error not necessarily achieved due to precision loss.\n",
      "         Current function value: 5.915085\n",
      "         Iterations: 1\n",
      "         Function evaluations: 115\n",
      "         Gradient evaluations: 103\n"
     ]
    },
    {
     "name": "stderr",
     "output_type": "stream",
     "text": [
      "/Users/derin/anaconda/lib/python3.6/site-packages/statsmodels/base/model.py:496: ConvergenceWarning: Maximum Likelihood optimization failed to converge. Check mle_retvals\n",
      "  \"Check mle_retvals\", ConvergenceWarning)\n"
     ]
    },
    {
     "name": "stdout",
     "output_type": "stream",
     "text": [
      "Warning: Desired error not necessarily achieved due to precision loss.\n",
      "         Current function value: 6.133276\n",
      "         Iterations: 1\n",
      "         Function evaluations: 95\n",
      "         Gradient evaluations: 84\n"
     ]
    },
    {
     "name": "stderr",
     "output_type": "stream",
     "text": [
      "/Users/derin/anaconda/lib/python3.6/site-packages/statsmodels/base/model.py:496: ConvergenceWarning: Maximum Likelihood optimization failed to converge. Check mle_retvals\n",
      "  \"Check mle_retvals\", ConvergenceWarning)\n"
     ]
    },
    {
     "name": "stdout",
     "output_type": "stream",
     "text": [
      "Warning: Desired error not necessarily achieved due to precision loss.\n",
      "         Current function value: 6.061698\n",
      "         Iterations: 0\n",
      "         Function evaluations: 87\n",
      "         Gradient evaluations: 75\n"
     ]
    },
    {
     "name": "stderr",
     "output_type": "stream",
     "text": [
      "/Users/derin/anaconda/lib/python3.6/site-packages/statsmodels/base/model.py:496: ConvergenceWarning: Maximum Likelihood optimization failed to converge. Check mle_retvals\n",
      "  \"Check mle_retvals\", ConvergenceWarning)\n"
     ]
    },
    {
     "name": "stdout",
     "output_type": "stream",
     "text": [
      "Warning: Desired error not necessarily achieved due to precision loss.\n",
      "         Current function value: 6.288431\n",
      "         Iterations: 27\n",
      "         Function evaluations: 73\n",
      "         Gradient evaluations: 64\n"
     ]
    },
    {
     "name": "stderr",
     "output_type": "stream",
     "text": [
      "/Users/derin/anaconda/lib/python3.6/site-packages/statsmodels/base/model.py:496: ConvergenceWarning: Maximum Likelihood optimization failed to converge. Check mle_retvals\n",
      "  \"Check mle_retvals\", ConvergenceWarning)\n"
     ]
    },
    {
     "name": "stdout",
     "output_type": "stream",
     "text": [
      "Warning: Desired error not necessarily achieved due to precision loss.\n",
      "         Current function value: 6.831619\n",
      "         Iterations: 58\n",
      "         Function evaluations: 180\n",
      "         Gradient evaluations: 169\n"
     ]
    },
    {
     "name": "stderr",
     "output_type": "stream",
     "text": [
      "/Users/derin/anaconda/lib/python3.6/site-packages/statsmodels/base/model.py:496: ConvergenceWarning: Maximum Likelihood optimization failed to converge. Check mle_retvals\n",
      "  \"Check mle_retvals\", ConvergenceWarning)\n"
     ]
    },
    {
     "name": "stdout",
     "output_type": "stream",
     "text": [
      "Warning: Desired error not necessarily achieved due to precision loss.\n",
      "         Current function value: 6.257139\n",
      "         Iterations: 2\n",
      "         Function evaluations: 60\n",
      "         Gradient evaluations: 48\n"
     ]
    },
    {
     "name": "stderr",
     "output_type": "stream",
     "text": [
      "/Users/derin/anaconda/lib/python3.6/site-packages/statsmodels/base/model.py:496: ConvergenceWarning: Maximum Likelihood optimization failed to converge. Check mle_retvals\n",
      "  \"Check mle_retvals\", ConvergenceWarning)\n"
     ]
    },
    {
     "name": "stdout",
     "output_type": "stream",
     "text": [
      "Warning: Desired error not necessarily achieved due to precision loss.\n",
      "         Current function value: 6.536742\n",
      "         Iterations: 13\n",
      "         Function evaluations: 80\n",
      "         Gradient evaluations: 69\n"
     ]
    },
    {
     "name": "stderr",
     "output_type": "stream",
     "text": [
      "/Users/derin/anaconda/lib/python3.6/site-packages/statsmodels/base/model.py:496: ConvergenceWarning: Maximum Likelihood optimization failed to converge. Check mle_retvals\n",
      "  \"Check mle_retvals\", ConvergenceWarning)\n"
     ]
    },
    {
     "name": "stdout",
     "output_type": "stream",
     "text": [
      "Warning: Desired error not necessarily achieved due to precision loss.\n",
      "         Current function value: 6.496531\n",
      "         Iterations: 2\n",
      "         Function evaluations: 93\n",
      "         Gradient evaluations: 81\n"
     ]
    },
    {
     "name": "stderr",
     "output_type": "stream",
     "text": [
      "/Users/derin/anaconda/lib/python3.6/site-packages/statsmodels/base/model.py:496: ConvergenceWarning: Maximum Likelihood optimization failed to converge. Check mle_retvals\n",
      "  \"Check mle_retvals\", ConvergenceWarning)\n"
     ]
    },
    {
     "name": "stdout",
     "output_type": "stream",
     "text": [
      "Warning: Desired error not necessarily achieved due to precision loss.\n",
      "         Current function value: 6.313048\n",
      "         Iterations: 1\n",
      "         Function evaluations: 49\n",
      "         Gradient evaluations: 37\n"
     ]
    },
    {
     "name": "stderr",
     "output_type": "stream",
     "text": [
      "/Users/derin/anaconda/lib/python3.6/site-packages/statsmodels/base/model.py:496: ConvergenceWarning: Maximum Likelihood optimization failed to converge. Check mle_retvals\n",
      "  \"Check mle_retvals\", ConvergenceWarning)\n"
     ]
    },
    {
     "name": "stdout",
     "output_type": "stream",
     "text": [
      "Warning: Desired error not necessarily achieved due to precision loss.\n",
      "         Current function value: 6.414274\n",
      "         Iterations: 2\n",
      "         Function evaluations: 91\n",
      "         Gradient evaluations: 79\n"
     ]
    },
    {
     "name": "stderr",
     "output_type": "stream",
     "text": [
      "/Users/derin/anaconda/lib/python3.6/site-packages/statsmodels/base/model.py:496: ConvergenceWarning: Maximum Likelihood optimization failed to converge. Check mle_retvals\n",
      "  \"Check mle_retvals\", ConvergenceWarning)\n"
     ]
    },
    {
     "name": "stdout",
     "output_type": "stream",
     "text": [
      "Warning: Desired error not necessarily achieved due to precision loss.\n",
      "         Current function value: 6.099136\n",
      "         Iterations: 2\n",
      "         Function evaluations: 56\n",
      "         Gradient evaluations: 46\n"
     ]
    },
    {
     "name": "stderr",
     "output_type": "stream",
     "text": [
      "/Users/derin/anaconda/lib/python3.6/site-packages/statsmodels/base/model.py:496: ConvergenceWarning: Maximum Likelihood optimization failed to converge. Check mle_retvals\n",
      "  \"Check mle_retvals\", ConvergenceWarning)\n"
     ]
    },
    {
     "name": "stdout",
     "output_type": "stream",
     "text": [
      "Warning: Desired error not necessarily achieved due to precision loss.\n",
      "         Current function value: 6.303845\n",
      "         Iterations: 1\n",
      "         Function evaluations: 40\n",
      "         Gradient evaluations: 30\n"
     ]
    },
    {
     "name": "stderr",
     "output_type": "stream",
     "text": [
      "/Users/derin/anaconda/lib/python3.6/site-packages/statsmodels/base/model.py:496: ConvergenceWarning: Maximum Likelihood optimization failed to converge. Check mle_retvals\n",
      "  \"Check mle_retvals\", ConvergenceWarning)\n"
     ]
    },
    {
     "name": "stdout",
     "output_type": "stream",
     "text": [
      "Warning: Desired error not necessarily achieved due to precision loss.\n",
      "         Current function value: 6.238841\n",
      "         Iterations: 2\n",
      "         Function evaluations: 55\n",
      "         Gradient evaluations: 43\n"
     ]
    },
    {
     "name": "stderr",
     "output_type": "stream",
     "text": [
      "/Users/derin/anaconda/lib/python3.6/site-packages/statsmodels/base/model.py:496: ConvergenceWarning: Maximum Likelihood optimization failed to converge. Check mle_retvals\n",
      "  \"Check mle_retvals\", ConvergenceWarning)\n"
     ]
    },
    {
     "name": "stdout",
     "output_type": "stream",
     "text": [
      "Warning: Desired error not necessarily achieved due to precision loss.\n",
      "         Current function value: 6.405019\n",
      "         Iterations: 2\n",
      "         Function evaluations: 93\n",
      "         Gradient evaluations: 81\n"
     ]
    },
    {
     "name": "stderr",
     "output_type": "stream",
     "text": [
      "/Users/derin/anaconda/lib/python3.6/site-packages/statsmodels/base/model.py:496: ConvergenceWarning: Maximum Likelihood optimization failed to converge. Check mle_retvals\n",
      "  \"Check mle_retvals\", ConvergenceWarning)\n"
     ]
    },
    {
     "name": "stdout",
     "output_type": "stream",
     "text": [
      "Warning: Desired error not necessarily achieved due to precision loss.\n",
      "         Current function value: 6.165414\n",
      "         Iterations: 2\n",
      "         Function evaluations: 80\n",
      "         Gradient evaluations: 68\n"
     ]
    },
    {
     "name": "stderr",
     "output_type": "stream",
     "text": [
      "/Users/derin/anaconda/lib/python3.6/site-packages/statsmodels/base/model.py:496: ConvergenceWarning: Maximum Likelihood optimization failed to converge. Check mle_retvals\n",
      "  \"Check mle_retvals\", ConvergenceWarning)\n"
     ]
    },
    {
     "name": "stdout",
     "output_type": "stream",
     "text": [
      "Warning: Desired error not necessarily achieved due to precision loss.\n",
      "         Current function value: 6.396823\n",
      "         Iterations: 0\n",
      "         Function evaluations: 45\n",
      "         Gradient evaluations: 34\n"
     ]
    },
    {
     "name": "stderr",
     "output_type": "stream",
     "text": [
      "/Users/derin/anaconda/lib/python3.6/site-packages/statsmodels/base/model.py:496: ConvergenceWarning: Maximum Likelihood optimization failed to converge. Check mle_retvals\n",
      "  \"Check mle_retvals\", ConvergenceWarning)\n"
     ]
    },
    {
     "name": "stdout",
     "output_type": "stream",
     "text": [
      "Warning: Desired error not necessarily achieved due to precision loss.\n",
      "         Current function value: 6.172666\n",
      "         Iterations: 2\n",
      "         Function evaluations: 63\n",
      "         Gradient evaluations: 51\n"
     ]
    },
    {
     "name": "stderr",
     "output_type": "stream",
     "text": [
      "/Users/derin/anaconda/lib/python3.6/site-packages/statsmodels/base/model.py:496: ConvergenceWarning: Maximum Likelihood optimization failed to converge. Check mle_retvals\n",
      "  \"Check mle_retvals\", ConvergenceWarning)\n"
     ]
    },
    {
     "name": "stdout",
     "output_type": "stream",
     "text": [
      "Warning: Desired error not necessarily achieved due to precision loss.\n",
      "         Current function value: 6.207591\n",
      "         Iterations: 1\n",
      "         Function evaluations: 45\n",
      "         Gradient evaluations: 36\n"
     ]
    },
    {
     "name": "stderr",
     "output_type": "stream",
     "text": [
      "/Users/derin/anaconda/lib/python3.6/site-packages/statsmodels/base/model.py:496: ConvergenceWarning: Maximum Likelihood optimization failed to converge. Check mle_retvals\n",
      "  \"Check mle_retvals\", ConvergenceWarning)\n"
     ]
    },
    {
     "name": "stdout",
     "output_type": "stream",
     "text": [
      "Warning: Desired error not necessarily achieved due to precision loss.\n",
      "         Current function value: 6.268088\n",
      "         Iterations: 1\n",
      "         Function evaluations: 38\n",
      "         Gradient evaluations: 28\n"
     ]
    },
    {
     "name": "stderr",
     "output_type": "stream",
     "text": [
      "/Users/derin/anaconda/lib/python3.6/site-packages/statsmodels/base/model.py:496: ConvergenceWarning: Maximum Likelihood optimization failed to converge. Check mle_retvals\n",
      "  \"Check mle_retvals\", ConvergenceWarning)\n"
     ]
    },
    {
     "name": "stdout",
     "output_type": "stream",
     "text": [
      "Warning: Desired error not necessarily achieved due to precision loss.\n",
      "         Current function value: 6.626209\n",
      "         Iterations: 3\n",
      "         Function evaluations: 62\n",
      "         Gradient evaluations: 50\n"
     ]
    },
    {
     "name": "stderr",
     "output_type": "stream",
     "text": [
      "/Users/derin/anaconda/lib/python3.6/site-packages/statsmodels/base/model.py:496: ConvergenceWarning: Maximum Likelihood optimization failed to converge. Check mle_retvals\n",
      "  \"Check mle_retvals\", ConvergenceWarning)\n"
     ]
    },
    {
     "name": "stdout",
     "output_type": "stream",
     "text": [
      "Warning: Desired error not necessarily achieved due to precision loss.\n",
      "         Current function value: 6.345009\n",
      "         Iterations: 2\n",
      "         Function evaluations: 40\n",
      "         Gradient evaluations: 28\n"
     ]
    },
    {
     "name": "stderr",
     "output_type": "stream",
     "text": [
      "/Users/derin/anaconda/lib/python3.6/site-packages/statsmodels/base/model.py:496: ConvergenceWarning: Maximum Likelihood optimization failed to converge. Check mle_retvals\n",
      "  \"Check mle_retvals\", ConvergenceWarning)\n"
     ]
    },
    {
     "name": "stdout",
     "output_type": "stream",
     "text": [
      "Warning: Desired error not necessarily achieved due to precision loss.\n",
      "         Current function value: 6.376368\n",
      "         Iterations: 0\n",
      "         Function evaluations: 45\n",
      "         Gradient evaluations: 34\n"
     ]
    },
    {
     "name": "stderr",
     "output_type": "stream",
     "text": [
      "/Users/derin/anaconda/lib/python3.6/site-packages/statsmodels/base/model.py:496: ConvergenceWarning: Maximum Likelihood optimization failed to converge. Check mle_retvals\n",
      "  \"Check mle_retvals\", ConvergenceWarning)\n"
     ]
    },
    {
     "name": "stdout",
     "output_type": "stream",
     "text": [
      "Warning: Desired error not necessarily achieved due to precision loss.\n",
      "         Current function value: 6.217630\n",
      "         Iterations: 2\n",
      "         Function evaluations: 73\n",
      "         Gradient evaluations: 61\n"
     ]
    },
    {
     "name": "stderr",
     "output_type": "stream",
     "text": [
      "/Users/derin/anaconda/lib/python3.6/site-packages/statsmodels/base/model.py:496: ConvergenceWarning: Maximum Likelihood optimization failed to converge. Check mle_retvals\n",
      "  \"Check mle_retvals\", ConvergenceWarning)\n"
     ]
    },
    {
     "name": "stdout",
     "output_type": "stream",
     "text": [
      "Warning: Desired error not necessarily achieved due to precision loss.\n",
      "         Current function value: 6.416542\n",
      "         Iterations: 2\n",
      "         Function evaluations: 56\n",
      "         Gradient evaluations: 44\n"
     ]
    },
    {
     "name": "stderr",
     "output_type": "stream",
     "text": [
      "/Users/derin/anaconda/lib/python3.6/site-packages/statsmodels/base/model.py:496: ConvergenceWarning: Maximum Likelihood optimization failed to converge. Check mle_retvals\n",
      "  \"Check mle_retvals\", ConvergenceWarning)\n"
     ]
    },
    {
     "name": "stdout",
     "output_type": "stream",
     "text": [
      "Warning: Desired error not necessarily achieved due to precision loss.\n",
      "         Current function value: 6.134050\n",
      "         Iterations: 2\n",
      "         Function evaluations: 62\n",
      "         Gradient evaluations: 51\n"
     ]
    },
    {
     "name": "stderr",
     "output_type": "stream",
     "text": [
      "/Users/derin/anaconda/lib/python3.6/site-packages/statsmodels/base/model.py:496: ConvergenceWarning: Maximum Likelihood optimization failed to converge. Check mle_retvals\n",
      "  \"Check mle_retvals\", ConvergenceWarning)\n"
     ]
    },
    {
     "name": "stdout",
     "output_type": "stream",
     "text": [
      "Warning: Desired error not necessarily achieved due to precision loss.\n",
      "         Current function value: 6.178380\n",
      "         Iterations: 1\n",
      "         Function evaluations: 43\n",
      "         Gradient evaluations: 35\n"
     ]
    },
    {
     "name": "stderr",
     "output_type": "stream",
     "text": [
      "/Users/derin/anaconda/lib/python3.6/site-packages/statsmodels/base/model.py:496: ConvergenceWarning: Maximum Likelihood optimization failed to converge. Check mle_retvals\n",
      "  \"Check mle_retvals\", ConvergenceWarning)\n"
     ]
    },
    {
     "name": "stdout",
     "output_type": "stream",
     "text": [
      "Warning: Desired error not necessarily achieved due to precision loss.\n",
      "         Current function value: 6.145008\n",
      "         Iterations: 1\n",
      "         Function evaluations: 43\n",
      "         Gradient evaluations: 35\n"
     ]
    },
    {
     "name": "stderr",
     "output_type": "stream",
     "text": [
      "/Users/derin/anaconda/lib/python3.6/site-packages/statsmodels/base/model.py:496: ConvergenceWarning: Maximum Likelihood optimization failed to converge. Check mle_retvals\n",
      "  \"Check mle_retvals\", ConvergenceWarning)\n"
     ]
    },
    {
     "name": "stdout",
     "output_type": "stream",
     "text": [
      "Warning: Desired error not necessarily achieved due to precision loss.\n",
      "         Current function value: 6.075731\n",
      "         Iterations: 2\n",
      "         Function evaluations: 108\n",
      "         Gradient evaluations: 96\n"
     ]
    },
    {
     "name": "stderr",
     "output_type": "stream",
     "text": [
      "/Users/derin/anaconda/lib/python3.6/site-packages/statsmodels/base/model.py:496: ConvergenceWarning: Maximum Likelihood optimization failed to converge. Check mle_retvals\n",
      "  \"Check mle_retvals\", ConvergenceWarning)\n"
     ]
    },
    {
     "name": "stdout",
     "output_type": "stream",
     "text": [
      "Warning: Desired error not necessarily achieved due to precision loss.\n",
      "         Current function value: 6.220210\n",
      "         Iterations: 2\n",
      "         Function evaluations: 62\n",
      "         Gradient evaluations: 50\n"
     ]
    },
    {
     "name": "stderr",
     "output_type": "stream",
     "text": [
      "/Users/derin/anaconda/lib/python3.6/site-packages/statsmodels/base/model.py:496: ConvergenceWarning: Maximum Likelihood optimization failed to converge. Check mle_retvals\n",
      "  \"Check mle_retvals\", ConvergenceWarning)\n"
     ]
    },
    {
     "name": "stdout",
     "output_type": "stream",
     "text": [
      "Warning: Desired error not necessarily achieved due to precision loss.\n",
      "         Current function value: 6.323514\n",
      "         Iterations: 3\n",
      "         Function evaluations: 53\n",
      "         Gradient evaluations: 42\n"
     ]
    },
    {
     "name": "stderr",
     "output_type": "stream",
     "text": [
      "/Users/derin/anaconda/lib/python3.6/site-packages/statsmodels/base/model.py:496: ConvergenceWarning: Maximum Likelihood optimization failed to converge. Check mle_retvals\n",
      "  \"Check mle_retvals\", ConvergenceWarning)\n"
     ]
    },
    {
     "name": "stdout",
     "output_type": "stream",
     "text": [
      "Warning: Desired error not necessarily achieved due to precision loss.\n",
      "         Current function value: 6.323447\n",
      "         Iterations: 4\n",
      "         Function evaluations: 73\n",
      "         Gradient evaluations: 62\n"
     ]
    },
    {
     "name": "stderr",
     "output_type": "stream",
     "text": [
      "/Users/derin/anaconda/lib/python3.6/site-packages/statsmodels/base/model.py:496: ConvergenceWarning: Maximum Likelihood optimization failed to converge. Check mle_retvals\n",
      "  \"Check mle_retvals\", ConvergenceWarning)\n"
     ]
    },
    {
     "name": "stdout",
     "output_type": "stream",
     "text": [
      "Warning: Desired error not necessarily achieved due to precision loss.\n",
      "         Current function value: 6.542571\n",
      "         Iterations: 3\n",
      "         Function evaluations: 42\n",
      "         Gradient evaluations: 31\n"
     ]
    },
    {
     "name": "stderr",
     "output_type": "stream",
     "text": [
      "/Users/derin/anaconda/lib/python3.6/site-packages/statsmodels/base/model.py:496: ConvergenceWarning: Maximum Likelihood optimization failed to converge. Check mle_retvals\n",
      "  \"Check mle_retvals\", ConvergenceWarning)\n"
     ]
    },
    {
     "name": "stdout",
     "output_type": "stream",
     "text": [
      "Warning: Desired error not necessarily achieved due to precision loss.\n",
      "         Current function value: 6.345009\n",
      "         Iterations: 2\n",
      "         Function evaluations: 40\n",
      "         Gradient evaluations: 28\n"
     ]
    },
    {
     "name": "stderr",
     "output_type": "stream",
     "text": [
      "/Users/derin/anaconda/lib/python3.6/site-packages/statsmodels/base/model.py:496: ConvergenceWarning: Maximum Likelihood optimization failed to converge. Check mle_retvals\n",
      "  \"Check mle_retvals\", ConvergenceWarning)\n"
     ]
    },
    {
     "name": "stdout",
     "output_type": "stream",
     "text": [
      "Warning: Desired error not necessarily achieved due to precision loss.\n",
      "         Current function value: 6.151064\n",
      "         Iterations: 3\n",
      "         Function evaluations: 79\n",
      "         Gradient evaluations: 67\n"
     ]
    },
    {
     "name": "stderr",
     "output_type": "stream",
     "text": [
      "/Users/derin/anaconda/lib/python3.6/site-packages/statsmodels/base/model.py:496: ConvergenceWarning: Maximum Likelihood optimization failed to converge. Check mle_retvals\n",
      "  \"Check mle_retvals\", ConvergenceWarning)\n"
     ]
    },
    {
     "name": "stdout",
     "output_type": "stream",
     "text": [
      "Warning: Desired error not necessarily achieved due to precision loss.\n",
      "         Current function value: 6.250765\n",
      "         Iterations: 1\n",
      "         Function evaluations: 51\n",
      "         Gradient evaluations: 39\n"
     ]
    },
    {
     "name": "stderr",
     "output_type": "stream",
     "text": [
      "/Users/derin/anaconda/lib/python3.6/site-packages/statsmodels/base/model.py:496: ConvergenceWarning: Maximum Likelihood optimization failed to converge. Check mle_retvals\n",
      "  \"Check mle_retvals\", ConvergenceWarning)\n"
     ]
    },
    {
     "name": "stdout",
     "output_type": "stream",
     "text": [
      "Warning: Desired error not necessarily achieved due to precision loss.\n",
      "         Current function value: 6.534070\n",
      "         Iterations: 12\n",
      "         Function evaluations: 65\n",
      "         Gradient evaluations: 54\n"
     ]
    },
    {
     "name": "stderr",
     "output_type": "stream",
     "text": [
      "/Users/derin/anaconda/lib/python3.6/site-packages/statsmodels/base/model.py:496: ConvergenceWarning: Maximum Likelihood optimization failed to converge. Check mle_retvals\n",
      "  \"Check mle_retvals\", ConvergenceWarning)\n"
     ]
    },
    {
     "name": "stdout",
     "output_type": "stream",
     "text": [
      "Warning: Desired error not necessarily achieved due to precision loss.\n",
      "         Current function value: 6.512214\n",
      "         Iterations: 5\n",
      "         Function evaluations: 50\n",
      "         Gradient evaluations: 38\n"
     ]
    },
    {
     "name": "stderr",
     "output_type": "stream",
     "text": [
      "/Users/derin/anaconda/lib/python3.6/site-packages/statsmodels/base/model.py:496: ConvergenceWarning: Maximum Likelihood optimization failed to converge. Check mle_retvals\n",
      "  \"Check mle_retvals\", ConvergenceWarning)\n"
     ]
    },
    {
     "name": "stdout",
     "output_type": "stream",
     "text": [
      "Warning: Desired error not necessarily achieved due to precision loss.\n",
      "         Current function value: 6.976611\n",
      "         Iterations: 52\n",
      "         Function evaluations: 155\n",
      "         Gradient evaluations: 144\n"
     ]
    },
    {
     "name": "stderr",
     "output_type": "stream",
     "text": [
      "/Users/derin/anaconda/lib/python3.6/site-packages/statsmodels/base/model.py:496: ConvergenceWarning: Maximum Likelihood optimization failed to converge. Check mle_retvals\n",
      "  \"Check mle_retvals\", ConvergenceWarning)\n"
     ]
    },
    {
     "name": "stdout",
     "output_type": "stream",
     "text": [
      "Warning: Desired error not necessarily achieved due to precision loss.\n",
      "         Current function value: 6.098183\n",
      "         Iterations: 1\n",
      "         Function evaluations: 81\n",
      "         Gradient evaluations: 69\n"
     ]
    },
    {
     "name": "stderr",
     "output_type": "stream",
     "text": [
      "/Users/derin/anaconda/lib/python3.6/site-packages/statsmodels/base/model.py:496: ConvergenceWarning: Maximum Likelihood optimization failed to converge. Check mle_retvals\n",
      "  \"Check mle_retvals\", ConvergenceWarning)\n"
     ]
    },
    {
     "name": "stdout",
     "output_type": "stream",
     "text": [
      "Warning: Desired error not necessarily achieved due to precision loss.\n",
      "         Current function value: 6.821818\n",
      "         Iterations: 25\n",
      "         Function evaluations: 83\n",
      "         Gradient evaluations: 71\n"
     ]
    },
    {
     "name": "stderr",
     "output_type": "stream",
     "text": [
      "/Users/derin/anaconda/lib/python3.6/site-packages/statsmodels/base/model.py:496: ConvergenceWarning: Maximum Likelihood optimization failed to converge. Check mle_retvals\n",
      "  \"Check mle_retvals\", ConvergenceWarning)\n"
     ]
    },
    {
     "name": "stdout",
     "output_type": "stream",
     "text": [
      "Warning: Desired error not necessarily achieved due to precision loss.\n",
      "         Current function value: 6.281991\n",
      "         Iterations: 1\n",
      "         Function evaluations: 84\n",
      "         Gradient evaluations: 72\n"
     ]
    },
    {
     "name": "stderr",
     "output_type": "stream",
     "text": [
      "/Users/derin/anaconda/lib/python3.6/site-packages/statsmodels/base/model.py:496: ConvergenceWarning: Maximum Likelihood optimization failed to converge. Check mle_retvals\n",
      "  \"Check mle_retvals\", ConvergenceWarning)\n"
     ]
    },
    {
     "name": "stdout",
     "output_type": "stream",
     "text": [
      "Warning: Desired error not necessarily achieved due to precision loss.\n",
      "         Current function value: 6.204830\n",
      "         Iterations: 2\n",
      "         Function evaluations: 111\n",
      "         Gradient evaluations: 99\n"
     ]
    },
    {
     "name": "stderr",
     "output_type": "stream",
     "text": [
      "/Users/derin/anaconda/lib/python3.6/site-packages/statsmodels/base/model.py:496: ConvergenceWarning: Maximum Likelihood optimization failed to converge. Check mle_retvals\n",
      "  \"Check mle_retvals\", ConvergenceWarning)\n"
     ]
    },
    {
     "name": "stdout",
     "output_type": "stream",
     "text": [
      "Warning: Desired error not necessarily achieved due to precision loss.\n",
      "         Current function value: 6.423078\n",
      "         Iterations: 2\n",
      "         Function evaluations: 90\n",
      "         Gradient evaluations: 79\n"
     ]
    },
    {
     "name": "stderr",
     "output_type": "stream",
     "text": [
      "/Users/derin/anaconda/lib/python3.6/site-packages/statsmodels/base/model.py:496: ConvergenceWarning: Maximum Likelihood optimization failed to converge. Check mle_retvals\n",
      "  \"Check mle_retvals\", ConvergenceWarning)\n"
     ]
    },
    {
     "name": "stdout",
     "output_type": "stream",
     "text": [
      "Warning: Desired error not necessarily achieved due to precision loss.\n",
      "         Current function value: 6.351955\n",
      "         Iterations: 1\n",
      "         Function evaluations: 65\n",
      "         Gradient evaluations: 53\n"
     ]
    },
    {
     "name": "stderr",
     "output_type": "stream",
     "text": [
      "/Users/derin/anaconda/lib/python3.6/site-packages/statsmodels/base/model.py:496: ConvergenceWarning: Maximum Likelihood optimization failed to converge. Check mle_retvals\n",
      "  \"Check mle_retvals\", ConvergenceWarning)\n"
     ]
    },
    {
     "name": "stdout",
     "output_type": "stream",
     "text": [
      "Warning: Desired error not necessarily achieved due to precision loss.\n",
      "         Current function value: 6.233000\n",
      "         Iterations: 2\n",
      "         Function evaluations: 98\n",
      "         Gradient evaluations: 86\n"
     ]
    },
    {
     "name": "stderr",
     "output_type": "stream",
     "text": [
      "/Users/derin/anaconda/lib/python3.6/site-packages/statsmodels/base/model.py:496: ConvergenceWarning: Maximum Likelihood optimization failed to converge. Check mle_retvals\n",
      "  \"Check mle_retvals\", ConvergenceWarning)\n"
     ]
    },
    {
     "name": "stdout",
     "output_type": "stream",
     "text": [
      "Warning: Desired error not necessarily achieved due to precision loss.\n",
      "         Current function value: 6.346984\n",
      "         Iterations: 2\n",
      "         Function evaluations: 92\n",
      "         Gradient evaluations: 80\n"
     ]
    },
    {
     "name": "stderr",
     "output_type": "stream",
     "text": [
      "/Users/derin/anaconda/lib/python3.6/site-packages/statsmodels/base/model.py:496: ConvergenceWarning: Maximum Likelihood optimization failed to converge. Check mle_retvals\n",
      "  \"Check mle_retvals\", ConvergenceWarning)\n"
     ]
    },
    {
     "name": "stdout",
     "output_type": "stream",
     "text": [
      "Warning: Desired error not necessarily achieved due to precision loss.\n",
      "         Current function value: 6.199659\n",
      "         Iterations: 2\n",
      "         Function evaluations: 129\n",
      "         Gradient evaluations: 117\n"
     ]
    },
    {
     "name": "stderr",
     "output_type": "stream",
     "text": [
      "/Users/derin/anaconda/lib/python3.6/site-packages/statsmodels/base/model.py:496: ConvergenceWarning: Maximum Likelihood optimization failed to converge. Check mle_retvals\n",
      "  \"Check mle_retvals\", ConvergenceWarning)\n"
     ]
    },
    {
     "name": "stdout",
     "output_type": "stream",
     "text": [
      "Warning: Desired error not necessarily achieved due to precision loss.\n",
      "         Current function value: 6.402096\n",
      "         Iterations: 0\n",
      "         Function evaluations: 41\n",
      "         Gradient evaluations: 30\n"
     ]
    },
    {
     "name": "stderr",
     "output_type": "stream",
     "text": [
      "/Users/derin/anaconda/lib/python3.6/site-packages/statsmodels/base/model.py:496: ConvergenceWarning: Maximum Likelihood optimization failed to converge. Check mle_retvals\n",
      "  \"Check mle_retvals\", ConvergenceWarning)\n"
     ]
    },
    {
     "name": "stdout",
     "output_type": "stream",
     "text": [
      "Warning: Desired error not necessarily achieved due to precision loss.\n",
      "         Current function value: 6.098390\n",
      "         Iterations: 2\n",
      "         Function evaluations: 91\n",
      "         Gradient evaluations: 79\n"
     ]
    },
    {
     "name": "stderr",
     "output_type": "stream",
     "text": [
      "/Users/derin/anaconda/lib/python3.6/site-packages/statsmodels/base/model.py:496: ConvergenceWarning: Maximum Likelihood optimization failed to converge. Check mle_retvals\n",
      "  \"Check mle_retvals\", ConvergenceWarning)\n"
     ]
    },
    {
     "name": "stdout",
     "output_type": "stream",
     "text": [
      "Warning: Desired error not necessarily achieved due to precision loss.\n",
      "         Current function value: 6.426017\n",
      "         Iterations: 2\n",
      "         Function evaluations: 58\n",
      "         Gradient evaluations: 47\n"
     ]
    },
    {
     "name": "stderr",
     "output_type": "stream",
     "text": [
      "/Users/derin/anaconda/lib/python3.6/site-packages/statsmodels/base/model.py:496: ConvergenceWarning: Maximum Likelihood optimization failed to converge. Check mle_retvals\n",
      "  \"Check mle_retvals\", ConvergenceWarning)\n"
     ]
    },
    {
     "name": "stdout",
     "output_type": "stream",
     "text": [
      "Warning: Desired error not necessarily achieved due to precision loss.\n",
      "         Current function value: 6.405479\n",
      "         Iterations: 0\n",
      "         Function evaluations: 45\n",
      "         Gradient evaluations: 34\n"
     ]
    },
    {
     "name": "stderr",
     "output_type": "stream",
     "text": [
      "/Users/derin/anaconda/lib/python3.6/site-packages/statsmodels/base/model.py:496: ConvergenceWarning: Maximum Likelihood optimization failed to converge. Check mle_retvals\n",
      "  \"Check mle_retvals\", ConvergenceWarning)\n"
     ]
    },
    {
     "name": "stdout",
     "output_type": "stream",
     "text": [
      "Warning: Desired error not necessarily achieved due to precision loss.\n",
      "         Current function value: 6.134360\n",
      "         Iterations: 2\n",
      "         Function evaluations: 55\n",
      "         Gradient evaluations: 44\n"
     ]
    },
    {
     "name": "stderr",
     "output_type": "stream",
     "text": [
      "/Users/derin/anaconda/lib/python3.6/site-packages/statsmodels/base/model.py:496: ConvergenceWarning: Maximum Likelihood optimization failed to converge. Check mle_retvals\n",
      "  \"Check mle_retvals\", ConvergenceWarning)\n"
     ]
    },
    {
     "name": "stdout",
     "output_type": "stream",
     "text": [
      "Warning: Desired error not necessarily achieved due to precision loss.\n",
      "         Current function value: 6.413428\n",
      "         Iterations: 0\n",
      "         Function evaluations: 42\n",
      "         Gradient evaluations: 31\n"
     ]
    },
    {
     "name": "stderr",
     "output_type": "stream",
     "text": [
      "/Users/derin/anaconda/lib/python3.6/site-packages/statsmodels/base/model.py:496: ConvergenceWarning: Maximum Likelihood optimization failed to converge. Check mle_retvals\n",
      "  \"Check mle_retvals\", ConvergenceWarning)\n"
     ]
    },
    {
     "name": "stdout",
     "output_type": "stream",
     "text": [
      "Warning: Desired error not necessarily achieved due to precision loss.\n",
      "         Current function value: 6.276730\n",
      "         Iterations: 1\n",
      "         Function evaluations: 81\n",
      "         Gradient evaluations: 69\n"
     ]
    },
    {
     "name": "stderr",
     "output_type": "stream",
     "text": [
      "/Users/derin/anaconda/lib/python3.6/site-packages/statsmodels/base/model.py:496: ConvergenceWarning: Maximum Likelihood optimization failed to converge. Check mle_retvals\n",
      "  \"Check mle_retvals\", ConvergenceWarning)\n"
     ]
    },
    {
     "name": "stdout",
     "output_type": "stream",
     "text": [
      "Warning: Desired error not necessarily achieved due to precision loss.\n",
      "         Current function value: 6.786382\n",
      "         Iterations: 8\n",
      "         Function evaluations: 46\n",
      "         Gradient evaluations: 34\n"
     ]
    },
    {
     "name": "stderr",
     "output_type": "stream",
     "text": [
      "/Users/derin/anaconda/lib/python3.6/site-packages/statsmodels/base/model.py:496: ConvergenceWarning: Maximum Likelihood optimization failed to converge. Check mle_retvals\n",
      "  \"Check mle_retvals\", ConvergenceWarning)\n"
     ]
    },
    {
     "name": "stdout",
     "output_type": "stream",
     "text": [
      "Warning: Desired error not necessarily achieved due to precision loss.\n",
      "         Current function value: 6.584167\n",
      "         Iterations: 2\n",
      "         Function evaluations: 43\n",
      "         Gradient evaluations: 32\n"
     ]
    },
    {
     "name": "stderr",
     "output_type": "stream",
     "text": [
      "/Users/derin/anaconda/lib/python3.6/site-packages/statsmodels/base/model.py:496: ConvergenceWarning: Maximum Likelihood optimization failed to converge. Check mle_retvals\n",
      "  \"Check mle_retvals\", ConvergenceWarning)\n"
     ]
    },
    {
     "name": "stdout",
     "output_type": "stream",
     "text": [
      "Warning: Desired error not necessarily achieved due to precision loss.\n",
      "         Current function value: 6.161434\n",
      "         Iterations: 2\n",
      "         Function evaluations: 58\n",
      "         Gradient evaluations: 47\n"
     ]
    },
    {
     "name": "stderr",
     "output_type": "stream",
     "text": [
      "/Users/derin/anaconda/lib/python3.6/site-packages/statsmodels/base/model.py:496: ConvergenceWarning: Maximum Likelihood optimization failed to converge. Check mle_retvals\n",
      "  \"Check mle_retvals\", ConvergenceWarning)\n"
     ]
    },
    {
     "name": "stdout",
     "output_type": "stream",
     "text": [
      "Warning: Desired error not necessarily achieved due to precision loss.\n",
      "         Current function value: 6.279383\n",
      "         Iterations: 1\n",
      "         Function evaluations: 36\n",
      "         Gradient evaluations: 25\n"
     ]
    },
    {
     "name": "stderr",
     "output_type": "stream",
     "text": [
      "/Users/derin/anaconda/lib/python3.6/site-packages/statsmodels/base/model.py:496: ConvergenceWarning: Maximum Likelihood optimization failed to converge. Check mle_retvals\n",
      "  \"Check mle_retvals\", ConvergenceWarning)\n"
     ]
    },
    {
     "name": "stdout",
     "output_type": "stream",
     "text": [
      "Warning: Desired error not necessarily achieved due to precision loss.\n",
      "         Current function value: 6.298089\n",
      "         Iterations: 2\n",
      "         Function evaluations: 49\n",
      "         Gradient evaluations: 37\n"
     ]
    },
    {
     "name": "stderr",
     "output_type": "stream",
     "text": [
      "/Users/derin/anaconda/lib/python3.6/site-packages/statsmodels/base/model.py:496: ConvergenceWarning: Maximum Likelihood optimization failed to converge. Check mle_retvals\n",
      "  \"Check mle_retvals\", ConvergenceWarning)\n"
     ]
    },
    {
     "name": "stdout",
     "output_type": "stream",
     "text": [
      "Warning: Desired error not necessarily achieved due to precision loss.\n",
      "         Current function value: 6.307586\n",
      "         Iterations: 2\n",
      "         Function evaluations: 45\n",
      "         Gradient evaluations: 34\n"
     ]
    },
    {
     "name": "stderr",
     "output_type": "stream",
     "text": [
      "/Users/derin/anaconda/lib/python3.6/site-packages/statsmodels/base/model.py:496: ConvergenceWarning: Maximum Likelihood optimization failed to converge. Check mle_retvals\n",
      "  \"Check mle_retvals\", ConvergenceWarning)\n"
     ]
    },
    {
     "name": "stdout",
     "output_type": "stream",
     "text": [
      "Warning: Desired error not necessarily achieved due to precision loss.\n",
      "         Current function value: 6.408138\n",
      "         Iterations: 0\n",
      "         Function evaluations: 43\n",
      "         Gradient evaluations: 32\n"
     ]
    },
    {
     "name": "stderr",
     "output_type": "stream",
     "text": [
      "/Users/derin/anaconda/lib/python3.6/site-packages/statsmodels/base/model.py:496: ConvergenceWarning: Maximum Likelihood optimization failed to converge. Check mle_retvals\n",
      "  \"Check mle_retvals\", ConvergenceWarning)\n"
     ]
    },
    {
     "name": "stdout",
     "output_type": "stream",
     "text": [
      "Warning: Desired error not necessarily achieved due to precision loss.\n",
      "         Current function value: 6.152199\n",
      "         Iterations: 2\n",
      "         Function evaluations: 70\n",
      "         Gradient evaluations: 55\n"
     ]
    },
    {
     "name": "stderr",
     "output_type": "stream",
     "text": [
      "/Users/derin/anaconda/lib/python3.6/site-packages/statsmodels/base/model.py:496: ConvergenceWarning: Maximum Likelihood optimization failed to converge. Check mle_retvals\n",
      "  \"Check mle_retvals\", ConvergenceWarning)\n"
     ]
    },
    {
     "name": "stdout",
     "output_type": "stream",
     "text": [
      "Warning: Desired error not necessarily achieved due to precision loss.\n",
      "         Current function value: 6.154527\n",
      "         Iterations: 2\n",
      "         Function evaluations: 62\n",
      "         Gradient evaluations: 51\n"
     ]
    },
    {
     "name": "stderr",
     "output_type": "stream",
     "text": [
      "/Users/derin/anaconda/lib/python3.6/site-packages/statsmodels/base/model.py:496: ConvergenceWarning: Maximum Likelihood optimization failed to converge. Check mle_retvals\n",
      "  \"Check mle_retvals\", ConvergenceWarning)\n"
     ]
    },
    {
     "name": "stdout",
     "output_type": "stream",
     "text": [
      "Warning: Desired error not necessarily achieved due to precision loss.\n",
      "         Current function value: 6.291402\n",
      "         Iterations: 1\n",
      "         Function evaluations: 53\n",
      "         Gradient evaluations: 41\n"
     ]
    },
    {
     "name": "stderr",
     "output_type": "stream",
     "text": [
      "/Users/derin/anaconda/lib/python3.6/site-packages/statsmodels/base/model.py:496: ConvergenceWarning: Maximum Likelihood optimization failed to converge. Check mle_retvals\n",
      "  \"Check mle_retvals\", ConvergenceWarning)\n"
     ]
    },
    {
     "name": "stdout",
     "output_type": "stream",
     "text": [
      "Warning: Desired error not necessarily achieved due to precision loss.\n",
      "         Current function value: 6.258527\n",
      "         Iterations: 2\n",
      "         Function evaluations: 89\n",
      "         Gradient evaluations: 78\n"
     ]
    },
    {
     "name": "stderr",
     "output_type": "stream",
     "text": [
      "/Users/derin/anaconda/lib/python3.6/site-packages/statsmodels/base/model.py:496: ConvergenceWarning: Maximum Likelihood optimization failed to converge. Check mle_retvals\n",
      "  \"Check mle_retvals\", ConvergenceWarning)\n"
     ]
    },
    {
     "name": "stdout",
     "output_type": "stream",
     "text": [
      "Warning: Desired error not necessarily achieved due to precision loss.\n",
      "         Current function value: 6.153306\n",
      "         Iterations: 3\n",
      "         Function evaluations: 68\n",
      "         Gradient evaluations: 56\n"
     ]
    },
    {
     "name": "stderr",
     "output_type": "stream",
     "text": [
      "/Users/derin/anaconda/lib/python3.6/site-packages/statsmodels/base/model.py:496: ConvergenceWarning: Maximum Likelihood optimization failed to converge. Check mle_retvals\n",
      "  \"Check mle_retvals\", ConvergenceWarning)\n"
     ]
    },
    {
     "name": "stdout",
     "output_type": "stream",
     "text": [
      "Warning: Desired error not necessarily achieved due to precision loss.\n",
      "         Current function value: 6.424298\n",
      "         Iterations: 0\n",
      "         Function evaluations: 46\n",
      "         Gradient evaluations: 35\n"
     ]
    },
    {
     "name": "stderr",
     "output_type": "stream",
     "text": [
      "/Users/derin/anaconda/lib/python3.6/site-packages/statsmodels/base/model.py:496: ConvergenceWarning: Maximum Likelihood optimization failed to converge. Check mle_retvals\n",
      "  \"Check mle_retvals\", ConvergenceWarning)\n"
     ]
    },
    {
     "name": "stdout",
     "output_type": "stream",
     "text": [
      "Warning: Desired error not necessarily achieved due to precision loss.\n",
      "         Current function value: 6.131334\n",
      "         Iterations: 2\n",
      "         Function evaluations: 59\n",
      "         Gradient evaluations: 48\n"
     ]
    },
    {
     "name": "stderr",
     "output_type": "stream",
     "text": [
      "/Users/derin/anaconda/lib/python3.6/site-packages/statsmodels/base/model.py:496: ConvergenceWarning: Maximum Likelihood optimization failed to converge. Check mle_retvals\n",
      "  \"Check mle_retvals\", ConvergenceWarning)\n"
     ]
    },
    {
     "name": "stdout",
     "output_type": "stream",
     "text": [
      "Warning: Desired error not necessarily achieved due to precision loss.\n",
      "         Current function value: 6.595116\n",
      "         Iterations: 15\n",
      "         Function evaluations: 86\n",
      "         Gradient evaluations: 75\n"
     ]
    },
    {
     "name": "stderr",
     "output_type": "stream",
     "text": [
      "/Users/derin/anaconda/lib/python3.6/site-packages/statsmodels/base/model.py:496: ConvergenceWarning: Maximum Likelihood optimization failed to converge. Check mle_retvals\n",
      "  \"Check mle_retvals\", ConvergenceWarning)\n"
     ]
    },
    {
     "name": "stdout",
     "output_type": "stream",
     "text": [
      "Warning: Desired error not necessarily achieved due to precision loss.\n",
      "         Current function value: 6.046288\n",
      "         Iterations: 1\n",
      "         Function evaluations: 93\n",
      "         Gradient evaluations: 81\n"
     ]
    },
    {
     "name": "stderr",
     "output_type": "stream",
     "text": [
      "/Users/derin/anaconda/lib/python3.6/site-packages/statsmodels/base/model.py:496: ConvergenceWarning: Maximum Likelihood optimization failed to converge. Check mle_retvals\n",
      "  \"Check mle_retvals\", ConvergenceWarning)\n"
     ]
    },
    {
     "name": "stdout",
     "output_type": "stream",
     "text": [
      "Warning: Desired error not necessarily achieved due to precision loss.\n",
      "         Current function value: 6.107088\n",
      "         Iterations: 1\n",
      "         Function evaluations: 45\n",
      "         Gradient evaluations: 38\n"
     ]
    },
    {
     "name": "stderr",
     "output_type": "stream",
     "text": [
      "/Users/derin/anaconda/lib/python3.6/site-packages/statsmodels/base/model.py:496: ConvergenceWarning: Maximum Likelihood optimization failed to converge. Check mle_retvals\n",
      "  \"Check mle_retvals\", ConvergenceWarning)\n"
     ]
    },
    {
     "name": "stdout",
     "output_type": "stream",
     "text": [
      "Warning: Desired error not necessarily achieved due to precision loss.\n",
      "         Current function value: 6.271384\n",
      "         Iterations: 1\n",
      "         Function evaluations: 42\n",
      "         Gradient evaluations: 31\n"
     ]
    },
    {
     "name": "stderr",
     "output_type": "stream",
     "text": [
      "/Users/derin/anaconda/lib/python3.6/site-packages/statsmodels/base/model.py:496: ConvergenceWarning: Maximum Likelihood optimization failed to converge. Check mle_retvals\n",
      "  \"Check mle_retvals\", ConvergenceWarning)\n"
     ]
    },
    {
     "name": "stdout",
     "output_type": "stream",
     "text": [
      "Warning: Desired error not necessarily achieved due to precision loss.\n",
      "         Current function value: 6.327139\n",
      "         Iterations: 1\n",
      "         Function evaluations: 66\n",
      "         Gradient evaluations: 54\n"
     ]
    },
    {
     "name": "stderr",
     "output_type": "stream",
     "text": [
      "/Users/derin/anaconda/lib/python3.6/site-packages/statsmodels/base/model.py:496: ConvergenceWarning: Maximum Likelihood optimization failed to converge. Check mle_retvals\n",
      "  \"Check mle_retvals\", ConvergenceWarning)\n"
     ]
    },
    {
     "name": "stdout",
     "output_type": "stream",
     "text": [
      "Warning: Desired error not necessarily achieved due to precision loss.\n",
      "         Current function value: 6.147451\n",
      "         Iterations: 1\n",
      "         Function evaluations: 42\n",
      "         Gradient evaluations: 34\n"
     ]
    },
    {
     "name": "stderr",
     "output_type": "stream",
     "text": [
      "/Users/derin/anaconda/lib/python3.6/site-packages/statsmodels/base/model.py:496: ConvergenceWarning: Maximum Likelihood optimization failed to converge. Check mle_retvals\n",
      "  \"Check mle_retvals\", ConvergenceWarning)\n"
     ]
    }
   ],
   "source": [
    "grid_search = {}\n",
    "grid_try = [(1,1,1,1,1,1,1,\"c\")]\n",
    "for p in range(len(grid_try)):\n",
    "    print (grid_try[p])\n",
    "    gsearch = SARIMAXGridSearch(param_grid=grid_try, rest_dir=\"arima_rest_data/train/\",\\\n",
    "                 num_rests=100, len_rests=600)\n",
    "    gsearch = gsearch.select_setting(p)\n",
    "    gsearch.iterative_fit()\n",
    "    gsearch.final_preds()\n",
    "    grid_search[grid_try[p]] = gsearch.final_scores()\n",
    "grid_search"
   ]
  },
  {
   "cell_type": "code",
   "execution_count": 674,
   "metadata": {},
   "outputs": [],
   "source": [
    "pd.DataFrame(grid_search[(1,1,1,1,1,1,1,\"c\")]).to_csv(\"grid_search_preds/scores/iterative/(1,1,1,1,1,1,1,c)\")"
   ]
  },
  {
   "cell_type": "code",
   "execution_count": 631,
   "metadata": {},
   "outputs": [],
   "source": [
    "gsearch = SARIMAXGridSearch(param_grid=grid, rest_dir=\"arima_rest_data/train/\",\\\n",
    "                 num_rests=15, len_rests=600)"
   ]
  },
  {
   "cell_type": "code",
   "execution_count": 633,
   "metadata": {},
   "outputs": [],
   "source": [
    "gsearch = gsearch.select_setting(7)"
   ]
  },
  {
   "cell_type": "code",
   "execution_count": null,
   "metadata": {
    "collapsed": true
   },
   "outputs": [],
   "source": [
    "gsearch.averaging_fit()"
   ]
  },
  {
   "cell_type": "code",
   "execution_count": null,
   "metadata": {},
   "outputs": [],
   "source": [
    "gsearch.bag_pred()"
   ]
  },
  {
   "cell_type": "code",
   "execution_count": null,
   "metadata": {},
   "outputs": [],
   "source": [
    "gsearch.bag_losses()"
   ]
  },
  {
   "cell_type": "code",
   "execution_count": null,
   "metadata": {
    "collapsed": true
   },
   "outputs": [],
   "source": [
    "gsearch.plot_"
   ]
  },
  {
   "cell_type": "code",
   "execution_count": 340,
   "metadata": {},
   "outputs": [],
   "source": [
    "def grid_search_losses(param_grid=written_grid,rest_dir=\"arima_rest_data/train/\",\\\n",
    "              num_rests=10, len_rests=665):\n",
    "    ## initialize grid_model_params dict\n",
    "    ## keys: (order param lists tuples in the grid)\n",
    "    ## vals: {dicts with keys=rest_ids: values=corresponding preds}  \n",
    "    grid_model_preds = {}\n",
    "    ## for each parameter tuple in the passed grid\n",
    "    for params in param_grid:\n",
    "        print (params)\n",
    "        ## initialize an empty dict\n",
    "        grid_model_preds[params] = {}\n",
    "        ## select \"num_rests\" number of restaurant ids from the directory\n",
    "        for rest in [os.listdir(rest_dir)[1:][ix] for ix in \\\n",
    "                 [np.random.choice(len_rests) for x in range(num_rests)]]:\n",
    "            ## the training data of the corresponding rest_id\n",
    "            print (rest)\n",
    "            if \"total_area_visitors\" not in train_dict[rest].columns.values or\\\n",
    "            \"total_genre_visitors\" not in train_dict[rest].columns.values:\n",
    "                None\n",
    "            elif train_dict[rest].shape[0] < 24 and val_dict[rest].shape[0] < 8:\n",
    "                None\n",
    "            else:    \n",
    "                data = train_dict[rest]\n",
    "                ## the validation data of the corresponding rest_id\n",
    "                val_data = val_dict[rest]\n",
    "                ## SARIMAX model for the current parameters and data\n",
    "                sarimax_model = SARIMAX(endog=data[endog_col],exog=data[exog_col],\\\n",
    "                               order=(int(params[0]),int(params[1]),int(params[2])),\\\n",
    "                                        seasonal_order=(int(params[3]),int(params[4]),\\\n",
    "                                                        int(params[5]),int(params[6])),\\\n",
    "                                        trend=params[7], mle_regression=True, \\\n",
    "                                        enforce_invertibility=False)\n",
    "\n",
    "                results_object = sarimax_model.fit(maxiter=1000,method=\"bfgs\")\n",
    "                ## predictions: len(preds) = val_data.shape[0]\n",
    "                \n",
    "                sarimax_model1 = SARIMAX(endog=data[endog_col],exog=data[exog_col],\\\n",
    "                               order=(int(params[0]),int(params[1]),int(params[2])),\\\n",
    "                                        seasonal_order=(int(params[3]),int(params[4]),\\\n",
    "                                                        int(params[5]),int(params[6])),\\\n",
    "                                        trend=params[7], mle_regression=True, \\\n",
    "                                        enforce_invertibility=False)\n",
    "                results_object1 = sarimax_model1.fit(start_params=results_object.params,\\\n",
    "                                                    maxiter=1000, method=\"bfgs\")\n",
    "                \n",
    "                predictions_ = results_object1.predict\\\n",
    "                (start=len(data)-1, end=len(data)+len(val_data)-1,dynamic=True,\\\n",
    "                exog=val_data[exog_col].head(2))\n",
    "                \n",
    "                pred = np.array(predictions_)\n",
    "                true = np.array(val_data[endog_col])\n",
    "                \n",
    "                abs_percent_loss = loss_mape(true,pred)\n",
    "                print (abs_percent_loss)\n",
    "                square_loss = loss_squared(true,pred)\n",
    "                print (square_loss)\n",
    "                grid_model_preds[params][rest] = [abs_percent_loss,square_loss]\n",
    "\n",
    "    return grid_model_preds"
   ]
  },
  {
   "cell_type": "code",
   "execution_count": 276,
   "metadata": {
    "collapsed": true
   },
   "outputs": [],
   "source": [
    "for iter_num in list(grid_search_iters.keys()): \n",
    "    iter_data = pd.DataFrame(grid_search_iters[iter_num])\n",
    "    iter_data.to_csv(\"grid_search_preds/\" + str(iter_num) + \".csv\")"
   ]
  },
  {
   "cell_type": "code",
   "execution_count": 638,
   "metadata": {},
   "outputs": [
    {
     "name": "stdout",
     "output_type": "stream",
     "text": [
      "Optimization terminated successfully.\n",
      "         Current function value: 3.484422\n",
      "         Iterations: 149\n",
      "         Function evaluations: 164\n",
      "         Gradient evaluations: 164\n"
     ]
    },
    {
     "data": {
      "image/png": "[encoded data removed]",
      "text/plain": [
       "<matplotlib.figure.Figure at 0x1c11c396a0>"
      ]
     },
     "execution_count": 638,
     "metadata": {},
     "output_type": "execute_result"
    },
    {
     "data": {
      "image/png": "[encoded data removed]",
      "text/plain": [
       "<matplotlib.figure.Figure at 0x1c11c396a0>"
      ]
     },
     "metadata": {},
     "output_type": "display_data"
    }
   ],
   "source": [
    "params = (1,1,1,1,1,1,1,\"c\")\n",
    "sarimax_model = SARIMAX(endog=data[endog_col],exog=data[exog_col],\\\n",
    "                               order=(int(params[0]),int(params[1]),int(params[2])),\\\n",
    "                                        seasonal_order=(int(params[3]),int(params[4]),\\\n",
    "                                                        int(params[5]),int(params[6])),\\\n",
    "                                        trend=params[7], mle_regression=True, \\\n",
    "                                        enforce_invertibility=False)\n",
    "results_object1 = sarimax_model.fit(maxiter=1000,method=\"bfgs\",\\\n",
    "                                         return_params=False)\n",
    "results_object1.plot_diagnostics(figsize=(10,20))"
   ]
  },
  {
   "cell_type": "code",
   "execution_count": 192,
   "metadata": {},
   "outputs": [
    {
     "name": "stderr",
     "output_type": "stream",
     "text": [
      "/Users/derin/anaconda/lib/python3.6/site-packages/statsmodels/base/model.py:496: ConvergenceWarning: Maximum Likelihood optimization failed to converge. Check mle_retvals\n",
      "  \"Check mle_retvals\", ConvergenceWarning)\n"
     ]
    },
    {
     "data": {
      "text/plain": [
       "visit_date\n",
       "2016-07-22    33.043888\n",
       "2016-07-23    20.446735\n",
       "2016-07-24    15.000944\n",
       "2016-07-26    27.794426\n",
       "2016-07-27    28.347727\n",
       "2016-07-28    28.787971\n",
       "2016-07-29    35.387895\n",
       "2016-07-30    18.723270\n",
       "2016-07-31    13.559051\n",
       "2016-08-02    24.912403\n",
       "2016-08-03    28.328755\n",
       "2016-08-04    29.461953\n",
       "2016-08-05    34.354860\n",
       "2016-08-06    19.480028\n",
       "2016-08-07    14.126516\n",
       "2016-08-09    25.822835\n",
       "2016-08-10    28.447730\n",
       "2016-08-11    24.394505\n",
       "2016-08-12    35.280187\n",
       "2016-08-13    15.795305\n",
       "2016-08-17    26.287391\n",
       "2016-08-18    28.939672\n",
       "2016-08-19    34.485609\n",
       "2016-08-20    20.896161\n",
       "2016-08-21    14.790032\n",
       "dtype: float64"
      ]
     },
     "execution_count": 192,
     "metadata": {},
     "output_type": "execute_result"
    }
   ],
   "source": [
    "data_11 = train_dict[\"air_08f994758a1e76d4.csv\"]\n",
    "sarimax_mod = SARIMAX(endog=data[endog_col],exog=data[exog_col],\\\n",
    "                           order=(int(params[0]),int(params[1]),int(params[2])),seasonal_order=(int(params[3]),int(params[4]),int(params[5]),int(params[6])),\\\n",
    "                                    trend=params[7], mle_regression=True, enforce_invertibility=False)\n",
    "\n",
    "results_11 = sarimax_mod.fit()\n",
    "# results_11.summary()\n",
    "results_11.predict(start = 173, end=197, dynamic=True, exog=val_dict[\"air_08f994758a1e76d4.csv\"][exog_col])\n"
   ]
  },
  {
   "cell_type": "code",
   "execution_count": 193,
   "metadata": {},
   "outputs": [],
   "source": [
    "true = np.array(val_dict[\"air_08f994758a1e76d4.csv\"][\"visitors\"])\n",
    "pred = np.array(results_11.predict(start = 173, end=197, dynamic=True, exog=val_dict[\"air_08ef81d5b7a0d13f.csv\"][exog_col]))"
   ]
  },
  {
   "cell_type": "code",
   "execution_count": 194,
   "metadata": {},
   "outputs": [
    {
     "data": {
      "text/plain": [
       "array([ 0.02812093,  0.07614396,  0.28566933,  0.98531615,  1.18059439,\n",
       "        0.02814182,  0.04082045,  0.06383652,  0.74416884,  0.28821706,\n",
       "        0.66639737,  1.45516273,  0.01043705,  0.37161201,  0.45667246,\n",
       "        0.51899032,  0.23114242,  0.4349709 ,  7.82004663,  0.6566238 ,\n",
       "        0.17851903,  0.07183971,  0.11575361,  0.49033753])"
      ]
     },
     "execution_count": 194,
     "metadata": {},
     "output_type": "execute_result"
    }
   ],
   "source": [
    "np.divide(np.abs(np.subtract(true[:24],pred[:24])), np.abs(true[:24]))"
   ]
  },
  {
   "cell_type": "code",
   "execution_count": 198,
   "metadata": {
    "collapsed": true
   },
   "outputs": [],
   "source": [
    "for param in grid: \n",
    "    if param in list(grid_model_params.keys()):\n",
    "        param_data = pd.DataFrame(grid_model_params[param])\n",
    "        param_data.to_csv(\"param_grid_csv/\" + str(param) + \".csv\")"
   ]
  }
 ],
 "metadata": {
  "kernelspec": {
   "display_name": "Python 3",
   "language": "python",
   "name": "python3"
  },
  "language_info": {
   "codemirror_mode": {
    "name": "ipython",
    "version": 3
   },
   "file_extension": ".py",
   "mimetype": "text/x-python",
   "name": "python",
   "nbconvert_exporter": "python",
   "pygments_lexer": "ipython3",
   "version": "3.6.1"
  }
 },
 "nbformat": 4,
 "nbformat_minor": 2
}
