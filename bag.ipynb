{
 "cells": [
  {
   "cell_type": "code",
   "execution_count": 339,
   "metadata": {
    "collapsed": true
   },
   "outputs": [],
   "source": [
    "import numpy as np\n",
    "import pandas as pd\n",
    "import scipy.stats as stat\n",
    "import scipy.io as scipio\n",
    "import matplotlib.pyplot as plt\n",
    "%matplotlib inline\n",
    "from datetime import datetime\n",
    "from sklearn.preprocessing import StandardScaler\n",
    "scaler = StandardScaler()"
   ]
  },
  {
   "cell_type": "code",
   "execution_count": 340,
   "metadata": {
    "collapsed": true
   },
   "outputs": [],
   "source": [
    "data_train = pd.DataFrame(pd.read_csv(\"data_train.csv\")).set_index(\"visit_date\",drop=True)\n",
    "data_test = pd.DataFrame(pd.read_csv(\"data_test.csv\")).set_index(\"visit_date\",drop=True)\n",
    "data = pd.concat([data_train, data_test],0)\n",
    "                         "
   ]
  },
  {
   "cell_type": "code",
   "execution_count": 341,
   "metadata": {
    "collapsed": true
   },
   "outputs": [],
   "source": [
    "area_names = data_train.columns.values[29:]\n",
    "genre_names = data_train.columns.values[15:29]\n",
    "weather_measurements = data_train.columns.values[[8,9,11,12]]"
   ]
  },
  {
   "cell_type": "code",
   "execution_count": 342,
   "metadata": {},
   "outputs": [],
   "source": [
    "data_test.index = pd.Series(data_test.index.values).apply(lambda x: datetime.strptime(x, \"%Y-%m-%d\"))\n",
    "data_train.index = pd.Series(data_train.index.values).apply(lambda x: datetime.strptime(x, \"%Y-%m-%d\"))"
   ]
  },
  {
   "cell_type": "code",
   "execution_count": 343,
   "metadata": {
    "collapsed": true
   },
   "outputs": [],
   "source": [
    "data.index = pd.Series(data.index.values).apply(lambda x: datetime.strptime(x, \"%Y-%m-%d\"))"
   ]
  },
  {
   "cell_type": "code",
   "execution_count": 344,
   "metadata": {
    "collapsed": true
   },
   "outputs": [],
   "source": [
    "data_train[weather_measurements] = scaler.fit_transform(data_train[weather_measurements].diff().fillna(method=\"backfill\"))\n",
    "data_test[weather_measurements] = scaler.fit_transform(data_test[weather_measurements].diff().fillna(method=\"backfill\"))\n",
    "data[weather_measurements] = scaler.fit_transform(data[weather_measurements].diff().fillna(method=\"backfill\"))"
   ]
  },
  {
   "cell_type": "code",
   "execution_count": 345,
   "metadata": {
    "collapsed": true,
    "scrolled": true
   },
   "outputs": [],
   "source": [
    "## Taking out February as the validation set from the training data\n",
    "validation_ind = pd.Series(data_train.index.values).apply(lambda x: int((x >= datetime.strptime(\"2017-02-01\",\"%Y-%m-%d\")) & (x <= datetime.strptime(\"2017-02-28\",\"%Y-%m-%d\"))))\n",
    "data_train[\"validation_ind\"] = list(validation_ind)\n"
   ]
  },
  {
   "cell_type": "code",
   "execution_count": 346,
   "metadata": {
    "collapsed": true
   },
   "outputs": [],
   "source": [
    "data_train_train = data_train[data_train[\"validation_ind\"]==0]\n",
    "data_train_validation = data_train[data_train[\"validation_ind\"]==1]"
   ]
  },
  {
   "cell_type": "code",
   "execution_count": 347,
   "metadata": {},
   "outputs": [],
   "source": [
    "list(area_names).extend(list(genre_names))"
   ]
  },
  {
   "cell_type": "code",
   "execution_count": 348,
   "metadata": {},
   "outputs": [],
   "source": [
    "genre_names = list(genre_names)\n",
    "non_arima_cols = list(area_names)\n",
    "non_arima_cols.extend(genre_names)"
   ]
  },
  {
   "cell_type": "code",
   "execution_count": 53,
   "metadata": {},
   "outputs": [],
   "source": [
    "# non_arima_cols"
   ]
  },
  {
   "cell_type": "code",
   "execution_count": 62,
   "metadata": {},
   "outputs": [],
   "source": [
    "# data_train_train.columns.values"
   ]
  },
  {
   "cell_type": "code",
   "execution_count": 349,
   "metadata": {},
   "outputs": [],
   "source": [
    "arima_cols = [\"holiday_flg\", \"low_temperature1\", \"high_temperature1\", \"avg_temperature1\",\"hours_sunlight1\",\\\n",
    "             \"visitors\", \"Monday\", \"Tuesday\",\"Wednesday\", \"Thursday\",\"Friday\",\"Saturday\",\"Sunday\", \"air_store_id\"]\n",
    "# data_train_train[arima_cols]"
   ]
  },
  {
   "cell_type": "code",
   "execution_count": 350,
   "metadata": {
    "collapsed": true
   },
   "outputs": [],
   "source": [
    "data_train_train.to_csv(\"training_wo_valid.csv\")\n",
    "data_train_validation.to_csv(\"training_valid.csv\")"
   ]
  },
  {
   "cell_type": "markdown",
   "metadata": {},
   "source": [
    "## ARIMA"
   ]
  },
  {
   "cell_type": "code",
   "execution_count": 351,
   "metadata": {
    "collapsed": true
   },
   "outputs": [],
   "source": [
    "data_train_train = data_train_train.drop(data_train_train[data_train_train[\"air_store_id\"]==\"air_28dbe91c4c9656be\"],0)\n",
    "data_train_train = data_train_train.drop(data_train_train[data_train_train[\"air_store_id\"]==\"air_8110d68cc869b85e\"], 0)\n",
    "\n"
   ]
  },
  {
   "cell_type": "code",
   "execution_count": 352,
   "metadata": {},
   "outputs": [
    {
     "data": {
      "text/html": [
       "<div>\n",
       "<style>\n",
       "    .dataframe thead tr:only-child th {\n",
       "        text-align: right;\n",
       "    }\n",
       "\n",
       "    .dataframe thead th {\n",
       "        text-align: left;\n",
       "    }\n",
       "\n",
       "    .dataframe tbody tr th {\n",
       "        vertical-align: top;\n",
       "    }\n",
       "</style>\n",
       "<table border=\"1\" class=\"dataframe\">\n",
       "  <thead>\n",
       "    <tr style=\"text-align: right;\">\n",
       "      <th></th>\n",
       "      <th>Unnamed: 0</th>\n",
       "      <th>air_store_id</th>\n",
       "      <th>Friday</th>\n",
       "      <th>Monday</th>\n",
       "      <th>Saturday</th>\n",
       "      <th>Sunday</th>\n",
       "      <th>Thursday</th>\n",
       "      <th>Tuesday</th>\n",
       "      <th>Wednesday</th>\n",
       "      <th>avg_temperature1</th>\n",
       "      <th>...</th>\n",
       "      <th>Ōsaka-fu Sakai-shi Minamikawaramachi</th>\n",
       "      <th>Ōsaka-fu Suita-shi Izumichō</th>\n",
       "      <th>Ōsaka-fu Ōsaka-shi Fuminosato</th>\n",
       "      <th>Ōsaka-fu Ōsaka-shi Kyōmachibori</th>\n",
       "      <th>Ōsaka-fu Ōsaka-shi Kyūtarōmachi</th>\n",
       "      <th>Ōsaka-fu Ōsaka-shi Nakanochō</th>\n",
       "      <th>Ōsaka-fu Ōsaka-shi Nanbasennichimae</th>\n",
       "      <th>Ōsaka-fu Ōsaka-shi Shinmachi</th>\n",
       "      <th>Ōsaka-fu Ōsaka-shi Ōgimachi</th>\n",
       "      <th>validation_ind</th>\n",
       "    </tr>\n",
       "  </thead>\n",
       "  <tbody>\n",
       "    <tr>\n",
       "      <th>2017-01-30</th>\n",
       "      <td>157032</td>\n",
       "      <td>air_28dbe91c4c9656be</td>\n",
       "      <td>0</td>\n",
       "      <td>1</td>\n",
       "      <td>0</td>\n",
       "      <td>0</td>\n",
       "      <td>0</td>\n",
       "      <td>0</td>\n",
       "      <td>0.0</td>\n",
       "      <td>-0.848822</td>\n",
       "      <td>...</td>\n",
       "      <td>0</td>\n",
       "      <td>0</td>\n",
       "      <td>0</td>\n",
       "      <td>0</td>\n",
       "      <td>0</td>\n",
       "      <td>0</td>\n",
       "      <td>0</td>\n",
       "      <td>0</td>\n",
       "      <td>0</td>\n",
       "      <td>0</td>\n",
       "    </tr>\n",
       "    <tr>\n",
       "      <th>2017-01-31</th>\n",
       "      <td>157603</td>\n",
       "      <td>air_28dbe91c4c9656be</td>\n",
       "      <td>0</td>\n",
       "      <td>0</td>\n",
       "      <td>0</td>\n",
       "      <td>0</td>\n",
       "      <td>0</td>\n",
       "      <td>1</td>\n",
       "      <td>0.0</td>\n",
       "      <td>-0.636620</td>\n",
       "      <td>...</td>\n",
       "      <td>0</td>\n",
       "      <td>0</td>\n",
       "      <td>0</td>\n",
       "      <td>0</td>\n",
       "      <td>0</td>\n",
       "      <td>0</td>\n",
       "      <td>0</td>\n",
       "      <td>0</td>\n",
       "      <td>0</td>\n",
       "      <td>0</td>\n",
       "    </tr>\n",
       "  </tbody>\n",
       "</table>\n",
       "<p>2 rows × 133 columns</p>\n",
       "</div>"
      ],
      "text/plain": [
       "            Unnamed: 0          air_store_id  Friday  Monday  Saturday  \\\n",
       "2017-01-30      157032  air_28dbe91c4c9656be       0       1         0   \n",
       "2017-01-31      157603  air_28dbe91c4c9656be       0       0         0   \n",
       "\n",
       "            Sunday  Thursday  Tuesday  Wednesday  avg_temperature1  \\\n",
       "2017-01-30       0         0        0        0.0         -0.848822   \n",
       "2017-01-31       0         0        1        0.0         -0.636620   \n",
       "\n",
       "                 ...        Ōsaka-fu Sakai-shi Minamikawaramachi  \\\n",
       "2017-01-30       ...                                           0   \n",
       "2017-01-31       ...                                           0   \n",
       "\n",
       "            Ōsaka-fu Suita-shi Izumichō  Ōsaka-fu Ōsaka-shi Fuminosato  \\\n",
       "2017-01-30                            0                              0   \n",
       "2017-01-31                            0                              0   \n",
       "\n",
       "            Ōsaka-fu Ōsaka-shi Kyōmachibori  Ōsaka-fu Ōsaka-shi Kyūtarōmachi  \\\n",
       "2017-01-30                                0                                0   \n",
       "2017-01-31                                0                                0   \n",
       "\n",
       "            Ōsaka-fu Ōsaka-shi Nakanochō  Ōsaka-fu Ōsaka-shi Nanbasennichimae  \\\n",
       "2017-01-30                             0                                    0   \n",
       "2017-01-31                             0                                    0   \n",
       "\n",
       "            Ōsaka-fu Ōsaka-shi Shinmachi  Ōsaka-fu Ōsaka-shi Ōgimachi  \\\n",
       "2017-01-30                             0                            0   \n",
       "2017-01-31                             0                            0   \n",
       "\n",
       "            validation_ind  \n",
       "2017-01-30               0  \n",
       "2017-01-31               0  \n",
       "\n",
       "[2 rows x 133 columns]"
      ]
     },
     "execution_count": 352,
     "metadata": {},
     "output_type": "execute_result"
    }
   ],
   "source": [
    "data_train_train[data_train_train[\"air_store_id\"]==\"air_28dbe91c4c9656be\"]"
   ]
  },
  {
   "cell_type": "code",
   "execution_count": 353,
   "metadata": {
    "collapsed": true
   },
   "outputs": [],
   "source": [
    "rest_data_dict = {}\n",
    "\n",
    "for restaurant in \\\n",
    "list(set(data[\"air_store_id\"])):\n",
    "    rest_data_dict[restaurant] = data[data[\"air_store_id\"]==restaurant]\n",
    "    \n",
    "arima_rest_data_dict = {}\n",
    "arima_data = data[arima_cols]\n",
    "for restaurant in \\\n",
    "list(set(data[\"air_store_id\"])):\n",
    "    arima_rest_data_dict[restaurant] = arima_data[arima_data[\"air_store_id\"]==restaurant]"
   ]
  },
  {
   "cell_type": "code",
   "execution_count": 354,
   "metadata": {},
   "outputs": [],
   "source": [
    "# arima_rest_data_dict[\"air_83db5aff8f50478e\"] ## check"
   ]
  },
  {
   "cell_type": "code",
   "execution_count": 355,
   "metadata": {
    "collapsed": true
   },
   "outputs": [],
   "source": [
    "train_dict = {}\n",
    "validation_dict = {}\n",
    "test_dict = {}\n",
    "\n",
    "arima_train_dict = {}\n",
    "arima_val_dict = {}\n",
    "arima_test_dict = {}\n",
    "\n",
    "for key in rest_data_dict.keys():\n",
    "    ## Train\n",
    "    if len(data_train_train[data_train_train[\"air_store_id\"]==key]) >= 60:\n",
    "        train_dict[key] = data_train_train[data_train_train[\"air_store_id\"]==key]\n",
    "    ## Validation\n",
    "    validation_dict[key] = data_train_validation[data_train_validation[\"air_store_id\"]==key]\n",
    "    ## Test\n",
    "    test_dict[str(key)] = rest_data_dict[key][rest_data_dict[key][\"train_ind\"]==0]\n",
    "    ## Train ARIMA\n",
    "    if len(data_train_train[data_train_train[\"air_store_id\"]==key]) >= 20:\n",
    "        arima_train_dict[key] = data_train_train[data_train_train[\"air_store_id\"]==key][arima_cols]\n",
    "    ## Validation ARIMA\n",
    "    arima_val_dict[key] = data_train_validation[data_train_validation[\"air_store_id\"]==key][arima_cols]\n",
    "    ## Test ARIMA\n",
    "    arima_test_dict[key] = rest_data_dict[key][rest_data_dict[key][\"train_ind\"]==0][arima_cols]\n",
    "    "
   ]
  },
  {
   "cell_type": "code",
   "execution_count": 356,
   "metadata": {
    "collapsed": true
   },
   "outputs": [],
   "source": [
    "## rest_data_dict = {\"restaurant_ids\": DFs}\n",
    "## train_dict = {\"restaurant_ids\": train_DFs}\n",
    "## validation_dict = {\"restaurant_ids\": validation_DFs}\n",
    "## test_dict = {\"restaurant_ids\": test_DFs}"
   ]
  },
  {
   "cell_type": "code",
   "execution_count": 357,
   "metadata": {},
   "outputs": [],
   "source": [
    "from statsmodels.tsa.arima_model import ARIMA\n",
    "from statsmodels.tsa.stattools import adfuller\n",
    "from sklearn.preprocessing import StandardScaler\n",
    "from datetime import datetime\n",
    "from statsmodels.tsa.arima_model import ARMAResults"
   ]
  },
  {
   "cell_type": "code",
   "execution_count": 358,
   "metadata": {},
   "outputs": [],
   "source": [
    "train_exog_cols = np.where((data_train_train[arima_cols].columns.values != \"visitors\") & (data_train_train[arima_cols].columns.values != \"train_ind\") &\\\n",
    "         (data_train_train[arima_cols].columns.values != \"visit_date\") & (data_train_train[arima_cols].columns.values != \"air_store_id\") \\\n",
    "         & (data_train_train[arima_cols].columns.values != \"validation_ind\"))\n",
    "\n",
    "endo = {}\n",
    "exog = {}\n",
    "arima_dates = {}\n",
    "\n",
    "for restaurant in list(set(list(arima_train_dict.keys()))):\n",
    "    endo[restaurant] = pd.DataFrame(arima_train_dict[restaurant][\"visitors\"], \\\n",
    "                                    index=arima_train_dict[restaurant].index)\n",
    "\n",
    "    exog[restaurant] = arima_train_dict[restaurant][arima_train_dict[restaurant].\\\n",
    "                                              columns[train_exog_cols]]\n",
    "    \n",
    "    arima_dates[restaurant] = endo[restaurant].index"
   ]
  },
  {
   "cell_type": "code",
   "execution_count": 359,
   "metadata": {
    "collapsed": true
   },
   "outputs": [],
   "source": [
    "## same for validation\n",
    "valid_exog_cols = np.where((data_train_validation[arima_cols].columns.values != \"visitors\") & (data_train_validation[arima_cols].columns.values != \"train_ind\") &\\\n",
    "         (data_train_validation[arima_cols].columns.values != \"visit_date\") & (data_train_validation[arima_cols].columns.values != \"air_store_id\") \\\n",
    "         & (data_train_validation[arima_cols].columns.values != \"validation_ind\"))\n",
    "\n",
    "endo_valid = {}\n",
    "exog_valid = {}\n",
    "arima_dates_valid = {}\n",
    "\n",
    "for restaurant in list(set(list(arima_val_dict.keys()))):\n",
    "    endo_valid[restaurant] = pd.DataFrame(arima_val_dict[restaurant][\"visitors\"], \\\n",
    "                                    index=arima_val_dict[restaurant].index)\n",
    "\n",
    "    exog_valid[restaurant] = arima_val_dict[restaurant][arima_val_dict[restaurant].\\\n",
    "                                              columns[valid_exog_cols]]\n",
    "    \n",
    "    arima_dates_valid[restaurant] = arima_val_dict[restaurant].index"
   ]
  },
  {
   "cell_type": "code",
   "execution_count": 360,
   "metadata": {
    "collapsed": true
   },
   "outputs": [],
   "source": [
    "model_fit_try = ARIMA(endog=np.array(endo[\"air_83db5aff8f50478e\"]), order=(3,1,0),\\\n",
    "                                    exog=np.array(exog[\"air_83db5aff8f50478e\"]), dates=arima_dates[\"air_83db5aff8f50478e\"], freq=\"D\") "
   ]
  },
  {
   "cell_type": "code",
   "execution_count": 300,
   "metadata": {},
   "outputs": [
    {
     "data": {
      "text/plain": [
       "<bound method ARMA.score of <statsmodels.tsa.arima_model.ARIMA object at 0x1a3ea72240>>"
      ]
     },
     "execution_count": 300,
     "metadata": {},
     "output_type": "execute_result"
    }
   ],
   "source": [
    "model_fit_try.score"
   ]
  },
  {
   "cell_type": "code",
   "execution_count": 363,
   "metadata": {
    "scrolled": false
   },
   "outputs": [],
   "source": [
    "model_fit_fit = model_fit_try.fit(start_params=None, trend=\"nc\", method=\"css-mle\", maxiter=1000, transparams=True, disp=0)\n",
    "\n"
   ]
  },
  {
   "cell_type": "code",
   "execution_count": 364,
   "metadata": {},
   "outputs": [
    {
     "data": {
      "text/plain": [
       "{'converged': True,\n",
       " 'fcalls': 5664,\n",
       " 'fopt': 2.933402439587428,\n",
       " 'gopt': array([ -8.88178420e-08,   5.99520433e-06,   8.12683254e-06,\n",
       "         -2.66453526e-07,   4.44089210e-07,  -3.10862447e-07,\n",
       "          1.33226763e-07,   0.00000000e+00,   4.44089210e-08,\n",
       "          1.77635684e-07,  -1.33226763e-07,  -2.22044605e-07,\n",
       "         -1.02140518e-06,  -5.32907052e-07,  -2.66453526e-07]),\n",
       " 'warnflag': 0}"
      ]
     },
     "execution_count": 364,
     "metadata": {},
     "output_type": "execute_result"
    }
   ],
   "source": [
    "model_fit_fit.mle_retvals"
   ]
  },
  {
   "cell_type": "code",
   "execution_count": 365,
   "metadata": {},
   "outputs": [
    {
     "data": {
      "text/plain": [
       "12"
      ]
     },
     "execution_count": 365,
     "metadata": {},
     "output_type": "execute_result"
    }
   ],
   "source": [
    "len(exog[\"air_83db5aff8f50478e\"].columns.values)"
   ]
  },
  {
   "cell_type": "code",
   "execution_count": 366,
   "metadata": {},
   "outputs": [
    {
     "data": {
      "text/plain": [
       "{'converged': True,\n",
       " 'fcalls': 5664,\n",
       " 'fopt': 2.933402439587428,\n",
       " 'gopt': array([ -8.88178420e-08,   5.99520433e-06,   8.12683254e-06,\n",
       "         -2.66453526e-07,   4.44089210e-07,  -3.10862447e-07,\n",
       "          1.33226763e-07,   0.00000000e+00,   4.44089210e-08,\n",
       "          1.77635684e-07,  -1.33226763e-07,  -2.22044605e-07,\n",
       "         -1.02140518e-06,  -5.32907052e-07,  -2.66453526e-07]),\n",
       " 'warnflag': 0}"
      ]
     },
     "execution_count": 366,
     "metadata": {},
     "output_type": "execute_result"
    }
   ],
   "source": [
    "model_fit_fit.mle_retvals"
   ]
  },
  {
   "cell_type": "code",
   "execution_count": 367,
   "metadata": {},
   "outputs": [
    {
     "data": {
      "text/plain": [
       "array([ -3.25424950e+03,  -1.13012827e-01,   1.16481961e-01,\n",
       "         2.62377079e-01,  -2.28305550e-01,  -6.10079294e-01,\n",
       "         1.02797560e+00,   1.48088376e-10,   1.68498659e+00,\n",
       "         5.40497541e-01,   7.01794285e-01,  -1.14451387e+00,\n",
       "        -9.22867477e-01,  -6.06768921e-01,  -3.60538818e-01])"
      ]
     },
     "execution_count": 367,
     "metadata": {},
     "output_type": "execute_result"
    }
   ],
   "source": [
    "model_fit_fit.params"
   ]
  },
  {
   "cell_type": "code",
   "execution_count": 368,
   "metadata": {},
   "outputs": [
    {
     "ename": "LinAlgError",
     "evalue": "Singular matrix",
     "output_type": "error",
     "traceback": [
      "\u001b[0;31m---------------------------------------------------------------------------\u001b[0m",
      "\u001b[0;31mLinAlgError\u001b[0m                               Traceback (most recent call last)",
      "\u001b[0;32m<ipython-input-368-8dc9bf0737f6>\u001b[0m in \u001b[0;36m<module>\u001b[0;34m()\u001b[0m\n\u001b[0;32m----> 1\u001b[0;31m \u001b[0mmodel_fit_fit\u001b[0m\u001b[0;34m.\u001b[0m\u001b[0msummary\u001b[0m\u001b[0;34m(\u001b[0m\u001b[0;34m)\u001b[0m\u001b[0;34m\u001b[0m\u001b[0m\n\u001b[0m",
      "\u001b[0;32m~/anaconda/lib/python3.6/site-packages/statsmodels/tsa/arima_model.py\u001b[0m in \u001b[0;36msummary\u001b[0;34m(self, alpha)\u001b[0m\n\u001b[1;32m   1622\u001b[0m         smry.add_table_2cols(self, gleft=top_left, gright=top_right,\n\u001b[1;32m   1623\u001b[0m                              title=title)\n\u001b[0;32m-> 1624\u001b[0;31m         \u001b[0msmry\u001b[0m\u001b[0;34m.\u001b[0m\u001b[0madd_table_params\u001b[0m\u001b[0;34m(\u001b[0m\u001b[0mself\u001b[0m\u001b[0;34m,\u001b[0m \u001b[0malpha\u001b[0m\u001b[0;34m=\u001b[0m\u001b[0malpha\u001b[0m\u001b[0;34m,\u001b[0m \u001b[0muse_t\u001b[0m\u001b[0;34m=\u001b[0m\u001b[0;32mFalse\u001b[0m\u001b[0;34m)\u001b[0m\u001b[0;34m\u001b[0m\u001b[0m\n\u001b[0m\u001b[1;32m   1625\u001b[0m \u001b[0;34m\u001b[0m\u001b[0m\n\u001b[1;32m   1626\u001b[0m         \u001b[0;31m# Make the roots table\u001b[0m\u001b[0;34m\u001b[0m\u001b[0;34m\u001b[0m\u001b[0m\n",
      "\u001b[0;32m~/anaconda/lib/python3.6/site-packages/statsmodels/iolib/summary.py\u001b[0m in \u001b[0;36madd_table_params\u001b[0;34m(self, res, yname, xname, alpha, use_t)\u001b[0m\n\u001b[1;32m    859\u001b[0m         \u001b[0;32mif\u001b[0m \u001b[0mres\u001b[0m\u001b[0;34m.\u001b[0m\u001b[0mparams\u001b[0m\u001b[0;34m.\u001b[0m\u001b[0mndim\u001b[0m \u001b[0;34m==\u001b[0m \u001b[0;36m1\u001b[0m\u001b[0;34m:\u001b[0m\u001b[0;34m\u001b[0m\u001b[0m\n\u001b[1;32m    860\u001b[0m             table = summary_params(res, yname=yname, xname=xname, alpha=alpha,\n\u001b[0;32m--> 861\u001b[0;31m                                    use_t=use_t)\n\u001b[0m\u001b[1;32m    862\u001b[0m         \u001b[0;32melif\u001b[0m \u001b[0mres\u001b[0m\u001b[0;34m.\u001b[0m\u001b[0mparams\u001b[0m\u001b[0;34m.\u001b[0m\u001b[0mndim\u001b[0m \u001b[0;34m==\u001b[0m \u001b[0;36m2\u001b[0m\u001b[0;34m:\u001b[0m\u001b[0;34m\u001b[0m\u001b[0m\n\u001b[1;32m    863\u001b[0m \u001b[0;31m#            _, table = summary_params_2dflat(res, yname=yname, xname=xname,\u001b[0m\u001b[0;34m\u001b[0m\u001b[0;34m\u001b[0m\u001b[0m\n",
      "\u001b[0;32m~/anaconda/lib/python3.6/site-packages/statsmodels/iolib/summary.py\u001b[0m in \u001b[0;36msummary_params\u001b[0;34m(results, yname, xname, alpha, use_t, skip_header, title)\u001b[0m\n\u001b[1;32m    443\u001b[0m     \u001b[0;32melse\u001b[0m\u001b[0;34m:\u001b[0m\u001b[0;34m\u001b[0m\u001b[0m\n\u001b[1;32m    444\u001b[0m         \u001b[0mparams\u001b[0m \u001b[0;34m=\u001b[0m \u001b[0mresults\u001b[0m\u001b[0;34m.\u001b[0m\u001b[0mparams\u001b[0m\u001b[0;34m\u001b[0m\u001b[0m\n\u001b[0;32m--> 445\u001b[0;31m         \u001b[0mstd_err\u001b[0m \u001b[0;34m=\u001b[0m \u001b[0mresults\u001b[0m\u001b[0;34m.\u001b[0m\u001b[0mbse\u001b[0m\u001b[0;34m\u001b[0m\u001b[0m\n\u001b[0m\u001b[1;32m    446\u001b[0m         \u001b[0mtvalues\u001b[0m \u001b[0;34m=\u001b[0m \u001b[0mresults\u001b[0m\u001b[0;34m.\u001b[0m\u001b[0mtvalues\u001b[0m  \u001b[0;31m#is this sometimes called zvalues\u001b[0m\u001b[0;34m\u001b[0m\u001b[0m\n\u001b[1;32m    447\u001b[0m         \u001b[0mpvalues\u001b[0m \u001b[0;34m=\u001b[0m \u001b[0mresults\u001b[0m\u001b[0;34m.\u001b[0m\u001b[0mpvalues\u001b[0m\u001b[0;34m\u001b[0m\u001b[0m\n",
      "\u001b[0;32m~/anaconda/lib/python3.6/site-packages/statsmodels/tools/decorators.py\u001b[0m in \u001b[0;36m__get__\u001b[0;34m(self, obj, type)\u001b[0m\n\u001b[1;32m     95\u001b[0m         \u001b[0;32mif\u001b[0m \u001b[0m_cachedval\u001b[0m \u001b[0;32mis\u001b[0m \u001b[0;32mNone\u001b[0m\u001b[0;34m:\u001b[0m\u001b[0;34m\u001b[0m\u001b[0m\n\u001b[1;32m     96\u001b[0m             \u001b[0;31m# Call the \"fget\" function\u001b[0m\u001b[0;34m\u001b[0m\u001b[0;34m\u001b[0m\u001b[0m\n\u001b[0;32m---> 97\u001b[0;31m             \u001b[0m_cachedval\u001b[0m \u001b[0;34m=\u001b[0m \u001b[0mself\u001b[0m\u001b[0;34m.\u001b[0m\u001b[0mfget\u001b[0m\u001b[0;34m(\u001b[0m\u001b[0mobj\u001b[0m\u001b[0;34m)\u001b[0m\u001b[0;34m\u001b[0m\u001b[0m\n\u001b[0m\u001b[1;32m     98\u001b[0m             \u001b[0;31m# Set the attribute in obj\u001b[0m\u001b[0;34m\u001b[0m\u001b[0;34m\u001b[0m\u001b[0m\n\u001b[1;32m     99\u001b[0m             \u001b[0;31m# print(\"Setting %s in cache to %s\" % (name, _cachedval))\u001b[0m\u001b[0;34m\u001b[0m\u001b[0;34m\u001b[0m\u001b[0m\n",
      "\u001b[0;32m~/anaconda/lib/python3.6/site-packages/statsmodels/tsa/arima_model.py\u001b[0m in \u001b[0;36mbse\u001b[0;34m(self)\u001b[0m\n\u001b[1;32m   1439\u001b[0m         \u001b[0;32mif\u001b[0m \u001b[0mlen\u001b[0m\u001b[0;34m(\u001b[0m\u001b[0mparams\u001b[0m\u001b[0;34m)\u001b[0m \u001b[0;34m==\u001b[0m \u001b[0;36m1\u001b[0m\u001b[0;34m:\u001b[0m  \u001b[0;31m# can't take an inverse, ensure 1d\u001b[0m\u001b[0;34m\u001b[0m\u001b[0m\n\u001b[1;32m   1440\u001b[0m             \u001b[0;32mreturn\u001b[0m \u001b[0mnp\u001b[0m\u001b[0;34m.\u001b[0m\u001b[0msqrt\u001b[0m\u001b[0;34m(\u001b[0m\u001b[0;34m-\u001b[0m\u001b[0;36m1.\u001b[0m\u001b[0;34m/\u001b[0m\u001b[0mhess\u001b[0m\u001b[0;34m[\u001b[0m\u001b[0;36m0\u001b[0m\u001b[0;34m]\u001b[0m\u001b[0;34m)\u001b[0m\u001b[0;34m\u001b[0m\u001b[0m\n\u001b[0;32m-> 1441\u001b[0;31m         \u001b[0;32mreturn\u001b[0m \u001b[0mnp\u001b[0m\u001b[0;34m.\u001b[0m\u001b[0msqrt\u001b[0m\u001b[0;34m(\u001b[0m\u001b[0mnp\u001b[0m\u001b[0;34m.\u001b[0m\u001b[0mdiag\u001b[0m\u001b[0;34m(\u001b[0m\u001b[0;34m-\u001b[0m\u001b[0minv\u001b[0m\u001b[0;34m(\u001b[0m\u001b[0mhess\u001b[0m\u001b[0;34m)\u001b[0m\u001b[0;34m)\u001b[0m\u001b[0;34m)\u001b[0m\u001b[0;34m\u001b[0m\u001b[0m\n\u001b[0m\u001b[1;32m   1442\u001b[0m \u001b[0;34m\u001b[0m\u001b[0m\n\u001b[1;32m   1443\u001b[0m     \u001b[0;32mdef\u001b[0m \u001b[0mcov_params\u001b[0m\u001b[0;34m(\u001b[0m\u001b[0mself\u001b[0m\u001b[0;34m)\u001b[0m\u001b[0;34m:\u001b[0m  \u001b[0;31m# add scale argument?\u001b[0m\u001b[0;34m\u001b[0m\u001b[0m\n",
      "\u001b[0;32m~/anaconda/lib/python3.6/site-packages/numpy/linalg/linalg.py\u001b[0m in \u001b[0;36minv\u001b[0;34m(a)\u001b[0m\n\u001b[1;32m    524\u001b[0m     \u001b[0msignature\u001b[0m \u001b[0;34m=\u001b[0m \u001b[0;34m'D->D'\u001b[0m \u001b[0;32mif\u001b[0m \u001b[0misComplexType\u001b[0m\u001b[0;34m(\u001b[0m\u001b[0mt\u001b[0m\u001b[0;34m)\u001b[0m \u001b[0;32melse\u001b[0m \u001b[0;34m'd->d'\u001b[0m\u001b[0;34m\u001b[0m\u001b[0m\n\u001b[1;32m    525\u001b[0m     \u001b[0mextobj\u001b[0m \u001b[0;34m=\u001b[0m \u001b[0mget_linalg_error_extobj\u001b[0m\u001b[0;34m(\u001b[0m\u001b[0m_raise_linalgerror_singular\u001b[0m\u001b[0;34m)\u001b[0m\u001b[0;34m\u001b[0m\u001b[0m\n\u001b[0;32m--> 526\u001b[0;31m     \u001b[0mainv\u001b[0m \u001b[0;34m=\u001b[0m \u001b[0m_umath_linalg\u001b[0m\u001b[0;34m.\u001b[0m\u001b[0minv\u001b[0m\u001b[0;34m(\u001b[0m\u001b[0ma\u001b[0m\u001b[0;34m,\u001b[0m \u001b[0msignature\u001b[0m\u001b[0;34m=\u001b[0m\u001b[0msignature\u001b[0m\u001b[0;34m,\u001b[0m \u001b[0mextobj\u001b[0m\u001b[0;34m=\u001b[0m\u001b[0mextobj\u001b[0m\u001b[0;34m)\u001b[0m\u001b[0;34m\u001b[0m\u001b[0m\n\u001b[0m\u001b[1;32m    527\u001b[0m     \u001b[0;32mreturn\u001b[0m \u001b[0mwrap\u001b[0m\u001b[0;34m(\u001b[0m\u001b[0mainv\u001b[0m\u001b[0;34m.\u001b[0m\u001b[0mastype\u001b[0m\u001b[0;34m(\u001b[0m\u001b[0mresult_t\u001b[0m\u001b[0;34m,\u001b[0m \u001b[0mcopy\u001b[0m\u001b[0;34m=\u001b[0m\u001b[0;32mFalse\u001b[0m\u001b[0;34m)\u001b[0m\u001b[0;34m)\u001b[0m\u001b[0;34m\u001b[0m\u001b[0m\n\u001b[1;32m    528\u001b[0m \u001b[0;34m\u001b[0m\u001b[0m\n",
      "\u001b[0;32m~/anaconda/lib/python3.6/site-packages/numpy/linalg/linalg.py\u001b[0m in \u001b[0;36m_raise_linalgerror_singular\u001b[0;34m(err, flag)\u001b[0m\n\u001b[1;32m     88\u001b[0m \u001b[0;34m\u001b[0m\u001b[0m\n\u001b[1;32m     89\u001b[0m \u001b[0;32mdef\u001b[0m \u001b[0m_raise_linalgerror_singular\u001b[0m\u001b[0;34m(\u001b[0m\u001b[0merr\u001b[0m\u001b[0;34m,\u001b[0m \u001b[0mflag\u001b[0m\u001b[0;34m)\u001b[0m\u001b[0;34m:\u001b[0m\u001b[0;34m\u001b[0m\u001b[0m\n\u001b[0;32m---> 90\u001b[0;31m     \u001b[0;32mraise\u001b[0m \u001b[0mLinAlgError\u001b[0m\u001b[0;34m(\u001b[0m\u001b[0;34m\"Singular matrix\"\u001b[0m\u001b[0;34m)\u001b[0m\u001b[0;34m\u001b[0m\u001b[0m\n\u001b[0m\u001b[1;32m     91\u001b[0m \u001b[0;34m\u001b[0m\u001b[0m\n\u001b[1;32m     92\u001b[0m \u001b[0;32mdef\u001b[0m \u001b[0m_raise_linalgerror_nonposdef\u001b[0m\u001b[0;34m(\u001b[0m\u001b[0merr\u001b[0m\u001b[0;34m,\u001b[0m \u001b[0mflag\u001b[0m\u001b[0;34m)\u001b[0m\u001b[0;34m:\u001b[0m\u001b[0;34m\u001b[0m\u001b[0m\n",
      "\u001b[0;31mLinAlgError\u001b[0m: Singular matrix"
     ]
    }
   ],
   "source": [
    "model_fit_fit.summary()"
   ]
  },
  {
   "cell_type": "code",
   "execution_count": 104,
   "metadata": {},
   "outputs": [
    {
     "data": {
      "text/plain": [
       "177"
      ]
     },
     "execution_count": 104,
     "metadata": {},
     "output_type": "execute_result"
    }
   ],
   "source": [
    "len(exog[\"air_83db5aff8f50478e\"])"
   ]
  },
  {
   "cell_type": "code",
   "execution_count": 109,
   "metadata": {},
   "outputs": [
    {
     "data": {
      "text/plain": [
       "23"
      ]
     },
     "execution_count": 109,
     "metadata": {},
     "output_type": "execute_result"
    }
   ],
   "source": [
    "len(exog_valid[\"air_83db5aff8f50478e\"])"
   ]
  },
  {
   "cell_type": "code",
   "execution_count": 369,
   "metadata": {},
   "outputs": [
    {
     "data": {
      "text/plain": [
       "array([ 6.94431265, -0.53448508,  2.69572722, -5.59905816,  2.20950005,\n",
       "       -0.29487594, -0.20307438, -0.10765368,  1.0181342 ,  0.316366  ,\n",
       "       -0.37648286,  0.60772874,  0.30826647,  1.65403448,  1.31162541,\n",
       "        0.13182807,  0.52914987, -0.26389208,  1.41875446,  0.10111037,\n",
       "        0.53494233, -1.30344361,  0.42510741])"
      ]
     },
     "execution_count": 369,
     "metadata": {},
     "output_type": "execute_result"
    }
   ],
   "source": [
    "## predict for each restaurant id\n",
    "model_fit_fit.predict(len(exog[\"air_83db5aff8f50478e\"]), len(exog[\"air_83db5aff8f50478e\"])+len(exog_valid[\"air_83db5aff8f50478e\"])-1, exog=exog_valid[\"air_83db5aff8f50478e\"])\n"
   ]
  },
  {
   "cell_type": "code",
   "execution_count": 371,
   "metadata": {
    "collapsed": true
   },
   "outputs": [],
   "source": [
    "def average_percentage_error(pred_array, true_array):\n",
    "    n = len(true_array)\n",
    "    percent_error = []\n",
    "    for i in range(n):\n",
    "        pct_error = np.absolute(np.subtract(pred_array, true_array))[i]/true_array[i]\n",
    "        percent_error.append(pct_error)\n",
    "        \n",
    "    avg_percent_error = np.mean(percent_error)\n",
    "    return avg_percent_error"
   ]
  },
  {
   "cell_type": "code",
   "execution_count": 130,
   "metadata": {},
   "outputs": [],
   "source": [
    "data_train_train = data_train_train.drop(data_train_train[data_train_train[\"air_store_id\"]==\"air_28dbe91c4c9656be\"])"
   ]
  },
  {
   "cell_type": "code",
   "execution_count": 132,
   "metadata": {},
   "outputs": [],
   "source": [
    "data_train_train = data_train_train.drop(data_train_train[data_train_train[\"air_store_id\"]==\"air_8110d68cc869b85e\"])"
   ]
  },
  {
   "cell_type": "code",
   "execution_count": 133,
   "metadata": {},
   "outputs": [],
   "source": [
    "# for restaurant in list(set(data_train_train[\"air_store_id\"])):\n",
    "#     print (restaurant + \" \" + str(len(endo[restaurant])))\n",
    "    \n",
    "    ## air_28dbe91c4c9656be\n",
    "    ## air_8110d68cc869b85e"
   ]
  },
  {
   "cell_type": "code",
   "execution_count": null,
   "metadata": {
    "collapsed": true
   },
   "outputs": [],
   "source": []
  },
  {
   "cell_type": "code",
   "execution_count": 227,
   "metadata": {},
   "outputs": [
    {
     "name": "stderr",
     "output_type": "stream",
     "text": [
      "/Users/derin/anaconda/lib/python3.6/site-packages/statsmodels/base/model.py:496: ConvergenceWarning: Maximum Likelihood optimization failed to converge. Check mle_retvals\n",
      "  \"Check mle_retvals\", ConvergenceWarning)\n",
      "/Users/derin/anaconda/lib/python3.6/site-packages/statsmodels/base/model.py:473: HessianInversionWarning: Inverting hessian failed, no bse or cov_params available\n",
      "  'available', HessianInversionWarning)\n",
      "/Users/derin/anaconda/lib/python3.6/site-packages/statsmodels/base/model.py:496: ConvergenceWarning: Maximum Likelihood optimization failed to converge. Check mle_retvals\n",
      "  \"Check mle_retvals\", ConvergenceWarning)\n"
     ]
    },
    {
     "ename": "ValueError",
     "evalue": "The computed initial MA coefficients are not invertible\nYou should induce invertibility, choose a different model order, or you can\npass your own start_params.",
     "output_type": "error",
     "traceback": [
      "\u001b[0;31m---------------------------------------------------------------------------\u001b[0m",
      "\u001b[0;31mValueError\u001b[0m                                Traceback (most recent call last)",
      "\u001b[0;32m<ipython-input-227-21838c19e818>\u001b[0m in \u001b[0;36m<module>\u001b[0;34m()\u001b[0m\n\u001b[1;32m     14\u001b[0m     \u001b[0;31m## (from the previous dict),\u001b[0m\u001b[0;34m\u001b[0m\u001b[0;34m\u001b[0m\u001b[0m\n\u001b[1;32m     15\u001b[0m     \u001b[0;31m## write it to a dict that has rest_ids as keys\u001b[0m\u001b[0;34m\u001b[0m\u001b[0;34m\u001b[0m\u001b[0m\n\u001b[0;32m---> 16\u001b[0;31m     \u001b[0marima_fitted_models_byrest\u001b[0m\u001b[0;34m[\u001b[0m\u001b[0mrestaurant\u001b[0m\u001b[0;34m]\u001b[0m \u001b[0;34m=\u001b[0m \u001b[0marima_models_byrest\u001b[0m\u001b[0;34m[\u001b[0m\u001b[0mrestaurant\u001b[0m\u001b[0;34m]\u001b[0m\u001b[0;34m.\u001b[0m    \u001b[0mfit\u001b[0m\u001b[0;34m(\u001b[0m\u001b[0mstart_params\u001b[0m\u001b[0;34m=\u001b[0m\u001b[0;32mNone\u001b[0m\u001b[0;34m,\u001b[0m \u001b[0mtrend\u001b[0m\u001b[0;34m=\u001b[0m\u001b[0;34m\"nc\"\u001b[0m\u001b[0;34m,\u001b[0m                       \u001b[0mmethod\u001b[0m\u001b[0;34m=\u001b[0m\u001b[0;34m\"mle\"\u001b[0m\u001b[0;34m,\u001b[0m \u001b[0mmaxiter\u001b[0m\u001b[0;34m=\u001b[0m\u001b[0;36m50\u001b[0m\u001b[0;34m,\u001b[0m \u001b[0mtransparams\u001b[0m\u001b[0;34m=\u001b[0m\u001b[0;32mTrue\u001b[0m\u001b[0;34m,\u001b[0m \u001b[0mdisp\u001b[0m\u001b[0;34m=\u001b[0m\u001b[0;36m0\u001b[0m\u001b[0;34m)\u001b[0m\u001b[0;34m\u001b[0m\u001b[0m\n\u001b[0m\u001b[1;32m     17\u001b[0m \u001b[0;34m\u001b[0m\u001b[0m\n\u001b[1;32m     18\u001b[0m \u001b[0mpreds_by_rest\u001b[0m \u001b[0;34m=\u001b[0m \u001b[0;34m{\u001b[0m\u001b[0;34m}\u001b[0m\u001b[0;34m\u001b[0m\u001b[0m\n",
      "\u001b[0;32m~/anaconda/lib/python3.6/site-packages/statsmodels/tsa/arima_model.py\u001b[0m in \u001b[0;36mfit\u001b[0;34m(self, start_params, trend, method, transparams, solver, maxiter, full_output, disp, callback, start_ar_lags, **kwargs)\u001b[0m\n\u001b[1;32m   1149\u001b[0m                                            \u001b[0mmethod\u001b[0m\u001b[0;34m,\u001b[0m \u001b[0mtransparams\u001b[0m\u001b[0;34m,\u001b[0m \u001b[0msolver\u001b[0m\u001b[0;34m,\u001b[0m\u001b[0;34m\u001b[0m\u001b[0m\n\u001b[1;32m   1150\u001b[0m                                            \u001b[0mmaxiter\u001b[0m\u001b[0;34m,\u001b[0m \u001b[0mfull_output\u001b[0m\u001b[0;34m,\u001b[0m \u001b[0mdisp\u001b[0m\u001b[0;34m,\u001b[0m\u001b[0;34m\u001b[0m\u001b[0m\n\u001b[0;32m-> 1151\u001b[0;31m                                            callback, start_ar_lags, **kwargs)\n\u001b[0m\u001b[1;32m   1152\u001b[0m         \u001b[0mnormalized_cov_params\u001b[0m \u001b[0;34m=\u001b[0m \u001b[0;32mNone\u001b[0m  \u001b[0;31m# TODO: fix this?\u001b[0m\u001b[0;34m\u001b[0m\u001b[0m\n\u001b[1;32m   1153\u001b[0m         arima_fit = ARIMAResults(self, mlefit._results.params,\n",
      "\u001b[0;32m~/anaconda/lib/python3.6/site-packages/statsmodels/tsa/arima_model.py\u001b[0m in \u001b[0;36mfit\u001b[0;34m(self, start_params, trend, method, transparams, solver, maxiter, full_output, disp, callback, start_ar_lags, **kwargs)\u001b[0m\n\u001b[1;32m    954\u001b[0m         \u001b[0;32melse\u001b[0m\u001b[0;34m:\u001b[0m  \u001b[0;31m# estimate starting parameters\u001b[0m\u001b[0;34m\u001b[0m\u001b[0m\n\u001b[1;32m    955\u001b[0m             start_params = self._fit_start_params((k_ar, k_ma, k), method,\n\u001b[0;32m--> 956\u001b[0;31m                                                   start_ar_lags)\n\u001b[0m\u001b[1;32m    957\u001b[0m \u001b[0;34m\u001b[0m\u001b[0m\n\u001b[1;32m    958\u001b[0m         \u001b[0;32mif\u001b[0m \u001b[0mtransparams\u001b[0m\u001b[0;34m:\u001b[0m  \u001b[0;31m# transform initial parameters to ensure invertibility\u001b[0m\u001b[0;34m\u001b[0m\u001b[0m\n",
      "\u001b[0;32m~/anaconda/lib/python3.6/site-packages/statsmodels/tsa/arima_model.py\u001b[0m in \u001b[0;36m_fit_start_params\u001b[0;34m(self, order, method, start_ar_lags)\u001b[0m\n\u001b[1;32m    572\u001b[0m     \u001b[0;32mdef\u001b[0m \u001b[0m_fit_start_params\u001b[0m\u001b[0;34m(\u001b[0m\u001b[0mself\u001b[0m\u001b[0;34m,\u001b[0m \u001b[0morder\u001b[0m\u001b[0;34m,\u001b[0m \u001b[0mmethod\u001b[0m\u001b[0;34m,\u001b[0m \u001b[0mstart_ar_lags\u001b[0m\u001b[0;34m=\u001b[0m\u001b[0;32mNone\u001b[0m\u001b[0;34m)\u001b[0m\u001b[0;34m:\u001b[0m\u001b[0;34m\u001b[0m\u001b[0m\n\u001b[1;32m    573\u001b[0m         \u001b[0;32mif\u001b[0m \u001b[0mmethod\u001b[0m \u001b[0;34m!=\u001b[0m \u001b[0;34m'css-mle'\u001b[0m\u001b[0;34m:\u001b[0m  \u001b[0;31m# use Hannan-Rissanen to get start params\u001b[0m\u001b[0;34m\u001b[0m\u001b[0m\n\u001b[0;32m--> 574\u001b[0;31m             \u001b[0mstart_params\u001b[0m \u001b[0;34m=\u001b[0m \u001b[0mself\u001b[0m\u001b[0;34m.\u001b[0m\u001b[0m_fit_start_params_hr\u001b[0m\u001b[0;34m(\u001b[0m\u001b[0morder\u001b[0m\u001b[0;34m,\u001b[0m \u001b[0mstart_ar_lags\u001b[0m\u001b[0;34m)\u001b[0m\u001b[0;34m\u001b[0m\u001b[0m\n\u001b[0m\u001b[1;32m    575\u001b[0m         \u001b[0;32melse\u001b[0m\u001b[0;34m:\u001b[0m  \u001b[0;31m# use CSS to get start params\u001b[0m\u001b[0;34m\u001b[0m\u001b[0m\n\u001b[1;32m    576\u001b[0m             \u001b[0mfunc\u001b[0m \u001b[0;34m=\u001b[0m \u001b[0;32mlambda\u001b[0m \u001b[0mparams\u001b[0m\u001b[0;34m:\u001b[0m \u001b[0;34m-\u001b[0m\u001b[0mself\u001b[0m\u001b[0;34m.\u001b[0m\u001b[0mloglike_css\u001b[0m\u001b[0;34m(\u001b[0m\u001b[0mparams\u001b[0m\u001b[0;34m)\u001b[0m\u001b[0;34m\u001b[0m\u001b[0m\n",
      "\u001b[0;32m~/anaconda/lib/python3.6/site-packages/statsmodels/tsa/arima_model.py\u001b[0m in \u001b[0;36m_fit_start_params_hr\u001b[0;34m(self, order, start_ar_lags)\u001b[0m\n\u001b[1;32m    562\u001b[0m         elif q and not np.all(np.abs(np.roots(np.r_[1, start_params[k + p:]]\n\u001b[1;32m    563\u001b[0m                                               )) < 1):\n\u001b[0;32m--> 564\u001b[0;31m             raise ValueError(\"The computed initial MA coefficients are not \"\n\u001b[0m\u001b[1;32m    565\u001b[0m                              \u001b[0;34m\"invertible\\nYou should induce invertibility, \"\u001b[0m\u001b[0;34m\u001b[0m\u001b[0m\n\u001b[1;32m    566\u001b[0m                              \u001b[0;34m\"choose a different model order, or you can\\n\"\u001b[0m\u001b[0;34m\u001b[0m\u001b[0m\n",
      "\u001b[0;31mValueError\u001b[0m: The computed initial MA coefficients are not invertible\nYou should induce invertibility, choose a different model order, or you can\npass your own start_params."
     ]
    }
   ],
   "source": [
    "arima_models_byrest = {}\n",
    "\n",
    "## for all unique restaurants\n",
    "for restaurant in list(set(list(arima_train_dict.keys()))):\n",
    "    ## config the ARIMA model that corresponds to the restaurant,\n",
    "    ## write it to a dict that has rest_ids as keys\n",
    "    arima_models_byrest[restaurant] = ARIMA(endog=endo[restaurant], order=(1,2,1),\\\n",
    "                                    exog=exog[restaurant], dates=arima_dates[restaurant], \\\n",
    "                                          freq=\"D\")          \n",
    "\n",
    "## fitting\n",
    "arima_fitted_models_byrest = {}\n",
    "## for all unique restaurants\n",
    "for restaurant in list(set(list(arima_train_dict.keys()))):\n",
    "    ## fit the ARIMA model that corresponds to the restaurant \n",
    "    ## (from the previous dict),\n",
    "    ## write it to a dict that has rest_ids as keys\n",
    "    arima_fitted_models_byrest[restaurant] = arima_models_byrest[restaurant].\\\n",
    "    fit(start_params=None, trend=\"nc\", \\\n",
    "                      method=\"mle\", maxiter=50, transparams=True, disp=0)\n",
    "\n",
    "preds_by_rest = {}\n",
    "## predictions for each restaurant\n",
    "for restaurant in list(set(list(arima_fitted_models_byrest.keys()))):\n",
    "    ## get the preds of the ARIMA model that corresponds to the restaurant \n",
    "    ## (from the previous dict),\n",
    "    ## write it to a dict that has rest_ids as keys\n",
    "    preds_by_rest[restaurant] = arima_fitted_models_byrest[restaurant].\\\n",
    "    predict(len(exog[restaurant]), len(exog[restaurant])+len(exog_valid[restaurant])-1, \\\n",
    "            exog=exog_valid[restaurant])\n",
    "            ## start index ## end index ## exogeneous_validation\n",
    "        \n",
    "## this is indifferent among restaurants\n",
    "## the coefs of all restaurants will have the same weight\n",
    "## we are looking for a better way of doing this\n",
    "objective_rest = {}\n",
    "for restaurant in list(set(list(preds_by_rest.keys()))):\n",
    "    ## normalized_arima_loss(pred_array, true_array)\n",
    "    ## takes the prediction of the corresponding restaurant from the \n",
    "    ## previous dictionary\n",
    "    ## true_array is the validation array\n",
    "    objective_rest[restaurant] = normalized_arima_loss(preds_by_rest[restaurant], \\\n",
    "                                                      endo_valid[restaurant][\"visitors\"])\n",
    "    \n",
    "## append all the losses corresponding to\n",
    "## each restaurant's model to a list\n",
    "loss_to_avr = []\n",
    "for key in list(objective_rest.keys()):\n",
    "    loss_to_avr.append(objective_rest[key])\n",
    "\n",
    "## average the losses\n",
    "np.mean(loss_to_avr)"
   ]
  },
  {
   "cell_type": "code",
   "execution_count": 328,
   "metadata": {
    "collapsed": true
   },
   "outputs": [],
   "source": [
    "from sklearn.preprocessing import StandardScaler\n",
    "\n",
    "scaler = StandardScaler()"
   ]
  },
  {
   "cell_type": "code",
   "execution_count": 372,
   "metadata": {},
   "outputs": [],
   "source": [
    "arima_models_byrest = {}\n",
    "\n",
    "## for all unique restaurants\n",
    "for restaurant in list(set(list(arima_train_dict.keys()))):\n",
    "    ## config the ARIMA model that corresponds to the restaurant,\n",
    "    ## write it to a dict that has rest_ids as keys\n",
    "    arima_models_byrest[restaurant] = ARIMA(endog=endo[restaurant], order=(3,1,0),\\\n",
    "                                    exog=exog[restaurant], dates=arima_dates[restaurant], \\\n",
    "                                          freq=\"D\")      "
   ]
  },
  {
   "cell_type": "code",
   "execution_count": null,
   "metadata": {},
   "outputs": [
    {
     "name": "stderr",
     "output_type": "stream",
     "text": [
      "/Users/derin/anaconda/lib/python3.6/site-packages/statsmodels/base/model.py:473: HessianInversionWarning: Inverting hessian failed, no bse or cov_params available\n",
      "  'available', HessianInversionWarning)\n",
      "/Users/derin/anaconda/lib/python3.6/site-packages/statsmodels/base/model.py:496: ConvergenceWarning: Maximum Likelihood optimization failed to converge. Check mle_retvals\n",
      "  \"Check mle_retvals\", ConvergenceWarning)\n",
      "/Users/derin/anaconda/lib/python3.6/site-packages/statsmodels/base/model.py:496: ConvergenceWarning: Maximum Likelihood optimization failed to converge. Check mle_retvals\n",
      "  \"Check mle_retvals\", ConvergenceWarning)\n",
      "/Users/derin/anaconda/lib/python3.6/site-packages/statsmodels/base/model.py:496: ConvergenceWarning: Maximum Likelihood optimization failed to converge. Check mle_retvals\n",
      "  \"Check mle_retvals\", ConvergenceWarning)\n",
      "/Users/derin/anaconda/lib/python3.6/site-packages/statsmodels/base/model.py:496: ConvergenceWarning: Maximum Likelihood optimization failed to converge. Check mle_retvals\n",
      "  \"Check mle_retvals\", ConvergenceWarning)\n",
      "/Users/derin/anaconda/lib/python3.6/site-packages/statsmodels/base/model.py:496: ConvergenceWarning: Maximum Likelihood optimization failed to converge. Check mle_retvals\n",
      "  \"Check mle_retvals\", ConvergenceWarning)\n",
      "/Users/derin/anaconda/lib/python3.6/site-packages/statsmodels/base/model.py:496: ConvergenceWarning: Maximum Likelihood optimization failed to converge. Check mle_retvals\n",
      "  \"Check mle_retvals\", ConvergenceWarning)\n",
      "/Users/derin/anaconda/lib/python3.6/site-packages/statsmodels/base/model.py:496: ConvergenceWarning: Maximum Likelihood optimization failed to converge. Check mle_retvals\n",
      "  \"Check mle_retvals\", ConvergenceWarning)\n",
      "/Users/derin/anaconda/lib/python3.6/site-packages/statsmodels/base/model.py:496: ConvergenceWarning: Maximum Likelihood optimization failed to converge. Check mle_retvals\n",
      "  \"Check mle_retvals\", ConvergenceWarning)\n",
      "/Users/derin/anaconda/lib/python3.6/site-packages/statsmodels/base/model.py:496: ConvergenceWarning: Maximum Likelihood optimization failed to converge. Check mle_retvals\n",
      "  \"Check mle_retvals\", ConvergenceWarning)\n",
      "/Users/derin/anaconda/lib/python3.6/site-packages/statsmodels/base/model.py:496: ConvergenceWarning: Maximum Likelihood optimization failed to converge. Check mle_retvals\n",
      "  \"Check mle_retvals\", ConvergenceWarning)\n",
      "/Users/derin/anaconda/lib/python3.6/site-packages/statsmodels/base/model.py:496: ConvergenceWarning: Maximum Likelihood optimization failed to converge. Check mle_retvals\n",
      "  \"Check mle_retvals\", ConvergenceWarning)\n",
      "/Users/derin/anaconda/lib/python3.6/site-packages/statsmodels/base/model.py:496: ConvergenceWarning: Maximum Likelihood optimization failed to converge. Check mle_retvals\n",
      "  \"Check mle_retvals\", ConvergenceWarning)\n",
      "/Users/derin/anaconda/lib/python3.6/site-packages/statsmodels/base/model.py:496: ConvergenceWarning: Maximum Likelihood optimization failed to converge. Check mle_retvals\n",
      "  \"Check mle_retvals\", ConvergenceWarning)\n",
      "/Users/derin/anaconda/lib/python3.6/site-packages/statsmodels/base/model.py:496: ConvergenceWarning: Maximum Likelihood optimization failed to converge. Check mle_retvals\n",
      "  \"Check mle_retvals\", ConvergenceWarning)\n",
      "/Users/derin/anaconda/lib/python3.6/site-packages/statsmodels/base/model.py:496: ConvergenceWarning: Maximum Likelihood optimization failed to converge. Check mle_retvals\n",
      "  \"Check mle_retvals\", ConvergenceWarning)\n",
      "/Users/derin/anaconda/lib/python3.6/site-packages/statsmodels/base/model.py:496: ConvergenceWarning: Maximum Likelihood optimization failed to converge. Check mle_retvals\n",
      "  \"Check mle_retvals\", ConvergenceWarning)\n",
      "/Users/derin/anaconda/lib/python3.6/site-packages/statsmodels/base/model.py:496: ConvergenceWarning: Maximum Likelihood optimization failed to converge. Check mle_retvals\n",
      "  \"Check mle_retvals\", ConvergenceWarning)\n"
     ]
    }
   ],
   "source": [
    "## fitting\n",
    "arima_fitted_models_byrest = {}\n",
    "## for all unique restaurants\n",
    "for restaurant in list(set(list(arima_train_dict.keys()))):\n",
    "    ## fit the ARIMA model that corresponds to the restaurant \n",
    "    ## (from the previous dict),\n",
    "    ## write it to a dict that has rest_ids as keys\n",
    "    \n",
    "    ## change start_params length with order\n",
    "    arima_fitted_models_byrest[restaurant] = arima_models_byrest[restaurant].\\\n",
    "    fit(start_params=None, trend=\"nc\", \\\n",
    "                      tol=1e-9,method=\"css-mle\", maxiter=1000, transparams=True, disp=1)"
   ]
  },
  {
   "cell_type": "code",
   "execution_count": null,
   "metadata": {},
   "outputs": [],
   "source": [
    "preds_by_rest = {}\n",
    "## predictions for each restaurant\n",
    "for restaurant in list(set(list(arima_fitted_models_byrest.keys()))):\n",
    "    ## get the preds of the ARIMA model that corresponds to the restaurant \n",
    "    ## (from the previous dict),\n",
    "    ## write it to a dict that has rest_ids as keys\n",
    "    if len(exog_valid[restaurant]) > 0:\n",
    "        preds_by_rest[restaurant] = arima_fitted_models_byrest[restaurant].\\\n",
    "        predict(len(exog[restaurant]), len(exog[restaurant])+len(exog_valid[restaurant])-1, \\\n",
    "            exog=exog_valid[restaurant])\n",
    "            ## start index ## end index ## exogeneous_validation"
   ]
  },
  {
   "cell_type": "code",
   "execution_count": null,
   "metadata": {},
   "outputs": [],
   "source": [
    "## this is indifferent among restaurants\n",
    "## the coefs of all restaurants will have the same weight\n",
    "## we are looking for a better way of doing this\n",
    "objective_rest = {}\n",
    "for restaurant in list(set(list(preds_by_rest.keys()))):\n",
    "    ## normalized_arima_loss(pred_array, true_array)\n",
    "    ## takes the prediction of the corresponding restaurant from the \n",
    "    ## previous dictionary\n",
    "    ## true_array is the validation array\n",
    "    objective_rest[restaurant] = average_percentage_error(preds_by_rest[restaurant], \\\n",
    "                                                      scaler.fit_transform(endo_valid[restaurant][\"visitors\"]))"
   ]
  },
  {
   "cell_type": "code",
   "execution_count": null,
   "metadata": {},
   "outputs": [],
   "source": [
    "objective_rest"
   ]
  },
  {
   "cell_type": "code",
   "execution_count": null,
   "metadata": {},
   "outputs": [],
   "source": [
    "import math\n",
    "loss_to_avr = []\n",
    "for key in list(objective_rest.keys()):\n",
    "    loss_to_avr.append(objective_rest[key])\n",
    "\n",
    "loss_to_avr = [value for value in loss_to_avr if not math.isnan(value)]\n",
    "np.mean(loss_to_avr)\n",
    "# loss_to_avr"
   ]
  },
  {
   "cell_type": "code",
   "execution_count": 316,
   "metadata": {},
   "outputs": [
    {
     "data": {
      "text/plain": [
       "[0.8050284016773438,\n",
       " 0.91634795328895402,\n",
       " 0.86737874624825451,\n",
       " 1.0122146448686107,\n",
       " 1.2818863288001141,\n",
       " 1.0790896418101632,\n",
       " 1.2342656934642928,\n",
       " 0.97159200755505115,\n",
       " 0.94974622853086832,\n",
       " 1.8173067392507178,\n",
       " 1.3302228534981579,\n",
       " 1.2037542513534212,\n",
       " 1.1276268191707386,\n",
       " 1.838303831676823,\n",
       " 4.6616683034812523,\n",
       " 1.1799030124065744,\n",
       " 1.3625339320383691,\n",
       " 1.0239410124980228,\n",
       " 1.0508336314065887,\n",
       " 1.188290211928013,\n",
       " 0.74561506461926153,\n",
       " 0.77348805157319711,\n",
       " 1.013407903362356,\n",
       " 1.1376010975950597,\n",
       " 1.3103480477801108,\n",
       " 1.5907351013701359,\n",
       " 1.3835630211416792,\n",
       " 1.9083373537571948,\n",
       " 1.1557470099695997,\n",
       " 1.1000483092253086,\n",
       " 1.1232378113520269,\n",
       " 0.849823445230529,\n",
       " 1.4122499204970431,\n",
       " 0.91576105398386642,\n",
       " 0.84926017755398975,\n",
       " 1.1411035221192132,\n",
       " 1.0826992649690697,\n",
       " 1.0920591235344219,\n",
       " 0.97020200203017148,\n",
       " 2.3052452712370597,\n",
       " 2.4485378225389338,\n",
       " 1.0945982009566593,\n",
       " 0.84945797149470792,\n",
       " 1.0563293666328415,\n",
       " 1.5481223677325595,\n",
       " 1.1848141916503743,\n",
       " 0.74798167520622538,\n",
       " 1.260672022541683,\n",
       " 0.94487229437863784,\n",
       " 0.83368461178333397,\n",
       " 1.0955535684451432,\n",
       " 0.90794945104196567,\n",
       " 1.4973202610020626,\n",
       " 1.05105071635618,\n",
       " 0.91060508351641634,\n",
       " 1.0600455751119546,\n",
       " 0.74317348514681714,\n",
       " 0.97702029654919187,\n",
       " 0.97609367708837946,\n",
       " 1.2902978923036292,\n",
       " 1.5272311601520641,\n",
       " 1.2291164488922997,\n",
       " 1.5110080837047457,\n",
       " 0.94540321798769811,\n",
       " 1.0192048808491152,\n",
       " 2.0365089997646777,\n",
       " 0.97014058781343171,\n",
       " 0.79391452966898457,\n",
       " 0.98015482834968337,\n",
       " 1.4490196764625438,\n",
       " 1.8953625279525903,\n",
       " 0.91167981333923909,\n",
       " 1.2795085452184307,\n",
       " 0.88368840560046447,\n",
       " 0.9044634848766866,\n",
       " 0.84449013207237955,\n",
       " 1.805020420366513,\n",
       " 0.69533824689580082,\n",
       " 0.89706764520522531,\n",
       " 0.98020433006985497,\n",
       " 2.2063267299665923,\n",
       " 0.99866742683541565,\n",
       " 1.0961286567305333,\n",
       " 0.85806468558777949,\n",
       " 0.96685505213132494,\n",
       " 2.1776174751967448,\n",
       " 1.4402795031274154,\n",
       " 1.2372654673184003,\n",
       " 1.2454288545332208,\n",
       " 1.3006599695580177,\n",
       " 1.2336565382195233,\n",
       " 1.2886820807117345,\n",
       " 2.8901346912286816,\n",
       " 1.2638456396116138,\n",
       " 1.4611687102589612,\n",
       " 1.5887695998891096,\n",
       " 1.1027460544389214,\n",
       " 0.98712711584749102,\n",
       " 0.89958947608208761,\n",
       " 0.99000970417147582,\n",
       " 1.1553384351290281,\n",
       " 0.88529139781116084,\n",
       " 0.92097462431208199,\n",
       " 1.7674634359504395,\n",
       " 0.69179804415927859,\n",
       " 0.91240571082449573,\n",
       " 1.0276814714713642,\n",
       " 0.91184942456298279,\n",
       " 1.0724410626554044,\n",
       " 1.6348457058762658,\n",
       " 0.94873976666220128,\n",
       " 0.75613873078508798,\n",
       " 0.89026433704287233,\n",
       " 0.75107886079047337,\n",
       " 0.88485898562573628,\n",
       " 0.96948604726064214,\n",
       " 0.74328866417019257,\n",
       " 0.88483666422713292,\n",
       " 1.0525325130080256,\n",
       " 1.1836611703966464,\n",
       " 0.98855173509812777,\n",
       " 1.0389428186467575,\n",
       " 1.2647042622240325,\n",
       " 1.1737966279346084,\n",
       " 0.91683710724771095,\n",
       " 6.4096645716300173,\n",
       " 1.5722934893082605,\n",
       " 1.3627900768184278,\n",
       " 0.89716425806458289,\n",
       " 0.95126856736640286,\n",
       " 1.1956645849314087,\n",
       " 1.3960887423011492,\n",
       " 0.97244135871450421,\n",
       " 1.5316753009325299,\n",
       " 1.1881037612964052,\n",
       " 1.3234748522743782,\n",
       " 1.3301561920098437,\n",
       " 1.2350488046048846,\n",
       " 0.90074393721872825,\n",
       " 1.291368150855394,\n",
       " 0.69863331304106469,\n",
       " 1.7341751567273997,\n",
       " 0.75998454063085763,\n",
       " 0.98394891220352132,\n",
       " 1.0231636142543905,\n",
       " 0.71898001658565358,\n",
       " 0.89816111171463431,\n",
       " 1.4812124812075922,\n",
       " 1.0082073307127597,\n",
       " 1.0008592972357084,\n",
       " 0.78754374940582594,\n",
       " 1.0092076139193731,\n",
       " 0.90724533813205133,\n",
       " 1.1538554447539493,\n",
       " 0.98288814828364424,\n",
       " 1.0338500984243493,\n",
       " 7.8992025835904478,\n",
       " 1.079280510765031,\n",
       " 1.0416539953698176,\n",
       " 0.99501432954090085,\n",
       " 0.97833151548552511,\n",
       " 1.2155211652911171,\n",
       " 1.4293359715201257,\n",
       " 1.010829908768577,\n",
       " 0.97449495418279386,\n",
       " 1.0543421948586527,\n",
       " 1.1030801225160018,\n",
       " 1.1189802096405328,\n",
       " 1.0077471064292849,\n",
       " 0.66627024772987586,\n",
       " 1.0682708853720062,\n",
       " 0.88857430875736887,\n",
       " 0.85942692932583886,\n",
       " 0.84522251662029346,\n",
       " 1.1416065296771276,\n",
       " 1.1645973600540149,\n",
       " 1.1196570134535502,\n",
       " 2.2259093929938536,\n",
       " 0.99198944084121332,\n",
       " 1.5068898975154443,\n",
       " 1.4394230379420412,\n",
       " 0.84033027862094645,\n",
       " 1.3816109804559369,\n",
       " 0.97035307332278864,\n",
       " 0.62750419374680833,\n",
       " 0.96172760770055443,\n",
       " 0.98083103215888923,\n",
       " 1.0362259446339197,\n",
       " 0.75820633230877654,\n",
       " 0.94103775997010153,\n",
       " 1.5881878336533597,\n",
       " 1.1289301879819444,\n",
       " 1.6041397097646177,\n",
       " 1.1900643068284438,\n",
       " 1.3708805778175417,\n",
       " 0.96969375069551267,\n",
       " 1.2396524927310162,\n",
       " 1.4291131144202927,\n",
       " 1.0871933099332416,\n",
       " 1.0546304757512603,\n",
       " 2.8425169811836253,\n",
       " 1.1912043563750245,\n",
       " 1.2540299422903478,\n",
       " 0.77677506181540124,\n",
       " 0.86380839400360843,\n",
       " 1.2859082821941141,\n",
       " 1.1437983320492293,\n",
       " 1.0088966064730194,\n",
       " 0.7700669444383369,\n",
       " 1.4633583256841951,\n",
       " 1.1554660808059976,\n",
       " 0.7917616367620024,\n",
       " 1.1130403692300219,\n",
       " 1.5893257276305912,\n",
       " 0.81898855379603341,\n",
       " 1.4135781425260541,\n",
       " 1.0652398648986405,\n",
       " 0.92108211887703217,\n",
       " 4.043015684284053,\n",
       " 2.7274395108685252,\n",
       " 1.0283049779249764,\n",
       " 1.3513316175120771,\n",
       " 0.84818208943907447,\n",
       " 0.79637126673657477,\n",
       " 0.76161677809628581,\n",
       " 1.0309300177156602,\n",
       " 1.9019444664862166,\n",
       " 1.0305729685687781,\n",
       " 0.98656368027506991,\n",
       " 0.81812443687535819,\n",
       " 0.98762086317595499,\n",
       " 2.8686838999899265,\n",
       " 1.0296719560069219,\n",
       " 1.9358386344587524,\n",
       " 1.1760771722532921,\n",
       " 1.2105168126632269,\n",
       " 1.3130626652909967,\n",
       " 0.95677714423214189,\n",
       " 1.2011341676401213,\n",
       " 0.79199162095712994,\n",
       " 1.6345009854239354,\n",
       " 0.90567099859031408,\n",
       " 0.44673187087362382,\n",
       " 1.43833717869123,\n",
       " 1.2705015246361009,\n",
       " 1.2516867826193243,\n",
       " 0.97490079857964407,\n",
       " 1.2539578700866727,\n",
       " 1.2603315389220515,\n",
       " 1.7194577803678412,\n",
       " 1.3560160070195171,\n",
       " 1.5300131031581721,\n",
       " 0.82827515310513622,\n",
       " 0.8916361235031719,\n",
       " 0.89627860035289364,\n",
       " 1.2541581199695018,\n",
       " 1.0781582196245902,\n",
       " 1.239590601110818,\n",
       " 0.9742259620759689,\n",
       " 1.1654173986309002,\n",
       " 0.81187221731482884,\n",
       " 0.92802325545892084,\n",
       " 1.027942235284997,\n",
       " 0.76004936565021164,\n",
       " 1.5120925267962946,\n",
       " 1.1181864782132547,\n",
       " 0.71502112460681211,\n",
       " 0.90381127928468963,\n",
       " 1.2252906582098015,\n",
       " 1.2430139722255926,\n",
       " 0.81733757300828691,\n",
       " 1.3303082515428672,\n",
       " 0.99496200889063147,\n",
       " 1.0157687311559063,\n",
       " 1.1257376976518176,\n",
       " 1.5710265535851957,\n",
       " 1.9761411922517347,\n",
       " 1.4197551466929248,\n",
       " 0.99535783191021598,\n",
       " 0.77681821857628852,\n",
       " 0.88257384253143278,\n",
       " 1.1796200021717846,\n",
       " 0.98737594439099152,\n",
       " 0.97869224016031964,\n",
       " 1.1653602952931403,\n",
       " 1.5161866783385947,\n",
       " 1.1105448775110711,\n",
       " 0.95942292530513473,\n",
       " 1.0186495109851543,\n",
       " 1.438633799691321,\n",
       " 1.3179492967961464,\n",
       " 2.6696081872520678,\n",
       " 0.87930067132438938,\n",
       " 0.86330700870402899,\n",
       " 1.1004845915678216,\n",
       " 0.9737756359947416,\n",
       " 1.3012897347788488,\n",
       " 1.4413408139243569,\n",
       " 0.7506703663142692,\n",
       " 1.5140761282836972,\n",
       " 1.1158346515338307,\n",
       " 0.79637742071289697,\n",
       " 0.95795345103237894,\n",
       " 1.26321925860776,\n",
       " 1.0165047432282348,\n",
       " 1.2669914875786703,\n",
       " 2.8366170082407343,\n",
       " 0.91089540370581545,\n",
       " 0.87137184133318712,\n",
       " 1.1836326834553055,\n",
       " 1.1276690237636287,\n",
       " 1.3210350373204149,\n",
       " 1.1669720505916741,\n",
       " 1.3750158271525383,\n",
       " 0.97477340632659693,\n",
       " 2.019312355887716,\n",
       " 1.0616479163886188,\n",
       " 1.0404869108461985,\n",
       " 1.0919573590239464,\n",
       " 1.2185429464084696,\n",
       " 2.0058246030927442,\n",
       " 0.96691964613977421,\n",
       " 1.0625864122685984,\n",
       " 1.0039446442753506,\n",
       " 0.99860461472330286,\n",
       " 0.89272097098460534,\n",
       " 0.85935445131913935,\n",
       " 1.0195694943643303,\n",
       " 1.0641414437190189,\n",
       " 0.92483445078735083,\n",
       " 1.3458309530278609,\n",
       " 0.93680215975884396,\n",
       " 0.85341008873430602,\n",
       " 1.0847106017800014,\n",
       " 1.0160704250852128,\n",
       " 1.0220474405228981,\n",
       " 0.69078873414184172,\n",
       " 1.6329791101244215,\n",
       " 0.80501359282888529,\n",
       " 1.29217539856918,\n",
       " 1.0666236098256652,\n",
       " 1.8031115862468523,\n",
       " 0.9512157520127611,\n",
       " 1.2968040634915949,\n",
       " 1.4452173687450889,\n",
       " 1.0672628103376571,\n",
       " 1.1451161592761483,\n",
       " 0.99706602262229949,\n",
       " 1.2267406784077022,\n",
       " 1.9584741651411555,\n",
       " 0.94440555807337034,\n",
       " 0.8130209733438809,\n",
       " 0.63276945804515339,\n",
       " 1.0264956831145442,\n",
       " 1.050770100718234,\n",
       " 1.2388425778871661,\n",
       " 1.7376812875539089,\n",
       " 0.95386925957617708,\n",
       " 0.97230748103659614,\n",
       " 3.7873648887219642,\n",
       " 1.0655864195788078,\n",
       " 0.94290035923140181,\n",
       " 0.76676919324525883,\n",
       " 1.245251686691448,\n",
       " 0.90197988223575287,\n",
       " 0.98928138998745452,\n",
       " 1.5708651825577062,\n",
       " 2.5544779851444765,\n",
       " 0.95410698417914419,\n",
       " 1.1357373613964634,\n",
       " 0.93256137671396588,\n",
       " 0.81476426223948695,\n",
       " 1.3392662061816354,\n",
       " 0.81524379286464832,\n",
       " 1.0017187623332116,\n",
       " 0.82006497658614697,\n",
       " 0.66669711132253751,\n",
       " 0.87759710191905926,\n",
       " 0.95680603896280103,\n",
       " 0.54478653383386078,\n",
       " 1.1041650270904584,\n",
       " 1.1768846263293817,\n",
       " 1.0221664306110196,\n",
       " 4.1637145928016661,\n",
       " 1.0033482192119738,\n",
       " 1.4708433270130858,\n",
       " 0.7800844622062878,\n",
       " 0.8825540113193685,\n",
       " 2.1193203226672184,\n",
       " 1.0470120158447944,\n",
       " 0.93269772402332274,\n",
       " 1.3210941496703792,\n",
       " 2.2052255355994643,\n",
       " 1.7525422441736092,\n",
       " 0.58685927888862688,\n",
       " 0.72552633211227158,\n",
       " 1.1801930662913263,\n",
       " 0.83740227535497769,\n",
       " 1.1555482333671292,\n",
       " 1.180584355553397,\n",
       " 1.0732564168486243,\n",
       " 1.108867395927597,\n",
       " 0.61412581767186158,\n",
       " 1.1540006066629049,\n",
       " 1.2428830108135267,\n",
       " 0.90391985210668502,\n",
       " 2.1618658352894595,\n",
       " 1.6200773820065466,\n",
       " 1.3100895844541085,\n",
       " 1.3542853426711274,\n",
       " 0.98387954666826183,\n",
       " 0.6874081949739913,\n",
       " 1.3673399573173308,\n",
       " 0.89284220807129155,\n",
       " 1.0690484215128853,\n",
       " 1.4349192737816774,\n",
       " 1.1004330888309501,\n",
       " 1.1248582342464886,\n",
       " 0.99320954705173159,\n",
       " 1.0438976505513426,\n",
       " 1.1614722851486641,\n",
       " 1.0773921752942246,\n",
       " 0.79442967243023965,\n",
       " 1.444386469149741,\n",
       " 2.8821896676852137,\n",
       " 1.3962951393881344,\n",
       " 1.2062097619709047,\n",
       " 0.96221129228182534,\n",
       " 1.1282702451963806,\n",
       " 1.43384590072276,\n",
       " 1.1851421722876736,\n",
       " 1.2380352089087179,\n",
       " 1.0593873820317314,\n",
       " 1.2389122176817144,\n",
       " 1.0475148863722901,\n",
       " 1.5649059082345633,\n",
       " 0.99972195036773448,\n",
       " 1.157124973797331,\n",
       " 1.564490432345931,\n",
       " 1.1433140910095254,\n",
       " 1.3351311701686519,\n",
       " 1.1841528132356023,\n",
       " 1.1727813592127989,\n",
       " 0.89056387127699466,\n",
       " 0.96254842980310273,\n",
       " 1.0407457428953582,\n",
       " 1.0971254020014352,\n",
       " 1.3171004507160777,\n",
       " 1.2995315086811383,\n",
       " 0.7075764856616743,\n",
       " 1.2185172021442592,\n",
       " 1.1806502713187021,\n",
       " 0.91140286879740051,\n",
       " 1.8477710239518423,\n",
       " 1.1785618689884614,\n",
       " 0.82900800716372314,\n",
       " 1.2043073507756361,\n",
       " 1.5603293839510781,\n",
       " 1.383480938178913,\n",
       " 0.91013389582288029,\n",
       " 0.86646077465283033,\n",
       " 0.92503241225047106,\n",
       " 2.2887257312374256,\n",
       " 1.0862312727423071,\n",
       " 0.93118697084080593,\n",
       " 1.0699434617418377,\n",
       " 0.78392660837566031,\n",
       " 1.2764172347252603,\n",
       " 2.0165340072908866,\n",
       " 1.3206690025874659,\n",
       " 0.8246632238902234,\n",
       " 1.7380182807957314,\n",
       " 1.0348165810834684,\n",
       " 1.2894876369196882,\n",
       " 1.1101592542615164,\n",
       " 1.0720258906811231,\n",
       " 1.0624724698079164,\n",
       " 1.2880087080941771,\n",
       " 0.71698871776775608,\n",
       " 1.1469036788005444,\n",
       " 0.96888672864431136,\n",
       " 1.1688210291659566,\n",
       " 0.90601776764667896,\n",
       " 0.54760426683468466,\n",
       " 1.1762711744187171,\n",
       " 1.5269178128689662,\n",
       " 1.4828786664527558,\n",
       " 0.70543064089544449,\n",
       " 0.81179450296638034,\n",
       " 1.082986424120111,\n",
       " 1.3478720761175205,\n",
       " 0.89901859014349028,\n",
       " 1.6059705401210742,\n",
       " 1.2682131432898591,\n",
       " 1.1986173195592631,\n",
       " 1.1051900761316305,\n",
       " 1.573071154107768,\n",
       " 1.1751202631561046,\n",
       " 1.25284483192426,\n",
       " 0.85510728237830547,\n",
       " 1.4188324092066447,\n",
       " 0.98662267877315379,\n",
       " 1.1474253478047705,\n",
       " 1.2285885627906645,\n",
       " 1.2181957412805045,\n",
       " 1.4084049526031006,\n",
       " 1.2666830683168857,\n",
       " 0.94331371418917564,\n",
       " 0.94510863627222963,\n",
       " 1.0326821676141049,\n",
       " 1.1269682929488047,\n",
       " 1.0669124118759212,\n",
       " 1.7800774149833805,\n",
       " 1.4000952800993423,\n",
       " 0.99169159616316604,\n",
       " 1.0818383993192875,\n",
       " 0.71390205366765758,\n",
       " 1.3499341030349545,\n",
       " 0.77081089428509098,\n",
       " 1.5689668535733727,\n",
       " 0.88933467902511598,\n",
       " 1.3514800596337699,\n",
       " 1.8094876092331882,\n",
       " 0.95815855298497965,\n",
       " 0.84063678004611286,\n",
       " 2.1136398141928638,\n",
       " 0.82057785630132951,\n",
       " 0.89444695268464547,\n",
       " 0.9360331576776697,\n",
       " 0.90398772076151324,\n",
       " 1.3329389924468764,\n",
       " 0.95260310428348671,\n",
       " 1.4115759424415424,\n",
       " 0.97098647457747056,\n",
       " 1.0626421355046949,\n",
       " 1.2231622039695726,\n",
       " 1.8149943736524656,\n",
       " 1.0550856435050899,\n",
       " 1.3247369341729367,\n",
       " 1.2653273776315486,\n",
       " 0.97840054559409995,\n",
       " 1.4574700591409611,\n",
       " 1.0124827718533049,\n",
       " 1.9780954611105417,\n",
       " 1.1393401449850837,\n",
       " 0.9761455193515971,\n",
       " 2.3540268489839833,\n",
       " 1.1957991139793747,\n",
       " 1.2970521526652738,\n",
       " 1.9370900322862215,\n",
       " 1.4119900815728887,\n",
       " 0.83329993447057427,\n",
       " 1.0133354937917753,\n",
       " 1.176870181236636,\n",
       " 1.2722022742570889,\n",
       " 0.76752969019962736,\n",
       " 1.3632585153861199,\n",
       " 1.3239699620186836,\n",
       " 1.0003390649804904,\n",
       " 1.179760916839282,\n",
       " 1.5065479318119455,\n",
       " 0.80944210893449198,\n",
       " 1.0274084475813114,\n",
       " 1.0381525305423729,\n",
       " 1.4026295861062448,\n",
       " 0.9603784109472544,\n",
       " 0.84422953585924232,\n",
       " 1.1339147460039329,\n",
       " 0.85070738784724664,\n",
       " 0.92834113411623298,\n",
       " 1.2711190133449766,\n",
       " 1.5296169803111814,\n",
       " 0.96843102512229806,\n",
       " 1.367961892470859,\n",
       " 0.84690140234175504,\n",
       " 1.0287727914999467,\n",
       " 0.94241984746660656,\n",
       " 1.0887653362115155,\n",
       " 1.2805312302297021,\n",
       " 1.2216896835198112,\n",
       " 1.2451889771870943,\n",
       " 2.3589412216290304,\n",
       " 0.80469667013616375,\n",
       " 1.1499245457467799,\n",
       " 1.0137772265968306,\n",
       " 0.73935010658492684,\n",
       " 1.1987496649436886,\n",
       " 1.493618703517507,\n",
       " 0.6462577092059314,\n",
       " 1.0919721543168783,\n",
       " 0.82712552205938894,\n",
       " 1.0121770801130618,\n",
       " 1.0359564994375041,\n",
       " 1.2210093540734168,\n",
       " 0.76903302874231649,\n",
       " 0.98128965826945191,\n",
       " 2.1628942460549392,\n",
       " 1.0670598547747046,\n",
       " 1.290076566083145,\n",
       " 1.3167245354218049,\n",
       " 1.5651247917691378,\n",
       " 1.4391367846103751,\n",
       " 1.0009160385870528,\n",
       " 0.95980723281805713,\n",
       " 0.95376700328603115,\n",
       " 1.1571704141725525,\n",
       " 0.76720479579306999,\n",
       " 0.75818466360470582,\n",
       " 1.0761646244662852,\n",
       " 2.2637707755952881,\n",
       " 1.4504561283298758,\n",
       " 1.2293625864371993,\n",
       " 2.1065142339803629,\n",
       " 0.90296897333531778,\n",
       " 1.2203279103514026,\n",
       " 0.91584034511894985,\n",
       " 1.7977304158296605,\n",
       " 0.7290092588596806,\n",
       " 1.0565624142392067,\n",
       " 1.3095530400350468,\n",
       " 0.83997170393703058,\n",
       " 1.059431519105186,\n",
       " 1.0929228377917592,\n",
       " 1.2367787308089011,\n",
       " 1.1807437452012719,\n",
       " 1.1968827030727649,\n",
       " 1.4873998767757868,\n",
       " 2.4482861034028525,\n",
       " 0.98238324391145571,\n",
       " 1.1844598814271481,\n",
       " 1.315590944434865,\n",
       " 1.1038682246343601,\n",
       " 1.4761259239918412,\n",
       " 1.8163337909857475,\n",
       " 2.4758616972852256,\n",
       " 0.87772291263416757,\n",
       " 0.89025812032529661,\n",
       " 1.1171045548273848,\n",
       " 0.82897936306625386,\n",
       " 1.8885942445868382,\n",
       " 0.89592658320898733,\n",
       " 1.2929034622982623,\n",
       " 0.9621171235456969,\n",
       " 1.0583022448604409,\n",
       " 1.438626318790164,\n",
       " 1.1495525784153284,\n",
       " 0.65249067380096926,\n",
       " 1.8667516242241573,\n",
       " 0.88621882581713951,\n",
       " 1.9144283056544862,\n",
       " 1.1750949511759461]"
      ]
     },
     "execution_count": 316,
     "metadata": {},
     "output_type": "execute_result"
    }
   ],
   "source": [
    "loss_to_avr"
   ]
  },
  {
   "cell_type": "code",
   "execution_count": 158,
   "metadata": {},
   "outputs": [
    {
     "data": {
      "text/plain": [
       "660"
      ]
     },
     "execution_count": 158,
     "metadata": {},
     "output_type": "execute_result"
    }
   ],
   "source": [
    "len(list(arima_models_byrest.keys()))"
   ]
  },
  {
   "cell_type": "code",
   "execution_count": null,
   "metadata": {
    "collapsed": true
   },
   "outputs": [],
   "source": [
    "class classARIMA(BaseEstimator, RegressorMixin):\n",
    "    \"\"\" Regularized Logistic Regression\"\"\"\n",
    "    \n",
    "    def __init__(self, order=(1,0,3),rest_data_dict, train_dict,\\\n",
    "                test_dict, l2param=1, models_dict, validation_dict):\n",
    "        if len(order) < 0:\n",
    "            raise ValueError('You should have at least 3 values for order')\n",
    "        self.order = order\n",
    "        self.rest_data_dict = rest_data_dict\n",
    "        self.train_dict = train_dict\n",
    "        self.validation_dict = validation_dict\n",
    "        self.test_dict = test_dict\n",
    "        self.l2param = l2param\n",
    "        self.models_dict = models_dict\n",
    "        \n",
    "    def fit(self, theta):\n",
    "        order = self.order\n",
    "        train_dict = self.train_dict\n",
    "        test_dict = self.test_dict\n",
    "        num_train_rests = len(list(train_dict.keys())) \n",
    "        num_valid_rests = len(list(validation_dict.keys())) \n",
    "        num_test_rests = len(list(test_dict.keys()))\n",
    "        \n",
    "        num_models = len(list(models_dict.keys()))\n",
    "        \n",
    "        ## endo - exog ne yapacagina karar ver \n",
    "        train_ready_to_fit = [ARIMA(endog=arima_visitors_endo, order=(1,0,3), \\\n",
    "                              exog=, \\\n",
    "                              dates=arima_dates, freq=\"D\")\\\n",
    "                        for key in list(models_dict.keys())]\n",
    "        \n",
    "        valid_ready_to_fit = [ARIMA(endog=endo_valid, order=(1,0,3), \\\n",
    "                              exog=\n",
    "                              dates=arima_dates, freq=\"D\")\\\n",
    "                        for key in list(models_dict.keys())]\n",
    "        \n",
    "        fitted_model_array = np.array([model.fit(start_params=None, trend=\"nc\",\\\n",
    "                                                 method=\"mle\", maxiter=10, transparams=True, disp=0)\\\n",
    "                                      for model in ])\n",
    "        \n",
    "        def weighted_objective(theta):\n",
    "            \n",
    "            weighted_objective = (1/num_models) \n",
    "            return weighted_objective   \n",
    "        \n",
    "        self.f_objective = f_objective\n",
    "        theta_0 = np.zeros(num_models)\n",
    "        self.theta_ = minimize(f_objective, theta_0).x \n",
    "        return self\n",
    "\n",
    "    def predict(self, X):\n",
    "        try:\n",
    "            getattr(self, \"theta_\")\n",
    "        except AttributeError:\n",
    "            raise RuntimeError(\"You must train classifer before predicting data!\")\n",
    "        return np.dot(X, self.theta_)\n",
    "\n",
    "    def score(self, X, y):\n",
    "        # Average log loss\n",
    "        try:\n",
    "            getattr(self, \"theta_\")\n",
    "        except AttributeError:\n",
    "            raise RuntimeError(\"You must train classifer before predicting data!\")\n",
    "        ## log-likelihood - not negative\n",
    "        theta = np.array(self.theta_).reshape(-1)\n",
    "        y = map_y(np.array(y), method=\"erm\")\n",
    "        s = np.dot(X, theta)\n",
    "#         l2param = self.l2param\n",
    "        h = - logreg_logsumexp(np.dot(np.transpose(y), s))\n",
    "        log_likelihood = h\n",
    "        return log_likelihood\n",
    "    "
   ]
  },
  {
   "cell_type": "code",
   "execution_count": 64,
   "metadata": {
    "collapsed": true
   },
   "outputs": [],
   "source": []
  },
  {
   "cell_type": "code",
   "execution_count": null,
   "metadata": {
    "collapsed": true
   },
   "outputs": [],
   "source": []
  }
 ],
 "metadata": {
  "kernelspec": {
   "display_name": "Python 3",
   "language": "python",
   "name": "python3"
  },
  "language_info": {
   "codemirror_mode": {
    "name": "ipython",
    "version": 3
   },
   "file_extension": ".py",
   "mimetype": "text/x-python",
   "name": "python",
   "nbconvert_exporter": "python",
   "pygments_lexer": "ipython3",
   "version": "3.6.1"
  }
 },
 "nbformat": 4,
 "nbformat_minor": 2
}
